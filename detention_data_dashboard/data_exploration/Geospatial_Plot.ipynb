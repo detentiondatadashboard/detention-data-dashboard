{
 "cells": [
  {
   "cell_type": "code",
   "execution_count": 16,
   "id": "c1ae5e06",
   "metadata": {},
   "outputs": [],
   "source": [
    "#Importing the Nominatim geocoder class \n",
    "import pickle\n",
    "import numpy as np\n",
    "import pandas as pd\n",
    "from geopy.geocoders import Photon, Nominatim\n",
    "geolocator = Nominatim(user_agent=\"example app\")"
   ]
  },
  {
   "cell_type": "code",
   "execution_count": 17,
   "id": "e943cded",
   "metadata": {
    "scrolled": false
   },
   "outputs": [],
   "source": [
    "df = pd.read_csv('../../data/ice-facilities.csv')"
   ]
  },
  {
   "cell_type": "code",
   "execution_count": 18,
   "id": "d4befec9",
   "metadata": {},
   "outputs": [],
   "source": [
    "full_addresses = df['city'] + ', ' +  df['state'] + ', USA '"
   ]
  },
  {
   "cell_type": "code",
   "execution_count": 19,
   "id": "64f84f63",
   "metadata": {},
   "outputs": [],
   "source": [
    "x = full_addresses.tolist()\n",
    "y = np.unique(x)"
   ]
  },
  {
   "cell_type": "code",
   "execution_count": 20,
   "id": "7aac446b",
   "metadata": {},
   "outputs": [],
   "source": [
    "data_ = y[100:200]"
   ]
  },
  {
   "cell_type": "code",
   "execution_count": 21,
   "id": "e6f44384",
   "metadata": {},
   "outputs": [],
   "source": [
    "data_frame = pd.DataFrame(data = data_, columns = ['address'])\n",
    "data_frame['lat'] = np.zeros(100).tolist()\n",
    "data_frame['long'] = np.zeros(100).tolist()"
   ]
  },
  {
   "cell_type": "code",
   "execution_count": 22,
   "id": "8086a66e",
   "metadata": {},
   "outputs": [
    {
     "name": "stderr",
     "output_type": "stream",
     "text": [
      "/var/folders/xc/3ndr1sy52yd9dpvk9qlffhdw0000gn/T/ipykernel_8762/2564822778.py:9: SettingWithCopyWarning: \n",
      "A value is trying to be set on a copy of a slice from a DataFrame\n",
      "\n",
      "See the caveats in the documentation: https://pandas.pydata.org/pandas-docs/stable/user_guide/indexing.html#returning-a-view-versus-a-copy\n",
      "  data_frame['long'][i] = location.latitude\n",
      "/var/folders/xc/3ndr1sy52yd9dpvk9qlffhdw0000gn/T/ipykernel_8762/2564822778.py:10: SettingWithCopyWarning: \n",
      "A value is trying to be set on a copy of a slice from a DataFrame\n",
      "\n",
      "See the caveats in the documentation: https://pandas.pydata.org/pandas-docs/stable/user_guide/indexing.html#returning-a-view-versus-a-copy\n",
      "  data_frame['lat'][i] = location.longitude\n",
      "/var/folders/xc/3ndr1sy52yd9dpvk9qlffhdw0000gn/T/ipykernel_8762/2564822778.py:6: SettingWithCopyWarning: \n",
      "A value is trying to be set on a copy of a slice from a DataFrame\n",
      "\n",
      "See the caveats in the documentation: https://pandas.pydata.org/pandas-docs/stable/user_guide/indexing.html#returning-a-view-versus-a-copy\n",
      "  data_frame['long'][i] = None\n",
      "/var/folders/xc/3ndr1sy52yd9dpvk9qlffhdw0000gn/T/ipykernel_8762/2564822778.py:7: SettingWithCopyWarning: \n",
      "A value is trying to be set on a copy of a slice from a DataFrame\n",
      "\n",
      "See the caveats in the documentation: https://pandas.pydata.org/pandas-docs/stable/user_guide/indexing.html#returning-a-view-versus-a-copy\n",
      "  data_frame['lat'][i] = None\n"
     ]
    }
   ],
   "source": [
    "lat= []\n",
    "long = []\n",
    "for i in range(len(data_)):\n",
    "    location = geolocator.geocode(data_[i])\n",
    "    if location == None:\n",
    "        data_frame['long'][i] = None\n",
    "        data_frame['lat'][i] = None\n",
    "    else:\n",
    "        data_frame['long'][i] = location.latitude\n",
    "        data_frame['lat'][i] = location.longitude"
   ]
  },
  {
   "cell_type": "code",
   "execution_count": null,
   "id": "894fcbcd",
   "metadata": {},
   "outputs": [],
   "source": []
  },
  {
   "cell_type": "code",
   "execution_count": null,
   "id": "91d369b5",
   "metadata": {},
   "outputs": [],
   "source": [
    "lat = pickle.load(open('lat.pkl', 'rb'))\n",
    "long = pickle.load(open('long.pkl', 'rb'))"
   ]
  },
  {
   "cell_type": "code",
   "execution_count": null,
   "id": "cf36d4e8",
   "metadata": {},
   "outputs": [],
   "source": [
    "long1 = pickle.load(open('long__451_483.pkl', 'rb'))\n",
    "long2 = pickle.load(open('long_484_515_540__484_550.pkl', 'rb'))\n",
    "\n",
    "lat1 = pickle.load(open('lat__451_483.pkl', 'rb'))\n",
    "lat2 = pickle.load(open('lat_484_515_540__484_550.pkl', 'rb'))"
   ]
  },
  {
   "cell_type": "code",
   "execution_count": null,
   "id": "58fe04a2",
   "metadata": {},
   "outputs": [],
   "source": [
    "if long1[0] == long[-1] and lat1[0] == lat[-1]:\n",
    "    for item in long1[1:]:\n",
    "        long.append(item)\n",
    "    for item in lat1[1:]:\n",
    "        lat.append(item)\n",
    "else:\n",
    "    for item in long1:\n",
    "        long.append(item)\n",
    "    for item in lat1:\n",
    "        lat.append(item)"
   ]
  },
  {
   "cell_type": "code",
   "execution_count": null,
   "id": "949c9b7c",
   "metadata": {},
   "outputs": [],
   "source": [
    "if long2[0] == long1[-1] and lat2[0] == lat1[-1]:\n",
    "    for item in long2[1:]:\n",
    "        long.append(item)\n",
    "    for item in lat2[1:]:\n",
    "        lat.append(item)\n",
    "else:\n",
    "    for item in long2:\n",
    "        long.append(item)\n",
    "    for item in lat2:\n",
    "        lat.append(item)"
   ]
  },
  {
   "cell_type": "code",
   "execution_count": null,
   "id": "4697b729",
   "metadata": {},
   "outputs": [],
   "source": [
    "print(len(lat))\n",
    "print(len(long))\n"
   ]
  },
  {
   "cell_type": "code",
   "execution_count": null,
   "id": "7bb8760e",
   "metadata": {},
   "outputs": [],
   "source": [
    "with open('lat.pkl', 'wb') as f:\n",
    "    pickle.dump(lat, f)\n",
    "    \n",
    "with open('long.pkl', 'wb') as f:\n",
    "    pickle.dump(long, f)"
   ]
  },
  {
   "cell_type": "code",
   "execution_count": null,
   "id": "007a0003",
   "metadata": {},
   "outputs": [],
   "source": []
  },
  {
   "cell_type": "code",
   "execution_count": null,
   "id": "a64bd54c",
   "metadata": {},
   "outputs": [],
   "source": []
  },
  {
   "cell_type": "code",
   "execution_count": null,
   "id": "61f46ed0",
   "metadata": {},
   "outputs": [],
   "source": [
    "lat.append(temp3[1:])\n",
    "lat.append(temp4[1:])\n",
    "\n",
    "long.append(temp1[1:])\n",
    "long.append(temp2[1:])"
   ]
  },
  {
   "cell_type": "code",
   "execution_count": null,
   "id": "8d990392",
   "metadata": {},
   "outputs": [],
   "source": []
  },
  {
   "cell_type": "code",
   "execution_count": null,
   "id": "64304c17",
   "metadata": {
    "scrolled": true
   },
   "outputs": [],
   "source": [
    "lat = np.array(lat)\n",
    "long = np.array(long)"
   ]
  },
  {
   "cell_type": "code",
   "execution_count": null,
   "id": "f6363a78",
   "metadata": {},
   "outputs": [],
   "source": []
  },
  {
   "cell_type": "code",
   "execution_count": null,
   "id": "a921bac8",
   "metadata": {},
   "outputs": [],
   "source": []
  },
  {
   "cell_type": "code",
   "execution_count": null,
   "id": "872dd1d6",
   "metadata": {},
   "outputs": [],
   "source": []
  },
  {
   "cell_type": "markdown",
   "id": "8fbff2a7",
   "metadata": {},
   "source": [
    "# read in the current files"
   ]
  },
  {
   "cell_type": "code",
   "execution_count": null,
   "id": "04c35a4d",
   "metadata": {},
   "outputs": [],
   "source": []
  }
 ],
 "metadata": {
  "kernelspec": {
   "display_name": "Python 3 (ipykernel)",
   "language": "python",
   "name": "python3"
  },
  "language_info": {
   "codemirror_mode": {
    "name": "ipython",
    "version": 3
   },
   "file_extension": ".py",
   "mimetype": "text/x-python",
   "name": "python",
   "nbconvert_exporter": "python",
   "pygments_lexer": "ipython3",
   "version": "3.8.11"
  }
 },
 "nbformat": 4,
 "nbformat_minor": 5
}
