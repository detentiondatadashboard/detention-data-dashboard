{
 "cells": [
  {
   "cell_type": "code",
   "execution_count": null,
   "id": "c1ae5e06",
   "metadata": {},
   "outputs": [],
   "source": [
    "#Importing the Nominatim geocoder class \n",
    "from geopy.geocoders import Photon, Nominatim\n",
    "geolocator = Nominatim(user_agent=\"example app\")\n",
    "x = full_addresses.tolist()\n",
    "y = np.unique(x)\n",
    "data_frame = pd.DataFrame(data = y[:100], columns = ['address'])\n",
    "data_frame['latitude'] = np.zeros(100).tolist()\n",
    "lat= []\n",
    "long = []\n",
    "for i in range(52,100):\n",
    "    location = geolocator.geocode(y[:100][i])\n",
    "    if location == None:\n",
    "        data_frame['longitude'][i] = None\n",
    "        data_frame['latitude'][i] = None\n",
    "    else:\n",
    "        data_frame['longitude'][i] = location.latitude\n",
    "        data_frame['latitude'][i] = location.longitude"
   ]
  },
  {
   "cell_type": "code",
   "execution_count": null,
   "id": "f61892cf",
   "metadata": {},
   "outputs": [],
   "source": []
  },
  {
   "cell_type": "code",
   "execution_count": 2,
   "id": "373a728e",
   "metadata": {},
   "outputs": [],
   "source": [
    "import pickle\n",
    "import numpy as np"
   ]
  },
  {
   "cell_type": "code",
   "execution_count": 3,
   "id": "91d369b5",
   "metadata": {},
   "outputs": [],
   "source": [
    "lat = pickle.load(open('lat.pkl', 'rb'))\n",
    "long = pickle.load(open('long.pkl', 'rb'))"
   ]
  },
  {
   "cell_type": "code",
   "execution_count": 20,
   "id": "cc0ce9f6",
   "metadata": {},
   "outputs": [
    {
     "name": "stdout",
     "output_type": "stream",
     "text": [
      "Arrests_descriptive_analysis.ipynb    lat__751_850.pkl\r\n",
      "Encounters_Descriptive_Analysis.ipynb long.pkl\r\n",
      "Removals_Descriptive_Analysis.ipynb   long_1051_1079.pkl\r\n",
      "Untitled.ipynb                        long_1079_1096.pkl\r\n",
      "Untitled1.ipynb                       long_1097_1150.pkl\r\n",
      "lat.pkl                               long_1172__1151_1173.pkl\r\n",
      "lat_1051_1079.pkl                     long_1173.pkl\r\n",
      "lat_1079_1096.pkl                     long_484_515_540__484_550.pkl\r\n",
      "lat_1097_1150.pkl                     long_616_550_650__484_550.pkl\r\n",
      "lat_1172__1151_1173.pkl               long_659_728_742__651_750.pkl\r\n",
      "lat_1173.pkl                          long_942__851_950.pkl\r\n",
      "lat_484_515_540__484_550.pkl          long_977_1007_1033__951_1050.pkl\r\n",
      "lat_616__550_650.pkl                  long__351_483.pkl\r\n",
      "lat_659_728_742__651_750.pkl          long__751_850.pkl\r\n",
      "lat_942__851_950.pkl                  maddie_exploration.ipynb\r\n",
      "lat_977_1007_1033__951_1050.pkl       plot_2.ipynb\r\n",
      "lat__451_483.pkl                      test.png\r\n"
     ]
    }
   ],
   "source": [
    "!ls"
   ]
  },
  {
   "cell_type": "code",
   "execution_count": 21,
   "id": "cf36d4e8",
   "metadata": {},
   "outputs": [
    {
     "ename": "FileNotFoundError",
     "evalue": "[Errno 2] No such file or directory: 'long__451_483.pkl'",
     "output_type": "error",
     "traceback": [
      "\u001b[0;31m---------------------------------------------------------------------------\u001b[0m",
      "\u001b[0;31mFileNotFoundError\u001b[0m                         Traceback (most recent call last)",
      "\u001b[0;32m/var/folders/xc/3ndr1sy52yd9dpvk9qlffhdw0000gn/T/ipykernel_5215/2979034045.py\u001b[0m in \u001b[0;36m<module>\u001b[0;34m\u001b[0m\n\u001b[0;32m----> 1\u001b[0;31m \u001b[0mlong1\u001b[0m \u001b[0;34m=\u001b[0m \u001b[0mpickle\u001b[0m\u001b[0;34m.\u001b[0m\u001b[0mload\u001b[0m\u001b[0;34m(\u001b[0m\u001b[0mopen\u001b[0m\u001b[0;34m(\u001b[0m\u001b[0;34m'long__451_483.pkl'\u001b[0m\u001b[0;34m,\u001b[0m \u001b[0;34m'rb'\u001b[0m\u001b[0;34m)\u001b[0m\u001b[0;34m)\u001b[0m\u001b[0;34m\u001b[0m\u001b[0;34m\u001b[0m\u001b[0m\n\u001b[0m\u001b[1;32m      2\u001b[0m \u001b[0mlong2\u001b[0m \u001b[0;34m=\u001b[0m \u001b[0mpickle\u001b[0m\u001b[0;34m.\u001b[0m\u001b[0mload\u001b[0m\u001b[0;34m(\u001b[0m\u001b[0mopen\u001b[0m\u001b[0;34m(\u001b[0m\u001b[0;34m'long_484_515_540__484_550.pkl'\u001b[0m\u001b[0;34m,\u001b[0m \u001b[0;34m'rb'\u001b[0m\u001b[0;34m)\u001b[0m\u001b[0;34m)\u001b[0m\u001b[0;34m\u001b[0m\u001b[0;34m\u001b[0m\u001b[0m\n\u001b[1;32m      3\u001b[0m \u001b[0;34m\u001b[0m\u001b[0m\n\u001b[1;32m      4\u001b[0m \u001b[0mlat1\u001b[0m \u001b[0;34m=\u001b[0m \u001b[0mpickle\u001b[0m\u001b[0;34m.\u001b[0m\u001b[0mload\u001b[0m\u001b[0;34m(\u001b[0m\u001b[0mopen\u001b[0m\u001b[0;34m(\u001b[0m\u001b[0;34m'lat__451_483.pkl'\u001b[0m\u001b[0;34m,\u001b[0m \u001b[0;34m'rb'\u001b[0m\u001b[0;34m)\u001b[0m\u001b[0;34m)\u001b[0m\u001b[0;34m\u001b[0m\u001b[0;34m\u001b[0m\u001b[0m\n\u001b[1;32m      5\u001b[0m \u001b[0mlat2\u001b[0m \u001b[0;34m=\u001b[0m \u001b[0mpickle\u001b[0m\u001b[0;34m.\u001b[0m\u001b[0mload\u001b[0m\u001b[0;34m(\u001b[0m\u001b[0mopen\u001b[0m\u001b[0;34m(\u001b[0m\u001b[0;34m'lat_484_515_540__484_550.pkl'\u001b[0m\u001b[0;34m,\u001b[0m \u001b[0;34m'rb'\u001b[0m\u001b[0;34m)\u001b[0m\u001b[0;34m)\u001b[0m\u001b[0;34m\u001b[0m\u001b[0;34m\u001b[0m\u001b[0m\n",
      "\u001b[0;31mFileNotFoundError\u001b[0m: [Errno 2] No such file or directory: 'long__451_483.pkl'"
     ]
    }
   ],
   "source": [
    "long1 = pickle.load(open('long__451_483.pkl', 'rb'))\n",
    "long2 = pickle.load(open('long_484_515_540__484_550.pkl', 'rb'))\n",
    "\n",
    "lat1 = pickle.load(open('lat__451_483.pkl', 'rb'))\n",
    "lat2 = pickle.load(open('lat_484_515_540__484_550.pkl', 'rb'))"
   ]
  },
  {
   "cell_type": "code",
   "execution_count": 16,
   "id": "58fe04a2",
   "metadata": {},
   "outputs": [],
   "source": [
    "if long1[0] == long[-1] and lat1[0] == lat[-1]:\n",
    "    for item in long1[1:]:\n",
    "        long.append(item)\n",
    "    for item in lat1[1:]:\n",
    "        lat.append(item)\n",
    "else:\n",
    "    for item in long1:\n",
    "        long.append(item)\n",
    "    for item in lat1:\n",
    "        lat.append(item)"
   ]
  },
  {
   "cell_type": "code",
   "execution_count": 17,
   "id": "949c9b7c",
   "metadata": {},
   "outputs": [],
   "source": [
    "if long2[0] == long1[-1] and lat2[0] == lat1[-1]:\n",
    "    for item in long2[1:]:\n",
    "        long.append(item)\n",
    "    for item in lat2[1:]:\n",
    "        lat.append(item)\n",
    "else:\n",
    "    for item in long2:\n",
    "        long.append(item)\n",
    "    for item in lat2:\n",
    "        lat.append(item)"
   ]
  },
  {
   "cell_type": "code",
   "execution_count": 18,
   "id": "4697b729",
   "metadata": {},
   "outputs": [
    {
     "name": "stdout",
     "output_type": "stream",
     "text": [
      "444\n",
      "444\n"
     ]
    }
   ],
   "source": [
    "print(len(lat))\n",
    "print(len(long))\n"
   ]
  },
  {
   "cell_type": "code",
   "execution_count": 19,
   "id": "7bb8760e",
   "metadata": {},
   "outputs": [],
   "source": [
    "with open('lat.pkl', 'wb') as f:\n",
    "    pickle.dump(lat, f)\n",
    "    \n",
    "with open('long.pkl', 'wb') as f:\n",
    "    pickle.dump(long, f)"
   ]
  },
  {
   "cell_type": "code",
   "execution_count": null,
   "id": "007a0003",
   "metadata": {},
   "outputs": [],
   "source": []
  },
  {
   "cell_type": "code",
   "execution_count": null,
   "id": "a64bd54c",
   "metadata": {},
   "outputs": [],
   "source": []
  },
  {
   "cell_type": "code",
   "execution_count": null,
   "id": "61f46ed0",
   "metadata": {},
   "outputs": [],
   "source": [
    "lat.append(temp3[1:])\n",
    "lat.append(temp4[1:])\n",
    "\n",
    "long.append(temp1[1:])\n",
    "long.append(temp2[1:])"
   ]
  },
  {
   "cell_type": "code",
   "execution_count": null,
   "id": "8d990392",
   "metadata": {},
   "outputs": [],
   "source": []
  },
  {
   "cell_type": "code",
   "execution_count": null,
   "id": "64304c17",
   "metadata": {
    "scrolled": true
   },
   "outputs": [],
   "source": [
    "lat = np.array(lat)\n",
    "long = np.array(long)"
   ]
  },
  {
   "cell_type": "code",
   "execution_count": null,
   "id": "f6363a78",
   "metadata": {},
   "outputs": [],
   "source": []
  },
  {
   "cell_type": "code",
   "execution_count": null,
   "id": "a921bac8",
   "metadata": {},
   "outputs": [],
   "source": []
  },
  {
   "cell_type": "code",
   "execution_count": null,
   "id": "872dd1d6",
   "metadata": {},
   "outputs": [],
   "source": []
  },
  {
   "cell_type": "markdown",
   "id": "8fbff2a7",
   "metadata": {},
   "source": [
    "# read in the current files"
   ]
  },
  {
   "cell_type": "code",
   "execution_count": null,
   "id": "04c35a4d",
   "metadata": {},
   "outputs": [],
   "source": []
  }
 ],
 "metadata": {
  "kernelspec": {
   "display_name": "Python 3 (ipykernel)",
   "language": "python",
   "name": "python3"
  },
  "language_info": {
   "codemirror_mode": {
    "name": "ipython",
    "version": 3
   },
   "file_extension": ".py",
   "mimetype": "text/x-python",
   "name": "python",
   "nbconvert_exporter": "python",
   "pygments_lexer": "ipython3",
   "version": "3.8.11"
  }
 },
 "nbformat": 4,
 "nbformat_minor": 5
}
