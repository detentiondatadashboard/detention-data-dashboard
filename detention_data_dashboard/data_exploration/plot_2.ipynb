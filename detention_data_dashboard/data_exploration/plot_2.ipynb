{
 "cells": [
  {
   "cell_type": "code",
   "execution_count": 1,
   "id": "9fb9c2a5",
   "metadata": {},
   "outputs": [],
   "source": [
    "import ipywidgets as widgets\n",
    "import matplotlib.pyplot as plt\n",
    "import numpy as np\n",
    "import pandas as pd\n",
    "from tabulate import tabulate\n",
    "import yaml"
   ]
  },
  {
   "cell_type": "markdown",
   "id": "d76787b4",
   "metadata": {},
   "source": [
    "# Reading in data"
   ]
  },
  {
   "cell_type": "code",
   "execution_count": 2,
   "id": "769f1853",
   "metadata": {},
   "outputs": [],
   "source": [
    "#values for csv importing\n",
    "csv_opts = {'sep': '|',\n",
    "           'quotechar': '\"',\n",
    "           #'compression': 'gzip',\n",
    "           'encoding': 'utf-8'}"
   ]
  },
  {
   "cell_type": "code",
   "execution_count": 6,
   "id": "4d224318",
   "metadata": {},
   "outputs": [],
   "source": [
    "with open('../../data/arrest_dtypes.yaml', 'r') as yamlfile:\n",
    "        arrest_dtypes = yaml.load(yamlfile, Loader=yaml.FullLoader)\n",
    "#reading in CSV file\n",
    "arrests = pd.read_csv('../../data/arrests.csv', **csv_opts, dtype=arrest_dtypes)\n",
    "\n",
    "with open('../../data/encounter_dtypes.yaml', 'r') as yamlfile:\n",
    "        arrest_dtypes = yaml.load(yamlfile, Loader=yaml.FullLoader)\n",
    "#reading in CSV file\n",
    "encounters = pd.read_csv('../../data/encounters.csv', **csv_opts, dtype=arrest_dtypes)\n",
    "\n",
    "with open('../../data/removal_dtypes.yaml', 'r') as yamlfile:\n",
    "        arrest_dtypes = yaml.load(yamlfile, Loader=yaml.FullLoader)\n",
    "#reading in CSV file\n",
    "removals = pd.read_csv('../../data/removals.csv', **csv_opts, dtype=arrest_dtypes)\n",
    "\n",
    "#reading in CSV file\n",
    "facilities = pd.read_csv('../../data/ice-facilities.csv')"
   ]
  },
  {
   "cell_type": "code",
   "execution_count": 7,
   "id": "ded4599e",
   "metadata": {
    "scrolled": true
   },
   "outputs": [],
   "source": [
    "#putting event date into m/d/y format\n",
    "arrests['apprehension_date'] = pd.to_datetime(\n",
    "    arrests['apprehension_date'], format='%m/%d/%Y')\n",
    "\n",
    "#putting event date into m/d/y format\n",
    "encounters['event_date'] = pd.to_datetime(encounters['event_date'], format='%m/%d/%Y')\n",
    "\n",
    "#putting date variables into m/d/y format\n",
    "removals['apprehension_date'] = pd.to_datetime(removals['apprehension_date'], \n",
    "                                               format='%m/%d/%Y', errors='coerce')\n",
    "removals['departed_date'] = pd.to_datetime(removals['departed_date'], format='%m/%d/%Y')\n",
    "removals['removal_date'] = pd.to_datetime(removals['removal_date'], format='%m/%d/%Y')"
   ]
  },
  {
   "cell_type": "code",
   "execution_count": 9,
   "id": "b6953d93",
   "metadata": {},
   "outputs": [],
   "source": [
    "# adding year and month columns\n",
    "arrests[\"year\"] = arrests[\"apprehension_date\"].dt.strftime('%Y')\n",
    "arrests[\"month\"] = arrests[\"apprehension_date\"].dt.strftime('%m')\n",
    "\n",
    "arrests.set_index('apprehension_date').groupby(\n",
    "    pd.Grouper(freq='AS-OCT'))['id'].count()\n",
    "\n",
    "arrests.set_index('apprehension_date').groupby(\n",
    "    pd.Grouper(freq='MS'))['id'].count()"
   ]
  },
  {
   "cell_type": "markdown",
   "id": "3da1e36c",
   "metadata": {},
   "source": [
    "## Plot 2 idea\n",
    "- dropdown to select aor\n",
    "- then see encounters, removals, and arrests all on same plot"
   ]
  },
  {
   "cell_type": "code",
   "execution_count": 8,
   "id": "46abf047",
   "metadata": {},
   "outputs": [],
   "source": [
    "import plotly.express as px"
   ]
  },
  {
   "cell_type": "code",
   "execution_count": 17,
   "id": "c84c6b58",
   "metadata": {},
   "outputs": [],
   "source": [
    "fy = ['2015-10-01', '2016-10-01', '2017-10-01', '2018-10-01']"
   ]
  },
  {
   "cell_type": "code",
   "execution_count": 21,
   "id": "24d8b8e9",
   "metadata": {},
   "outputs": [],
   "source": [
    "aor = np.unique(facilities['aor']).tolist()"
   ]
  },
  {
   "cell_type": "markdown",
   "id": "e957c20c",
   "metadata": {},
   "source": [
    "## Arrests by FY plot"
   ]
  },
  {
   "cell_type": "code",
   "execution_count": 23,
   "id": "8b57a758",
   "metadata": {},
   "outputs": [],
   "source": [
    "# creating subset of arrests by AOR over time\n",
    "arrests_by_fy = arrests[[\"aor\", \"apprehension_date\", \"id\"]]\n",
    "arrests_by_fy = arrests_by_fy.groupby(\n",
    "    [\"aor\", \"apprehension_date\"], as_index=False)['id'].count()\n",
    "\n",
    "# pivot table so dates are rows and AORs are columns\n",
    "arrests_by_fy = arrests_by_fy.pivot(\n",
    "    index='apprehension_date', columns='aor', values='id')\n",
    "\n",
    "# grouping by fiscal year\n",
    "arrests_by_fy = arrests_by_fy.groupby(\n",
    "    pd.Grouper(freq='AS-OCT'), dropna=False).sum()"
   ]
  },
  {
   "cell_type": "code",
   "execution_count": 24,
   "id": "c0d97de0",
   "metadata": {},
   "outputs": [
    {
     "data": {
      "application/vnd.plotly.v1+json": {
       "config": {
        "plotlyServerURL": "https://plot.ly"
       },
       "data": [
        {
         "hovertemplate": "variable=ATL<br>Fiscal Year=%{x}<br>value=%{y}<extra></extra>",
         "legendgroup": "ATL",
         "line": {
          "color": "#636efa",
          "dash": "solid"
         },
         "marker": {
          "symbol": "circle"
         },
         "mode": "lines",
         "name": "ATL",
         "orientation": "v",
         "showlegend": true,
         "type": "scatter",
         "x": [
          "2015-10-01",
          "2016-10-01",
          "2017-10-01",
          "2018-10-01"
         ],
         "xaxis": "x",
         "y": [
          8866,
          13551,
          15189,
          12268
         ],
         "yaxis": "y"
        },
        {
         "hovertemplate": "variable=BAL<br>Fiscal Year=%{x}<br>value=%{y}<extra></extra>",
         "legendgroup": "BAL",
         "line": {
          "color": "#EF553B",
          "dash": "solid"
         },
         "marker": {
          "symbol": "circle"
         },
         "mode": "lines",
         "name": "BAL",
         "orientation": "v",
         "showlegend": true,
         "type": "scatter",
         "x": [
          "2015-10-01",
          "2016-10-01",
          "2017-10-01",
          "2018-10-01"
         ],
         "xaxis": "x",
         "y": [
          1239,
          1666,
          1703,
          1330
         ],
         "yaxis": "y"
        },
        {
         "hovertemplate": "variable=BOS<br>Fiscal Year=%{x}<br>value=%{y}<extra></extra>",
         "legendgroup": "BOS",
         "line": {
          "color": "#00cc96",
          "dash": "solid"
         },
         "marker": {
          "symbol": "circle"
         },
         "mode": "lines",
         "name": "BOS",
         "orientation": "v",
         "showlegend": true,
         "type": "scatter",
         "x": [
          "2015-10-01",
          "2016-10-01",
          "2017-10-01",
          "2018-10-01"
         ],
         "xaxis": "x",
         "y": [
          1858,
          2834,
          2908,
          2266
         ],
         "yaxis": "y"
        },
        {
         "hovertemplate": "variable=BUF<br>Fiscal Year=%{x}<br>value=%{y}<extra></extra>",
         "legendgroup": "BUF",
         "line": {
          "color": "#ab63fa",
          "dash": "solid"
         },
         "marker": {
          "symbol": "circle"
         },
         "mode": "lines",
         "name": "BUF",
         "orientation": "v",
         "showlegend": true,
         "type": "scatter",
         "x": [
          "2015-10-01",
          "2016-10-01",
          "2017-10-01",
          "2018-10-01"
         ],
         "xaxis": "x",
         "y": [
          1173,
          1494,
          1582,
          1206
         ],
         "yaxis": "y"
        },
        {
         "hovertemplate": "variable=CHI<br>Fiscal Year=%{x}<br>value=%{y}<extra></extra>",
         "legendgroup": "CHI",
         "line": {
          "color": "#FFA15A",
          "dash": "solid"
         },
         "marker": {
          "symbol": "circle"
         },
         "mode": "lines",
         "name": "CHI",
         "orientation": "v",
         "showlegend": true,
         "type": "scatter",
         "x": [
          "2015-10-01",
          "2016-10-01",
          "2017-10-01",
          "2018-10-01"
         ],
         "xaxis": "x",
         "y": [
          7055,
          8604,
          9241,
          7769
         ],
         "yaxis": "y"
        },
        {
         "hovertemplate": "variable=DAL<br>Fiscal Year=%{x}<br>value=%{y}<extra></extra>",
         "legendgroup": "DAL",
         "line": {
          "color": "#19d3f3",
          "dash": "solid"
         },
         "marker": {
          "symbol": "circle"
         },
         "mode": "lines",
         "name": "DAL",
         "orientation": "v",
         "showlegend": true,
         "type": "scatter",
         "x": [
          "2015-10-01",
          "2016-10-01",
          "2017-10-01",
          "2018-10-01"
         ],
         "xaxis": "x",
         "y": [
          9634,
          16520,
          17644,
          15571
         ],
         "yaxis": "y"
        },
        {
         "hovertemplate": "variable=DEN<br>Fiscal Year=%{x}<br>value=%{y}<extra></extra>",
         "legendgroup": "DEN",
         "line": {
          "color": "#FF6692",
          "dash": "solid"
         },
         "marker": {
          "symbol": "circle"
         },
         "mode": "lines",
         "name": "DEN",
         "orientation": "v",
         "showlegend": true,
         "type": "scatter",
         "x": [
          "2015-10-01",
          "2016-10-01",
          "2017-10-01",
          "2018-10-01"
         ],
         "xaxis": "x",
         "y": [
          2284,
          2746,
          2755,
          2215
         ],
         "yaxis": "y"
        },
        {
         "hovertemplate": "variable=DET<br>Fiscal Year=%{x}<br>value=%{y}<extra></extra>",
         "legendgroup": "DET",
         "line": {
          "color": "#B6E880",
          "dash": "solid"
         },
         "marker": {
          "symbol": "circle"
         },
         "mode": "lines",
         "name": "DET",
         "orientation": "v",
         "showlegend": true,
         "type": "scatter",
         "x": [
          "2015-10-01",
          "2016-10-01",
          "2017-10-01",
          "2018-10-01"
         ],
         "xaxis": "x",
         "y": [
          2241,
          3409,
          3604,
          3094
         ],
         "yaxis": "y"
        },
        {
         "hovertemplate": "variable=ELP<br>Fiscal Year=%{x}<br>value=%{y}<extra></extra>",
         "legendgroup": "ELP",
         "line": {
          "color": "#FF97FF",
          "dash": "solid"
         },
         "marker": {
          "symbol": "circle"
         },
         "mode": "lines",
         "name": "ELP",
         "orientation": "v",
         "showlegend": true,
         "type": "scatter",
         "x": [
          "2015-10-01",
          "2016-10-01",
          "2017-10-01",
          "2018-10-01"
         ],
         "xaxis": "x",
         "y": [
          1611,
          1892,
          2159,
          2103
         ],
         "yaxis": "y"
        },
        {
         "hovertemplate": "variable=HOU<br>Fiscal Year=%{x}<br>value=%{y}<extra></extra>",
         "legendgroup": "HOU",
         "line": {
          "color": "#FECB52",
          "dash": "solid"
         },
         "marker": {
          "symbol": "circle"
         },
         "mode": "lines",
         "name": "HOU",
         "orientation": "v",
         "showlegend": true,
         "type": "scatter",
         "x": [
          "2015-10-01",
          "2016-10-01",
          "2017-10-01",
          "2018-10-01"
         ],
         "xaxis": "x",
         "y": [
          12896,
          13565,
          14333,
          10761
         ],
         "yaxis": "y"
        },
        {
         "hovertemplate": "variable=LOS<br>Fiscal Year=%{x}<br>value=%{y}<extra></extra>",
         "legendgroup": "LOS",
         "line": {
          "color": "#636efa",
          "dash": "solid"
         },
         "marker": {
          "symbol": "circle"
         },
         "mode": "lines",
         "name": "LOS",
         "orientation": "v",
         "showlegend": true,
         "type": "scatter",
         "x": [
          "2015-10-01",
          "2016-10-01",
          "2017-10-01",
          "2018-10-01"
         ],
         "xaxis": "x",
         "y": [
          7651,
          8419,
          7854,
          6144
         ],
         "yaxis": "y"
        },
        {
         "hovertemplate": "variable=MIA<br>Fiscal Year=%{x}<br>value=%{y}<extra></extra>",
         "legendgroup": "MIA",
         "line": {
          "color": "#EF553B",
          "dash": "solid"
         },
         "marker": {
          "symbol": "circle"
         },
         "mode": "lines",
         "name": "MIA",
         "orientation": "v",
         "showlegend": true,
         "type": "scatter",
         "x": [
          "2015-10-01",
          "2016-10-01",
          "2017-10-01",
          "2018-10-01"
         ],
         "xaxis": "x",
         "y": [
          3524,
          6192,
          8474,
          8695
         ],
         "yaxis": "y"
        },
        {
         "hovertemplate": "variable=NEW<br>Fiscal Year=%{x}<br>value=%{y}<extra></extra>",
         "legendgroup": "NEW",
         "line": {
          "color": "#00cc96",
          "dash": "solid"
         },
         "marker": {
          "symbol": "circle"
         },
         "mode": "lines",
         "name": "NEW",
         "orientation": "v",
         "showlegend": true,
         "type": "scatter",
         "x": [
          "2015-10-01",
          "2016-10-01",
          "2017-10-01",
          "2018-10-01"
         ],
         "xaxis": "x",
         "y": [
          2247,
          3189,
          3409,
          2654
         ],
         "yaxis": "y"
        },
        {
         "hovertemplate": "variable=NOL<br>Fiscal Year=%{x}<br>value=%{y}<extra></extra>",
         "legendgroup": "NOL",
         "line": {
          "color": "#ab63fa",
          "dash": "solid"
         },
         "marker": {
          "symbol": "circle"
         },
         "mode": "lines",
         "name": "NOL",
         "orientation": "v",
         "showlegend": true,
         "type": "scatter",
         "x": [
          "2015-10-01",
          "2016-10-01",
          "2017-10-01",
          "2018-10-01"
         ],
         "xaxis": "x",
         "y": [
          5174,
          7968,
          10270,
          9075
         ],
         "yaxis": "y"
        },
        {
         "hovertemplate": "variable=NYC<br>Fiscal Year=%{x}<br>value=%{y}<extra></extra>",
         "legendgroup": "NYC",
         "line": {
          "color": "#FFA15A",
          "dash": "solid"
         },
         "marker": {
          "symbol": "circle"
         },
         "mode": "lines",
         "name": "NYC",
         "orientation": "v",
         "showlegend": true,
         "type": "scatter",
         "x": [
          "2015-10-01",
          "2016-10-01",
          "2017-10-01",
          "2018-10-01"
         ],
         "xaxis": "x",
         "y": [
          1847,
          2576,
          3476,
          2281
         ],
         "yaxis": "y"
        },
        {
         "hovertemplate": "variable=PHI<br>Fiscal Year=%{x}<br>value=%{y}<extra></extra>",
         "legendgroup": "PHI",
         "line": {
          "color": "#19d3f3",
          "dash": "solid"
         },
         "marker": {
          "symbol": "circle"
         },
         "mode": "lines",
         "name": "PHI",
         "orientation": "v",
         "showlegend": true,
         "type": "scatter",
         "x": [
          "2015-10-01",
          "2016-10-01",
          "2017-10-01",
          "2018-10-01"
         ],
         "xaxis": "x",
         "y": [
          3672,
          4938,
          5143,
          3752
         ],
         "yaxis": "y"
        },
        {
         "hovertemplate": "variable=PHO<br>Fiscal Year=%{x}<br>value=%{y}<extra></extra>",
         "legendgroup": "PHO",
         "line": {
          "color": "#FF6692",
          "dash": "solid"
         },
         "marker": {
          "symbol": "circle"
         },
         "mode": "lines",
         "name": "PHO",
         "orientation": "v",
         "showlegend": true,
         "type": "scatter",
         "x": [
          "2015-10-01",
          "2016-10-01",
          "2017-10-01",
          "2018-10-01"
         ],
         "xaxis": "x",
         "y": [
          5370,
          6457,
          7162,
          5420
         ],
         "yaxis": "y"
        },
        {
         "hovertemplate": "variable=SEA<br>Fiscal Year=%{x}<br>value=%{y}<extra></extra>",
         "legendgroup": "SEA",
         "line": {
          "color": "#B6E880",
          "dash": "solid"
         },
         "marker": {
          "symbol": "circle"
         },
         "mode": "lines",
         "name": "SEA",
         "orientation": "v",
         "showlegend": true,
         "type": "scatter",
         "x": [
          "2015-10-01",
          "2016-10-01",
          "2017-10-01",
          "2018-10-01"
         ],
         "xaxis": "x",
         "y": [
          2698,
          3376,
          3067,
          2328
         ],
         "yaxis": "y"
        },
        {
         "hovertemplate": "variable=SFR<br>Fiscal Year=%{x}<br>value=%{y}<extra></extra>",
         "legendgroup": "SFR",
         "line": {
          "color": "#FF97FF",
          "dash": "solid"
         },
         "marker": {
          "symbol": "circle"
         },
         "mode": "lines",
         "name": "SFR",
         "orientation": "v",
         "showlegend": true,
         "type": "scatter",
         "x": [
          "2015-10-01",
          "2016-10-01",
          "2017-10-01",
          "2018-10-01"
         ],
         "xaxis": "x",
         "y": [
          6651,
          7231,
          6210,
          4724
         ],
         "yaxis": "y"
        },
        {
         "hovertemplate": "variable=SLC<br>Fiscal Year=%{x}<br>value=%{y}<extra></extra>",
         "legendgroup": "SLC",
         "line": {
          "color": "#FECB52",
          "dash": "solid"
         },
         "marker": {
          "symbol": "circle"
         },
         "mode": "lines",
         "name": "SLC",
         "orientation": "v",
         "showlegend": true,
         "type": "scatter",
         "x": [
          "2015-10-01",
          "2016-10-01",
          "2017-10-01",
          "2018-10-01"
         ],
         "xaxis": "x",
         "y": [
          4638,
          5177,
          5754,
          5014
         ],
         "yaxis": "y"
        },
        {
         "hovertemplate": "variable=SNA<br>Fiscal Year=%{x}<br>value=%{y}<extra></extra>",
         "legendgroup": "SNA",
         "line": {
          "color": "#636efa",
          "dash": "solid"
         },
         "marker": {
          "symbol": "circle"
         },
         "mode": "lines",
         "name": "SNA",
         "orientation": "v",
         "showlegend": true,
         "type": "scatter",
         "x": [
          "2015-10-01",
          "2016-10-01",
          "2017-10-01",
          "2018-10-01"
         ],
         "xaxis": "x",
         "y": [
          8425,
          8510,
          10749,
          10968
         ],
         "yaxis": "y"
        },
        {
         "hovertemplate": "variable=SND<br>Fiscal Year=%{x}<br>value=%{y}<extra></extra>",
         "legendgroup": "SND",
         "line": {
          "color": "#EF553B",
          "dash": "solid"
         },
         "marker": {
          "symbol": "circle"
         },
         "mode": "lines",
         "name": "SND",
         "orientation": "v",
         "showlegend": true,
         "type": "scatter",
         "x": [
          "2015-10-01",
          "2016-10-01",
          "2017-10-01",
          "2018-10-01"
         ],
         "xaxis": "x",
         "y": [
          3683,
          4551,
          6000,
          2107
         ],
         "yaxis": "y"
        },
        {
         "hovertemplate": "variable=SPM<br>Fiscal Year=%{x}<br>value=%{y}<extra></extra>",
         "legendgroup": "SPM",
         "line": {
          "color": "#00cc96",
          "dash": "solid"
         },
         "marker": {
          "symbol": "circle"
         },
         "mode": "lines",
         "name": "SPM",
         "orientation": "v",
         "showlegend": true,
         "type": "scatter",
         "x": [
          "2015-10-01",
          "2016-10-01",
          "2017-10-01",
          "2018-10-01"
         ],
         "xaxis": "x",
         "y": [
          2500,
          4175,
          4658,
          4005
         ],
         "yaxis": "y"
        },
        {
         "hovertemplate": "variable=WAS<br>Fiscal Year=%{x}<br>value=%{y}<extra></extra>",
         "legendgroup": "WAS",
         "line": {
          "color": "#ab63fa",
          "dash": "solid"
         },
         "marker": {
          "symbol": "circle"
         },
         "mode": "lines",
         "name": "WAS",
         "orientation": "v",
         "showlegend": true,
         "type": "scatter",
         "x": [
          "2015-10-01",
          "2016-10-01",
          "2017-10-01",
          "2018-10-01"
         ],
         "xaxis": "x",
         "y": [
          2883,
          4163,
          4359,
          3734
         ],
         "yaxis": "y"
        }
       ],
       "layout": {
        "legend": {
         "title": {
          "text": "AOR"
         },
         "tracegroupgap": 0
        },
        "template": {
         "data": {
          "bar": [
           {
            "error_x": {
             "color": "#2a3f5f"
            },
            "error_y": {
             "color": "#2a3f5f"
            },
            "marker": {
             "line": {
              "color": "#E5ECF6",
              "width": 0.5
             },
             "pattern": {
              "fillmode": "overlay",
              "size": 10,
              "solidity": 0.2
             }
            },
            "type": "bar"
           }
          ],
          "barpolar": [
           {
            "marker": {
             "line": {
              "color": "#E5ECF6",
              "width": 0.5
             },
             "pattern": {
              "fillmode": "overlay",
              "size": 10,
              "solidity": 0.2
             }
            },
            "type": "barpolar"
           }
          ],
          "carpet": [
           {
            "aaxis": {
             "endlinecolor": "#2a3f5f",
             "gridcolor": "white",
             "linecolor": "white",
             "minorgridcolor": "white",
             "startlinecolor": "#2a3f5f"
            },
            "baxis": {
             "endlinecolor": "#2a3f5f",
             "gridcolor": "white",
             "linecolor": "white",
             "minorgridcolor": "white",
             "startlinecolor": "#2a3f5f"
            },
            "type": "carpet"
           }
          ],
          "choropleth": [
           {
            "colorbar": {
             "outlinewidth": 0,
             "ticks": ""
            },
            "type": "choropleth"
           }
          ],
          "contour": [
           {
            "colorbar": {
             "outlinewidth": 0,
             "ticks": ""
            },
            "colorscale": [
             [
              0,
              "#0d0887"
             ],
             [
              0.1111111111111111,
              "#46039f"
             ],
             [
              0.2222222222222222,
              "#7201a8"
             ],
             [
              0.3333333333333333,
              "#9c179e"
             ],
             [
              0.4444444444444444,
              "#bd3786"
             ],
             [
              0.5555555555555556,
              "#d8576b"
             ],
             [
              0.6666666666666666,
              "#ed7953"
             ],
             [
              0.7777777777777778,
              "#fb9f3a"
             ],
             [
              0.8888888888888888,
              "#fdca26"
             ],
             [
              1,
              "#f0f921"
             ]
            ],
            "type": "contour"
           }
          ],
          "contourcarpet": [
           {
            "colorbar": {
             "outlinewidth": 0,
             "ticks": ""
            },
            "type": "contourcarpet"
           }
          ],
          "heatmap": [
           {
            "colorbar": {
             "outlinewidth": 0,
             "ticks": ""
            },
            "colorscale": [
             [
              0,
              "#0d0887"
             ],
             [
              0.1111111111111111,
              "#46039f"
             ],
             [
              0.2222222222222222,
              "#7201a8"
             ],
             [
              0.3333333333333333,
              "#9c179e"
             ],
             [
              0.4444444444444444,
              "#bd3786"
             ],
             [
              0.5555555555555556,
              "#d8576b"
             ],
             [
              0.6666666666666666,
              "#ed7953"
             ],
             [
              0.7777777777777778,
              "#fb9f3a"
             ],
             [
              0.8888888888888888,
              "#fdca26"
             ],
             [
              1,
              "#f0f921"
             ]
            ],
            "type": "heatmap"
           }
          ],
          "heatmapgl": [
           {
            "colorbar": {
             "outlinewidth": 0,
             "ticks": ""
            },
            "colorscale": [
             [
              0,
              "#0d0887"
             ],
             [
              0.1111111111111111,
              "#46039f"
             ],
             [
              0.2222222222222222,
              "#7201a8"
             ],
             [
              0.3333333333333333,
              "#9c179e"
             ],
             [
              0.4444444444444444,
              "#bd3786"
             ],
             [
              0.5555555555555556,
              "#d8576b"
             ],
             [
              0.6666666666666666,
              "#ed7953"
             ],
             [
              0.7777777777777778,
              "#fb9f3a"
             ],
             [
              0.8888888888888888,
              "#fdca26"
             ],
             [
              1,
              "#f0f921"
             ]
            ],
            "type": "heatmapgl"
           }
          ],
          "histogram": [
           {
            "marker": {
             "pattern": {
              "fillmode": "overlay",
              "size": 10,
              "solidity": 0.2
             }
            },
            "type": "histogram"
           }
          ],
          "histogram2d": [
           {
            "colorbar": {
             "outlinewidth": 0,
             "ticks": ""
            },
            "colorscale": [
             [
              0,
              "#0d0887"
             ],
             [
              0.1111111111111111,
              "#46039f"
             ],
             [
              0.2222222222222222,
              "#7201a8"
             ],
             [
              0.3333333333333333,
              "#9c179e"
             ],
             [
              0.4444444444444444,
              "#bd3786"
             ],
             [
              0.5555555555555556,
              "#d8576b"
             ],
             [
              0.6666666666666666,
              "#ed7953"
             ],
             [
              0.7777777777777778,
              "#fb9f3a"
             ],
             [
              0.8888888888888888,
              "#fdca26"
             ],
             [
              1,
              "#f0f921"
             ]
            ],
            "type": "histogram2d"
           }
          ],
          "histogram2dcontour": [
           {
            "colorbar": {
             "outlinewidth": 0,
             "ticks": ""
            },
            "colorscale": [
             [
              0,
              "#0d0887"
             ],
             [
              0.1111111111111111,
              "#46039f"
             ],
             [
              0.2222222222222222,
              "#7201a8"
             ],
             [
              0.3333333333333333,
              "#9c179e"
             ],
             [
              0.4444444444444444,
              "#bd3786"
             ],
             [
              0.5555555555555556,
              "#d8576b"
             ],
             [
              0.6666666666666666,
              "#ed7953"
             ],
             [
              0.7777777777777778,
              "#fb9f3a"
             ],
             [
              0.8888888888888888,
              "#fdca26"
             ],
             [
              1,
              "#f0f921"
             ]
            ],
            "type": "histogram2dcontour"
           }
          ],
          "mesh3d": [
           {
            "colorbar": {
             "outlinewidth": 0,
             "ticks": ""
            },
            "type": "mesh3d"
           }
          ],
          "parcoords": [
           {
            "line": {
             "colorbar": {
              "outlinewidth": 0,
              "ticks": ""
             }
            },
            "type": "parcoords"
           }
          ],
          "pie": [
           {
            "automargin": true,
            "type": "pie"
           }
          ],
          "scatter": [
           {
            "marker": {
             "colorbar": {
              "outlinewidth": 0,
              "ticks": ""
             }
            },
            "type": "scatter"
           }
          ],
          "scatter3d": [
           {
            "line": {
             "colorbar": {
              "outlinewidth": 0,
              "ticks": ""
             }
            },
            "marker": {
             "colorbar": {
              "outlinewidth": 0,
              "ticks": ""
             }
            },
            "type": "scatter3d"
           }
          ],
          "scattercarpet": [
           {
            "marker": {
             "colorbar": {
              "outlinewidth": 0,
              "ticks": ""
             }
            },
            "type": "scattercarpet"
           }
          ],
          "scattergeo": [
           {
            "marker": {
             "colorbar": {
              "outlinewidth": 0,
              "ticks": ""
             }
            },
            "type": "scattergeo"
           }
          ],
          "scattergl": [
           {
            "marker": {
             "colorbar": {
              "outlinewidth": 0,
              "ticks": ""
             }
            },
            "type": "scattergl"
           }
          ],
          "scattermapbox": [
           {
            "marker": {
             "colorbar": {
              "outlinewidth": 0,
              "ticks": ""
             }
            },
            "type": "scattermapbox"
           }
          ],
          "scatterpolar": [
           {
            "marker": {
             "colorbar": {
              "outlinewidth": 0,
              "ticks": ""
             }
            },
            "type": "scatterpolar"
           }
          ],
          "scatterpolargl": [
           {
            "marker": {
             "colorbar": {
              "outlinewidth": 0,
              "ticks": ""
             }
            },
            "type": "scatterpolargl"
           }
          ],
          "scatterternary": [
           {
            "marker": {
             "colorbar": {
              "outlinewidth": 0,
              "ticks": ""
             }
            },
            "type": "scatterternary"
           }
          ],
          "surface": [
           {
            "colorbar": {
             "outlinewidth": 0,
             "ticks": ""
            },
            "colorscale": [
             [
              0,
              "#0d0887"
             ],
             [
              0.1111111111111111,
              "#46039f"
             ],
             [
              0.2222222222222222,
              "#7201a8"
             ],
             [
              0.3333333333333333,
              "#9c179e"
             ],
             [
              0.4444444444444444,
              "#bd3786"
             ],
             [
              0.5555555555555556,
              "#d8576b"
             ],
             [
              0.6666666666666666,
              "#ed7953"
             ],
             [
              0.7777777777777778,
              "#fb9f3a"
             ],
             [
              0.8888888888888888,
              "#fdca26"
             ],
             [
              1,
              "#f0f921"
             ]
            ],
            "type": "surface"
           }
          ],
          "table": [
           {
            "cells": {
             "fill": {
              "color": "#EBF0F8"
             },
             "line": {
              "color": "white"
             }
            },
            "header": {
             "fill": {
              "color": "#C8D4E3"
             },
             "line": {
              "color": "white"
             }
            },
            "type": "table"
           }
          ]
         },
         "layout": {
          "annotationdefaults": {
           "arrowcolor": "#2a3f5f",
           "arrowhead": 0,
           "arrowwidth": 1
          },
          "autotypenumbers": "strict",
          "coloraxis": {
           "colorbar": {
            "outlinewidth": 0,
            "ticks": ""
           }
          },
          "colorscale": {
           "diverging": [
            [
             0,
             "#8e0152"
            ],
            [
             0.1,
             "#c51b7d"
            ],
            [
             0.2,
             "#de77ae"
            ],
            [
             0.3,
             "#f1b6da"
            ],
            [
             0.4,
             "#fde0ef"
            ],
            [
             0.5,
             "#f7f7f7"
            ],
            [
             0.6,
             "#e6f5d0"
            ],
            [
             0.7,
             "#b8e186"
            ],
            [
             0.8,
             "#7fbc41"
            ],
            [
             0.9,
             "#4d9221"
            ],
            [
             1,
             "#276419"
            ]
           ],
           "sequential": [
            [
             0,
             "#0d0887"
            ],
            [
             0.1111111111111111,
             "#46039f"
            ],
            [
             0.2222222222222222,
             "#7201a8"
            ],
            [
             0.3333333333333333,
             "#9c179e"
            ],
            [
             0.4444444444444444,
             "#bd3786"
            ],
            [
             0.5555555555555556,
             "#d8576b"
            ],
            [
             0.6666666666666666,
             "#ed7953"
            ],
            [
             0.7777777777777778,
             "#fb9f3a"
            ],
            [
             0.8888888888888888,
             "#fdca26"
            ],
            [
             1,
             "#f0f921"
            ]
           ],
           "sequentialminus": [
            [
             0,
             "#0d0887"
            ],
            [
             0.1111111111111111,
             "#46039f"
            ],
            [
             0.2222222222222222,
             "#7201a8"
            ],
            [
             0.3333333333333333,
             "#9c179e"
            ],
            [
             0.4444444444444444,
             "#bd3786"
            ],
            [
             0.5555555555555556,
             "#d8576b"
            ],
            [
             0.6666666666666666,
             "#ed7953"
            ],
            [
             0.7777777777777778,
             "#fb9f3a"
            ],
            [
             0.8888888888888888,
             "#fdca26"
            ],
            [
             1,
             "#f0f921"
            ]
           ]
          },
          "colorway": [
           "#636efa",
           "#EF553B",
           "#00cc96",
           "#ab63fa",
           "#FFA15A",
           "#19d3f3",
           "#FF6692",
           "#B6E880",
           "#FF97FF",
           "#FECB52"
          ],
          "font": {
           "color": "#2a3f5f"
          },
          "geo": {
           "bgcolor": "white",
           "lakecolor": "white",
           "landcolor": "#E5ECF6",
           "showlakes": true,
           "showland": true,
           "subunitcolor": "white"
          },
          "hoverlabel": {
           "align": "left"
          },
          "hovermode": "closest",
          "mapbox": {
           "style": "light"
          },
          "paper_bgcolor": "white",
          "plot_bgcolor": "#E5ECF6",
          "polar": {
           "angularaxis": {
            "gridcolor": "white",
            "linecolor": "white",
            "ticks": ""
           },
           "bgcolor": "#E5ECF6",
           "radialaxis": {
            "gridcolor": "white",
            "linecolor": "white",
            "ticks": ""
           }
          },
          "scene": {
           "xaxis": {
            "backgroundcolor": "#E5ECF6",
            "gridcolor": "white",
            "gridwidth": 2,
            "linecolor": "white",
            "showbackground": true,
            "ticks": "",
            "zerolinecolor": "white"
           },
           "yaxis": {
            "backgroundcolor": "#E5ECF6",
            "gridcolor": "white",
            "gridwidth": 2,
            "linecolor": "white",
            "showbackground": true,
            "ticks": "",
            "zerolinecolor": "white"
           },
           "zaxis": {
            "backgroundcolor": "#E5ECF6",
            "gridcolor": "white",
            "gridwidth": 2,
            "linecolor": "white",
            "showbackground": true,
            "ticks": "",
            "zerolinecolor": "white"
           }
          },
          "shapedefaults": {
           "line": {
            "color": "#2a3f5f"
           }
          },
          "ternary": {
           "aaxis": {
            "gridcolor": "white",
            "linecolor": "white",
            "ticks": ""
           },
           "baxis": {
            "gridcolor": "white",
            "linecolor": "white",
            "ticks": ""
           },
           "bgcolor": "#E5ECF6",
           "caxis": {
            "gridcolor": "white",
            "linecolor": "white",
            "ticks": ""
           }
          },
          "title": {
           "x": 0.05
          },
          "xaxis": {
           "automargin": true,
           "gridcolor": "white",
           "linecolor": "white",
           "ticks": "",
           "title": {
            "standoff": 15
           },
           "zerolinecolor": "white",
           "zerolinewidth": 2
          },
          "yaxis": {
           "automargin": true,
           "gridcolor": "white",
           "linecolor": "white",
           "ticks": "",
           "title": {
            "standoff": 15
           },
           "zerolinecolor": "white",
           "zerolinewidth": 2
          }
         }
        },
        "title": {
         "text": "Arrests in AOR per FY"
        },
        "xaxis": {
         "anchor": "y",
         "domain": [
          0,
          1
         ],
         "nticks": 4,
         "title": {
          "text": "Fiscal Year"
         }
        },
        "yaxis": {
         "anchor": "x",
         "domain": [
          0,
          1
         ],
         "title": {
          "text": "Number of Arrests"
         }
        }
       }
      },
      "text/html": [
       "<div>                            <div id=\"cd3c4bb2-a61e-4250-b5f6-5bedb2b5797a\" class=\"plotly-graph-div\" style=\"height:525px; width:100%;\"></div>            <script type=\"text/javascript\">                require([\"plotly\"], function(Plotly) {                    window.PLOTLYENV=window.PLOTLYENV || {};                                    if (document.getElementById(\"cd3c4bb2-a61e-4250-b5f6-5bedb2b5797a\")) {                    Plotly.newPlot(                        \"cd3c4bb2-a61e-4250-b5f6-5bedb2b5797a\",                        [{\"hovertemplate\":\"variable=ATL<br>Fiscal Year=%{x}<br>value=%{y}<extra></extra>\",\"legendgroup\":\"ATL\",\"line\":{\"color\":\"#636efa\",\"dash\":\"solid\"},\"marker\":{\"symbol\":\"circle\"},\"mode\":\"lines\",\"name\":\"ATL\",\"orientation\":\"v\",\"showlegend\":true,\"x\":[\"2015-10-01\",\"2016-10-01\",\"2017-10-01\",\"2018-10-01\"],\"xaxis\":\"x\",\"y\":[8866,13551,15189,12268],\"yaxis\":\"y\",\"type\":\"scatter\"},{\"hovertemplate\":\"variable=BAL<br>Fiscal Year=%{x}<br>value=%{y}<extra></extra>\",\"legendgroup\":\"BAL\",\"line\":{\"color\":\"#EF553B\",\"dash\":\"solid\"},\"marker\":{\"symbol\":\"circle\"},\"mode\":\"lines\",\"name\":\"BAL\",\"orientation\":\"v\",\"showlegend\":true,\"x\":[\"2015-10-01\",\"2016-10-01\",\"2017-10-01\",\"2018-10-01\"],\"xaxis\":\"x\",\"y\":[1239,1666,1703,1330],\"yaxis\":\"y\",\"type\":\"scatter\"},{\"hovertemplate\":\"variable=BOS<br>Fiscal Year=%{x}<br>value=%{y}<extra></extra>\",\"legendgroup\":\"BOS\",\"line\":{\"color\":\"#00cc96\",\"dash\":\"solid\"},\"marker\":{\"symbol\":\"circle\"},\"mode\":\"lines\",\"name\":\"BOS\",\"orientation\":\"v\",\"showlegend\":true,\"x\":[\"2015-10-01\",\"2016-10-01\",\"2017-10-01\",\"2018-10-01\"],\"xaxis\":\"x\",\"y\":[1858,2834,2908,2266],\"yaxis\":\"y\",\"type\":\"scatter\"},{\"hovertemplate\":\"variable=BUF<br>Fiscal Year=%{x}<br>value=%{y}<extra></extra>\",\"legendgroup\":\"BUF\",\"line\":{\"color\":\"#ab63fa\",\"dash\":\"solid\"},\"marker\":{\"symbol\":\"circle\"},\"mode\":\"lines\",\"name\":\"BUF\",\"orientation\":\"v\",\"showlegend\":true,\"x\":[\"2015-10-01\",\"2016-10-01\",\"2017-10-01\",\"2018-10-01\"],\"xaxis\":\"x\",\"y\":[1173,1494,1582,1206],\"yaxis\":\"y\",\"type\":\"scatter\"},{\"hovertemplate\":\"variable=CHI<br>Fiscal Year=%{x}<br>value=%{y}<extra></extra>\",\"legendgroup\":\"CHI\",\"line\":{\"color\":\"#FFA15A\",\"dash\":\"solid\"},\"marker\":{\"symbol\":\"circle\"},\"mode\":\"lines\",\"name\":\"CHI\",\"orientation\":\"v\",\"showlegend\":true,\"x\":[\"2015-10-01\",\"2016-10-01\",\"2017-10-01\",\"2018-10-01\"],\"xaxis\":\"x\",\"y\":[7055,8604,9241,7769],\"yaxis\":\"y\",\"type\":\"scatter\"},{\"hovertemplate\":\"variable=DAL<br>Fiscal Year=%{x}<br>value=%{y}<extra></extra>\",\"legendgroup\":\"DAL\",\"line\":{\"color\":\"#19d3f3\",\"dash\":\"solid\"},\"marker\":{\"symbol\":\"circle\"},\"mode\":\"lines\",\"name\":\"DAL\",\"orientation\":\"v\",\"showlegend\":true,\"x\":[\"2015-10-01\",\"2016-10-01\",\"2017-10-01\",\"2018-10-01\"],\"xaxis\":\"x\",\"y\":[9634,16520,17644,15571],\"yaxis\":\"y\",\"type\":\"scatter\"},{\"hovertemplate\":\"variable=DEN<br>Fiscal Year=%{x}<br>value=%{y}<extra></extra>\",\"legendgroup\":\"DEN\",\"line\":{\"color\":\"#FF6692\",\"dash\":\"solid\"},\"marker\":{\"symbol\":\"circle\"},\"mode\":\"lines\",\"name\":\"DEN\",\"orientation\":\"v\",\"showlegend\":true,\"x\":[\"2015-10-01\",\"2016-10-01\",\"2017-10-01\",\"2018-10-01\"],\"xaxis\":\"x\",\"y\":[2284,2746,2755,2215],\"yaxis\":\"y\",\"type\":\"scatter\"},{\"hovertemplate\":\"variable=DET<br>Fiscal Year=%{x}<br>value=%{y}<extra></extra>\",\"legendgroup\":\"DET\",\"line\":{\"color\":\"#B6E880\",\"dash\":\"solid\"},\"marker\":{\"symbol\":\"circle\"},\"mode\":\"lines\",\"name\":\"DET\",\"orientation\":\"v\",\"showlegend\":true,\"x\":[\"2015-10-01\",\"2016-10-01\",\"2017-10-01\",\"2018-10-01\"],\"xaxis\":\"x\",\"y\":[2241,3409,3604,3094],\"yaxis\":\"y\",\"type\":\"scatter\"},{\"hovertemplate\":\"variable=ELP<br>Fiscal Year=%{x}<br>value=%{y}<extra></extra>\",\"legendgroup\":\"ELP\",\"line\":{\"color\":\"#FF97FF\",\"dash\":\"solid\"},\"marker\":{\"symbol\":\"circle\"},\"mode\":\"lines\",\"name\":\"ELP\",\"orientation\":\"v\",\"showlegend\":true,\"x\":[\"2015-10-01\",\"2016-10-01\",\"2017-10-01\",\"2018-10-01\"],\"xaxis\":\"x\",\"y\":[1611,1892,2159,2103],\"yaxis\":\"y\",\"type\":\"scatter\"},{\"hovertemplate\":\"variable=HOU<br>Fiscal Year=%{x}<br>value=%{y}<extra></extra>\",\"legendgroup\":\"HOU\",\"line\":{\"color\":\"#FECB52\",\"dash\":\"solid\"},\"marker\":{\"symbol\":\"circle\"},\"mode\":\"lines\",\"name\":\"HOU\",\"orientation\":\"v\",\"showlegend\":true,\"x\":[\"2015-10-01\",\"2016-10-01\",\"2017-10-01\",\"2018-10-01\"],\"xaxis\":\"x\",\"y\":[12896,13565,14333,10761],\"yaxis\":\"y\",\"type\":\"scatter\"},{\"hovertemplate\":\"variable=LOS<br>Fiscal Year=%{x}<br>value=%{y}<extra></extra>\",\"legendgroup\":\"LOS\",\"line\":{\"color\":\"#636efa\",\"dash\":\"solid\"},\"marker\":{\"symbol\":\"circle\"},\"mode\":\"lines\",\"name\":\"LOS\",\"orientation\":\"v\",\"showlegend\":true,\"x\":[\"2015-10-01\",\"2016-10-01\",\"2017-10-01\",\"2018-10-01\"],\"xaxis\":\"x\",\"y\":[7651,8419,7854,6144],\"yaxis\":\"y\",\"type\":\"scatter\"},{\"hovertemplate\":\"variable=MIA<br>Fiscal Year=%{x}<br>value=%{y}<extra></extra>\",\"legendgroup\":\"MIA\",\"line\":{\"color\":\"#EF553B\",\"dash\":\"solid\"},\"marker\":{\"symbol\":\"circle\"},\"mode\":\"lines\",\"name\":\"MIA\",\"orientation\":\"v\",\"showlegend\":true,\"x\":[\"2015-10-01\",\"2016-10-01\",\"2017-10-01\",\"2018-10-01\"],\"xaxis\":\"x\",\"y\":[3524,6192,8474,8695],\"yaxis\":\"y\",\"type\":\"scatter\"},{\"hovertemplate\":\"variable=NEW<br>Fiscal Year=%{x}<br>value=%{y}<extra></extra>\",\"legendgroup\":\"NEW\",\"line\":{\"color\":\"#00cc96\",\"dash\":\"solid\"},\"marker\":{\"symbol\":\"circle\"},\"mode\":\"lines\",\"name\":\"NEW\",\"orientation\":\"v\",\"showlegend\":true,\"x\":[\"2015-10-01\",\"2016-10-01\",\"2017-10-01\",\"2018-10-01\"],\"xaxis\":\"x\",\"y\":[2247,3189,3409,2654],\"yaxis\":\"y\",\"type\":\"scatter\"},{\"hovertemplate\":\"variable=NOL<br>Fiscal Year=%{x}<br>value=%{y}<extra></extra>\",\"legendgroup\":\"NOL\",\"line\":{\"color\":\"#ab63fa\",\"dash\":\"solid\"},\"marker\":{\"symbol\":\"circle\"},\"mode\":\"lines\",\"name\":\"NOL\",\"orientation\":\"v\",\"showlegend\":true,\"x\":[\"2015-10-01\",\"2016-10-01\",\"2017-10-01\",\"2018-10-01\"],\"xaxis\":\"x\",\"y\":[5174,7968,10270,9075],\"yaxis\":\"y\",\"type\":\"scatter\"},{\"hovertemplate\":\"variable=NYC<br>Fiscal Year=%{x}<br>value=%{y}<extra></extra>\",\"legendgroup\":\"NYC\",\"line\":{\"color\":\"#FFA15A\",\"dash\":\"solid\"},\"marker\":{\"symbol\":\"circle\"},\"mode\":\"lines\",\"name\":\"NYC\",\"orientation\":\"v\",\"showlegend\":true,\"x\":[\"2015-10-01\",\"2016-10-01\",\"2017-10-01\",\"2018-10-01\"],\"xaxis\":\"x\",\"y\":[1847,2576,3476,2281],\"yaxis\":\"y\",\"type\":\"scatter\"},{\"hovertemplate\":\"variable=PHI<br>Fiscal Year=%{x}<br>value=%{y}<extra></extra>\",\"legendgroup\":\"PHI\",\"line\":{\"color\":\"#19d3f3\",\"dash\":\"solid\"},\"marker\":{\"symbol\":\"circle\"},\"mode\":\"lines\",\"name\":\"PHI\",\"orientation\":\"v\",\"showlegend\":true,\"x\":[\"2015-10-01\",\"2016-10-01\",\"2017-10-01\",\"2018-10-01\"],\"xaxis\":\"x\",\"y\":[3672,4938,5143,3752],\"yaxis\":\"y\",\"type\":\"scatter\"},{\"hovertemplate\":\"variable=PHO<br>Fiscal Year=%{x}<br>value=%{y}<extra></extra>\",\"legendgroup\":\"PHO\",\"line\":{\"color\":\"#FF6692\",\"dash\":\"solid\"},\"marker\":{\"symbol\":\"circle\"},\"mode\":\"lines\",\"name\":\"PHO\",\"orientation\":\"v\",\"showlegend\":true,\"x\":[\"2015-10-01\",\"2016-10-01\",\"2017-10-01\",\"2018-10-01\"],\"xaxis\":\"x\",\"y\":[5370,6457,7162,5420],\"yaxis\":\"y\",\"type\":\"scatter\"},{\"hovertemplate\":\"variable=SEA<br>Fiscal Year=%{x}<br>value=%{y}<extra></extra>\",\"legendgroup\":\"SEA\",\"line\":{\"color\":\"#B6E880\",\"dash\":\"solid\"},\"marker\":{\"symbol\":\"circle\"},\"mode\":\"lines\",\"name\":\"SEA\",\"orientation\":\"v\",\"showlegend\":true,\"x\":[\"2015-10-01\",\"2016-10-01\",\"2017-10-01\",\"2018-10-01\"],\"xaxis\":\"x\",\"y\":[2698,3376,3067,2328],\"yaxis\":\"y\",\"type\":\"scatter\"},{\"hovertemplate\":\"variable=SFR<br>Fiscal Year=%{x}<br>value=%{y}<extra></extra>\",\"legendgroup\":\"SFR\",\"line\":{\"color\":\"#FF97FF\",\"dash\":\"solid\"},\"marker\":{\"symbol\":\"circle\"},\"mode\":\"lines\",\"name\":\"SFR\",\"orientation\":\"v\",\"showlegend\":true,\"x\":[\"2015-10-01\",\"2016-10-01\",\"2017-10-01\",\"2018-10-01\"],\"xaxis\":\"x\",\"y\":[6651,7231,6210,4724],\"yaxis\":\"y\",\"type\":\"scatter\"},{\"hovertemplate\":\"variable=SLC<br>Fiscal Year=%{x}<br>value=%{y}<extra></extra>\",\"legendgroup\":\"SLC\",\"line\":{\"color\":\"#FECB52\",\"dash\":\"solid\"},\"marker\":{\"symbol\":\"circle\"},\"mode\":\"lines\",\"name\":\"SLC\",\"orientation\":\"v\",\"showlegend\":true,\"x\":[\"2015-10-01\",\"2016-10-01\",\"2017-10-01\",\"2018-10-01\"],\"xaxis\":\"x\",\"y\":[4638,5177,5754,5014],\"yaxis\":\"y\",\"type\":\"scatter\"},{\"hovertemplate\":\"variable=SNA<br>Fiscal Year=%{x}<br>value=%{y}<extra></extra>\",\"legendgroup\":\"SNA\",\"line\":{\"color\":\"#636efa\",\"dash\":\"solid\"},\"marker\":{\"symbol\":\"circle\"},\"mode\":\"lines\",\"name\":\"SNA\",\"orientation\":\"v\",\"showlegend\":true,\"x\":[\"2015-10-01\",\"2016-10-01\",\"2017-10-01\",\"2018-10-01\"],\"xaxis\":\"x\",\"y\":[8425,8510,10749,10968],\"yaxis\":\"y\",\"type\":\"scatter\"},{\"hovertemplate\":\"variable=SND<br>Fiscal Year=%{x}<br>value=%{y}<extra></extra>\",\"legendgroup\":\"SND\",\"line\":{\"color\":\"#EF553B\",\"dash\":\"solid\"},\"marker\":{\"symbol\":\"circle\"},\"mode\":\"lines\",\"name\":\"SND\",\"orientation\":\"v\",\"showlegend\":true,\"x\":[\"2015-10-01\",\"2016-10-01\",\"2017-10-01\",\"2018-10-01\"],\"xaxis\":\"x\",\"y\":[3683,4551,6000,2107],\"yaxis\":\"y\",\"type\":\"scatter\"},{\"hovertemplate\":\"variable=SPM<br>Fiscal Year=%{x}<br>value=%{y}<extra></extra>\",\"legendgroup\":\"SPM\",\"line\":{\"color\":\"#00cc96\",\"dash\":\"solid\"},\"marker\":{\"symbol\":\"circle\"},\"mode\":\"lines\",\"name\":\"SPM\",\"orientation\":\"v\",\"showlegend\":true,\"x\":[\"2015-10-01\",\"2016-10-01\",\"2017-10-01\",\"2018-10-01\"],\"xaxis\":\"x\",\"y\":[2500,4175,4658,4005],\"yaxis\":\"y\",\"type\":\"scatter\"},{\"hovertemplate\":\"variable=WAS<br>Fiscal Year=%{x}<br>value=%{y}<extra></extra>\",\"legendgroup\":\"WAS\",\"line\":{\"color\":\"#ab63fa\",\"dash\":\"solid\"},\"marker\":{\"symbol\":\"circle\"},\"mode\":\"lines\",\"name\":\"WAS\",\"orientation\":\"v\",\"showlegend\":true,\"x\":[\"2015-10-01\",\"2016-10-01\",\"2017-10-01\",\"2018-10-01\"],\"xaxis\":\"x\",\"y\":[2883,4163,4359,3734],\"yaxis\":\"y\",\"type\":\"scatter\"}],                        {\"template\":{\"data\":{\"bar\":[{\"error_x\":{\"color\":\"#2a3f5f\"},\"error_y\":{\"color\":\"#2a3f5f\"},\"marker\":{\"line\":{\"color\":\"#E5ECF6\",\"width\":0.5},\"pattern\":{\"fillmode\":\"overlay\",\"size\":10,\"solidity\":0.2}},\"type\":\"bar\"}],\"barpolar\":[{\"marker\":{\"line\":{\"color\":\"#E5ECF6\",\"width\":0.5},\"pattern\":{\"fillmode\":\"overlay\",\"size\":10,\"solidity\":0.2}},\"type\":\"barpolar\"}],\"carpet\":[{\"aaxis\":{\"endlinecolor\":\"#2a3f5f\",\"gridcolor\":\"white\",\"linecolor\":\"white\",\"minorgridcolor\":\"white\",\"startlinecolor\":\"#2a3f5f\"},\"baxis\":{\"endlinecolor\":\"#2a3f5f\",\"gridcolor\":\"white\",\"linecolor\":\"white\",\"minorgridcolor\":\"white\",\"startlinecolor\":\"#2a3f5f\"},\"type\":\"carpet\"}],\"choropleth\":[{\"colorbar\":{\"outlinewidth\":0,\"ticks\":\"\"},\"type\":\"choropleth\"}],\"contour\":[{\"colorbar\":{\"outlinewidth\":0,\"ticks\":\"\"},\"colorscale\":[[0.0,\"#0d0887\"],[0.1111111111111111,\"#46039f\"],[0.2222222222222222,\"#7201a8\"],[0.3333333333333333,\"#9c179e\"],[0.4444444444444444,\"#bd3786\"],[0.5555555555555556,\"#d8576b\"],[0.6666666666666666,\"#ed7953\"],[0.7777777777777778,\"#fb9f3a\"],[0.8888888888888888,\"#fdca26\"],[1.0,\"#f0f921\"]],\"type\":\"contour\"}],\"contourcarpet\":[{\"colorbar\":{\"outlinewidth\":0,\"ticks\":\"\"},\"type\":\"contourcarpet\"}],\"heatmap\":[{\"colorbar\":{\"outlinewidth\":0,\"ticks\":\"\"},\"colorscale\":[[0.0,\"#0d0887\"],[0.1111111111111111,\"#46039f\"],[0.2222222222222222,\"#7201a8\"],[0.3333333333333333,\"#9c179e\"],[0.4444444444444444,\"#bd3786\"],[0.5555555555555556,\"#d8576b\"],[0.6666666666666666,\"#ed7953\"],[0.7777777777777778,\"#fb9f3a\"],[0.8888888888888888,\"#fdca26\"],[1.0,\"#f0f921\"]],\"type\":\"heatmap\"}],\"heatmapgl\":[{\"colorbar\":{\"outlinewidth\":0,\"ticks\":\"\"},\"colorscale\":[[0.0,\"#0d0887\"],[0.1111111111111111,\"#46039f\"],[0.2222222222222222,\"#7201a8\"],[0.3333333333333333,\"#9c179e\"],[0.4444444444444444,\"#bd3786\"],[0.5555555555555556,\"#d8576b\"],[0.6666666666666666,\"#ed7953\"],[0.7777777777777778,\"#fb9f3a\"],[0.8888888888888888,\"#fdca26\"],[1.0,\"#f0f921\"]],\"type\":\"heatmapgl\"}],\"histogram\":[{\"marker\":{\"pattern\":{\"fillmode\":\"overlay\",\"size\":10,\"solidity\":0.2}},\"type\":\"histogram\"}],\"histogram2d\":[{\"colorbar\":{\"outlinewidth\":0,\"ticks\":\"\"},\"colorscale\":[[0.0,\"#0d0887\"],[0.1111111111111111,\"#46039f\"],[0.2222222222222222,\"#7201a8\"],[0.3333333333333333,\"#9c179e\"],[0.4444444444444444,\"#bd3786\"],[0.5555555555555556,\"#d8576b\"],[0.6666666666666666,\"#ed7953\"],[0.7777777777777778,\"#fb9f3a\"],[0.8888888888888888,\"#fdca26\"],[1.0,\"#f0f921\"]],\"type\":\"histogram2d\"}],\"histogram2dcontour\":[{\"colorbar\":{\"outlinewidth\":0,\"ticks\":\"\"},\"colorscale\":[[0.0,\"#0d0887\"],[0.1111111111111111,\"#46039f\"],[0.2222222222222222,\"#7201a8\"],[0.3333333333333333,\"#9c179e\"],[0.4444444444444444,\"#bd3786\"],[0.5555555555555556,\"#d8576b\"],[0.6666666666666666,\"#ed7953\"],[0.7777777777777778,\"#fb9f3a\"],[0.8888888888888888,\"#fdca26\"],[1.0,\"#f0f921\"]],\"type\":\"histogram2dcontour\"}],\"mesh3d\":[{\"colorbar\":{\"outlinewidth\":0,\"ticks\":\"\"},\"type\":\"mesh3d\"}],\"parcoords\":[{\"line\":{\"colorbar\":{\"outlinewidth\":0,\"ticks\":\"\"}},\"type\":\"parcoords\"}],\"pie\":[{\"automargin\":true,\"type\":\"pie\"}],\"scatter\":[{\"marker\":{\"colorbar\":{\"outlinewidth\":0,\"ticks\":\"\"}},\"type\":\"scatter\"}],\"scatter3d\":[{\"line\":{\"colorbar\":{\"outlinewidth\":0,\"ticks\":\"\"}},\"marker\":{\"colorbar\":{\"outlinewidth\":0,\"ticks\":\"\"}},\"type\":\"scatter3d\"}],\"scattercarpet\":[{\"marker\":{\"colorbar\":{\"outlinewidth\":0,\"ticks\":\"\"}},\"type\":\"scattercarpet\"}],\"scattergeo\":[{\"marker\":{\"colorbar\":{\"outlinewidth\":0,\"ticks\":\"\"}},\"type\":\"scattergeo\"}],\"scattergl\":[{\"marker\":{\"colorbar\":{\"outlinewidth\":0,\"ticks\":\"\"}},\"type\":\"scattergl\"}],\"scattermapbox\":[{\"marker\":{\"colorbar\":{\"outlinewidth\":0,\"ticks\":\"\"}},\"type\":\"scattermapbox\"}],\"scatterpolar\":[{\"marker\":{\"colorbar\":{\"outlinewidth\":0,\"ticks\":\"\"}},\"type\":\"scatterpolar\"}],\"scatterpolargl\":[{\"marker\":{\"colorbar\":{\"outlinewidth\":0,\"ticks\":\"\"}},\"type\":\"scatterpolargl\"}],\"scatterternary\":[{\"marker\":{\"colorbar\":{\"outlinewidth\":0,\"ticks\":\"\"}},\"type\":\"scatterternary\"}],\"surface\":[{\"colorbar\":{\"outlinewidth\":0,\"ticks\":\"\"},\"colorscale\":[[0.0,\"#0d0887\"],[0.1111111111111111,\"#46039f\"],[0.2222222222222222,\"#7201a8\"],[0.3333333333333333,\"#9c179e\"],[0.4444444444444444,\"#bd3786\"],[0.5555555555555556,\"#d8576b\"],[0.6666666666666666,\"#ed7953\"],[0.7777777777777778,\"#fb9f3a\"],[0.8888888888888888,\"#fdca26\"],[1.0,\"#f0f921\"]],\"type\":\"surface\"}],\"table\":[{\"cells\":{\"fill\":{\"color\":\"#EBF0F8\"},\"line\":{\"color\":\"white\"}},\"header\":{\"fill\":{\"color\":\"#C8D4E3\"},\"line\":{\"color\":\"white\"}},\"type\":\"table\"}]},\"layout\":{\"annotationdefaults\":{\"arrowcolor\":\"#2a3f5f\",\"arrowhead\":0,\"arrowwidth\":1},\"autotypenumbers\":\"strict\",\"coloraxis\":{\"colorbar\":{\"outlinewidth\":0,\"ticks\":\"\"}},\"colorscale\":{\"diverging\":[[0,\"#8e0152\"],[0.1,\"#c51b7d\"],[0.2,\"#de77ae\"],[0.3,\"#f1b6da\"],[0.4,\"#fde0ef\"],[0.5,\"#f7f7f7\"],[0.6,\"#e6f5d0\"],[0.7,\"#b8e186\"],[0.8,\"#7fbc41\"],[0.9,\"#4d9221\"],[1,\"#276419\"]],\"sequential\":[[0.0,\"#0d0887\"],[0.1111111111111111,\"#46039f\"],[0.2222222222222222,\"#7201a8\"],[0.3333333333333333,\"#9c179e\"],[0.4444444444444444,\"#bd3786\"],[0.5555555555555556,\"#d8576b\"],[0.6666666666666666,\"#ed7953\"],[0.7777777777777778,\"#fb9f3a\"],[0.8888888888888888,\"#fdca26\"],[1.0,\"#f0f921\"]],\"sequentialminus\":[[0.0,\"#0d0887\"],[0.1111111111111111,\"#46039f\"],[0.2222222222222222,\"#7201a8\"],[0.3333333333333333,\"#9c179e\"],[0.4444444444444444,\"#bd3786\"],[0.5555555555555556,\"#d8576b\"],[0.6666666666666666,\"#ed7953\"],[0.7777777777777778,\"#fb9f3a\"],[0.8888888888888888,\"#fdca26\"],[1.0,\"#f0f921\"]]},\"colorway\":[\"#636efa\",\"#EF553B\",\"#00cc96\",\"#ab63fa\",\"#FFA15A\",\"#19d3f3\",\"#FF6692\",\"#B6E880\",\"#FF97FF\",\"#FECB52\"],\"font\":{\"color\":\"#2a3f5f\"},\"geo\":{\"bgcolor\":\"white\",\"lakecolor\":\"white\",\"landcolor\":\"#E5ECF6\",\"showlakes\":true,\"showland\":true,\"subunitcolor\":\"white\"},\"hoverlabel\":{\"align\":\"left\"},\"hovermode\":\"closest\",\"mapbox\":{\"style\":\"light\"},\"paper_bgcolor\":\"white\",\"plot_bgcolor\":\"#E5ECF6\",\"polar\":{\"angularaxis\":{\"gridcolor\":\"white\",\"linecolor\":\"white\",\"ticks\":\"\"},\"bgcolor\":\"#E5ECF6\",\"radialaxis\":{\"gridcolor\":\"white\",\"linecolor\":\"white\",\"ticks\":\"\"}},\"scene\":{\"xaxis\":{\"backgroundcolor\":\"#E5ECF6\",\"gridcolor\":\"white\",\"gridwidth\":2,\"linecolor\":\"white\",\"showbackground\":true,\"ticks\":\"\",\"zerolinecolor\":\"white\"},\"yaxis\":{\"backgroundcolor\":\"#E5ECF6\",\"gridcolor\":\"white\",\"gridwidth\":2,\"linecolor\":\"white\",\"showbackground\":true,\"ticks\":\"\",\"zerolinecolor\":\"white\"},\"zaxis\":{\"backgroundcolor\":\"#E5ECF6\",\"gridcolor\":\"white\",\"gridwidth\":2,\"linecolor\":\"white\",\"showbackground\":true,\"ticks\":\"\",\"zerolinecolor\":\"white\"}},\"shapedefaults\":{\"line\":{\"color\":\"#2a3f5f\"}},\"ternary\":{\"aaxis\":{\"gridcolor\":\"white\",\"linecolor\":\"white\",\"ticks\":\"\"},\"baxis\":{\"gridcolor\":\"white\",\"linecolor\":\"white\",\"ticks\":\"\"},\"bgcolor\":\"#E5ECF6\",\"caxis\":{\"gridcolor\":\"white\",\"linecolor\":\"white\",\"ticks\":\"\"}},\"title\":{\"x\":0.05},\"xaxis\":{\"automargin\":true,\"gridcolor\":\"white\",\"linecolor\":\"white\",\"ticks\":\"\",\"title\":{\"standoff\":15},\"zerolinecolor\":\"white\",\"zerolinewidth\":2},\"yaxis\":{\"automargin\":true,\"gridcolor\":\"white\",\"linecolor\":\"white\",\"ticks\":\"\",\"title\":{\"standoff\":15},\"zerolinecolor\":\"white\",\"zerolinewidth\":2}}},\"xaxis\":{\"anchor\":\"y\",\"domain\":[0.0,1.0],\"title\":{\"text\":\"Fiscal Year\"},\"nticks\":4},\"yaxis\":{\"anchor\":\"x\",\"domain\":[0.0,1.0],\"title\":{\"text\":\"Number of Arrests\"}},\"legend\":{\"title\":{\"text\":\"AOR\"},\"tracegroupgap\":0},\"title\":{\"text\":\"Arrests in AOR per FY\"}},                        {\"responsive\": true}                    ).then(function(){\n",
       "                            \n",
       "var gd = document.getElementById('cd3c4bb2-a61e-4250-b5f6-5bedb2b5797a');\n",
       "var x = new MutationObserver(function (mutations, observer) {{\n",
       "        var display = window.getComputedStyle(gd).display;\n",
       "        if (!display || display === 'none') {{\n",
       "            console.log([gd, 'removed!']);\n",
       "            Plotly.purge(gd);\n",
       "            observer.disconnect();\n",
       "        }}\n",
       "}});\n",
       "\n",
       "// Listen for the removal of the full notebook cells\n",
       "var notebookContainer = gd.closest('#notebook-container');\n",
       "if (notebookContainer) {{\n",
       "    x.observe(notebookContainer, {childList: true});\n",
       "}}\n",
       "\n",
       "// Listen for the clearing of the current output cell\n",
       "var outputEl = gd.closest('.output');\n",
       "if (outputEl) {{\n",
       "    x.observe(outputEl, {childList: true});\n",
       "}}\n",
       "\n",
       "                        })                };                });            </script>        </div>"
      ]
     },
     "metadata": {},
     "output_type": "display_data"
    }
   ],
   "source": [
    "fig = px.line(arrests_by_fy, x=fy, \n",
    "              y=aor, \n",
    "              title = \"Arrests in AOR per FY\",\n",
    "              labels=dict(x=\"Fiscal Year\", y=\"Number of Arrests\"))\n",
    "fig.update_xaxes(title=\"Fiscal Year\", nticks = 4)\n",
    "fig.update_yaxes(title=\"Number of Arrests\")\n",
    "fig.update_layout(legend_title_text='AOR')\n",
    "fig.show()"
   ]
  },
  {
   "cell_type": "markdown",
   "id": "fb561d9e",
   "metadata": {},
   "source": [
    "## Removals by fy"
   ]
  },
  {
   "cell_type": "code",
   "execution_count": 25,
   "id": "8d4baf47",
   "metadata": {},
   "outputs": [],
   "source": [
    "# create subset that counts the removals in each AOR over time\n",
    "removals_by_fy = removals[[\"aor\", \"removal_date\", \"id\"]]\n",
    "removals_by_fy = removals_by_fy.groupby([\"aor\", \"removal_date\"], as_index=False)['id'].count()\n",
    "\n",
    "# pivot table so dates are in rows and AOR is in columns\n",
    "removals_by_fy = removals_by_fy.pivot(index='removal_date', columns='aor', values='id')\n",
    "\n",
    "# group by fiscal year\n",
    "removals_by_fy = removals_by_fy.groupby(pd.Grouper(freq='AS-OCT')).sum()\n",
    "\n",
    "# # create plot of removals over time\n",
    "# removals_by_fy.plot().legend(loc='center left',bbox_to_anchor=(1.1, 0.5))\n",
    "\n",
    "# # create transposed table of removals in each AOR by fiscal year\n",
    "# removals_by_fy.T.sort_values(by=[\"2018-10-01 00:00:00\"], ascending=False).style.format(\"{:,.0f}\")"
   ]
  },
  {
   "cell_type": "code",
   "execution_count": 26,
   "id": "6efd89f6",
   "metadata": {},
   "outputs": [
    {
     "data": {
      "application/vnd.plotly.v1+json": {
       "config": {
        "plotlyServerURL": "https://plot.ly"
       },
       "data": [
        {
         "hovertemplate": "variable=ATL<br>Fiscal Year=%{x}<br>value=%{y}<extra></extra>",
         "legendgroup": "ATL",
         "line": {
          "color": "#636efa",
          "dash": "solid"
         },
         "marker": {
          "symbol": "circle"
         },
         "mode": "lines",
         "name": "ATL",
         "orientation": "v",
         "showlegend": true,
         "type": "scatter",
         "x": [
          "2015-10-01",
          "2016-10-01",
          "2017-10-01",
          "2018-10-01"
         ],
         "xaxis": "x",
         "y": [
          5770,
          12571,
          13727,
          13061
         ],
         "yaxis": "y"
        },
        {
         "hovertemplate": "variable=BAL<br>Fiscal Year=%{x}<br>value=%{y}<extra></extra>",
         "legendgroup": "BAL",
         "line": {
          "color": "#EF553B",
          "dash": "solid"
         },
         "marker": {
          "symbol": "circle"
         },
         "mode": "lines",
         "name": "BAL",
         "orientation": "v",
         "showlegend": true,
         "type": "scatter",
         "x": [
          "2015-10-01",
          "2016-10-01",
          "2017-10-01",
          "2018-10-01"
         ],
         "xaxis": "x",
         "y": [
          683,
          799,
          979,
          844
         ],
         "yaxis": "y"
        },
        {
         "hovertemplate": "variable=BOS<br>Fiscal Year=%{x}<br>value=%{y}<extra></extra>",
         "legendgroup": "BOS",
         "line": {
          "color": "#00cc96",
          "dash": "solid"
         },
         "marker": {
          "symbol": "circle"
         },
         "mode": "lines",
         "name": "BOS",
         "orientation": "v",
         "showlegend": true,
         "type": "scatter",
         "x": [
          "2015-10-01",
          "2016-10-01",
          "2017-10-01",
          "2018-10-01"
         ],
         "xaxis": "x",
         "y": [
          1344,
          1942,
          2405,
          2095
         ],
         "yaxis": "y"
        },
        {
         "hovertemplate": "variable=BUF<br>Fiscal Year=%{x}<br>value=%{y}<extra></extra>",
         "legendgroup": "BUF",
         "line": {
          "color": "#ab63fa",
          "dash": "solid"
         },
         "marker": {
          "symbol": "circle"
         },
         "mode": "lines",
         "name": "BUF",
         "orientation": "v",
         "showlegend": true,
         "type": "scatter",
         "x": [
          "2015-10-01",
          "2016-10-01",
          "2017-10-01",
          "2018-10-01"
         ],
         "xaxis": "x",
         "y": [
          1454,
          1736,
          1753,
          1712
         ],
         "yaxis": "y"
        },
        {
         "hovertemplate": "variable=CHI<br>Fiscal Year=%{x}<br>value=%{y}<extra></extra>",
         "legendgroup": "CHI",
         "line": {
          "color": "#FFA15A",
          "dash": "solid"
         },
         "marker": {
          "symbol": "circle"
         },
         "mode": "lines",
         "name": "CHI",
         "orientation": "v",
         "showlegend": true,
         "type": "scatter",
         "x": [
          "2015-10-01",
          "2016-10-01",
          "2017-10-01",
          "2018-10-01"
         ],
         "xaxis": "x",
         "y": [
          2326,
          5327,
          6104,
          5090
         ],
         "yaxis": "y"
        },
        {
         "hovertemplate": "variable=DAL<br>Fiscal Year=%{x}<br>value=%{y}<extra></extra>",
         "legendgroup": "DAL",
         "line": {
          "color": "#19d3f3",
          "dash": "solid"
         },
         "marker": {
          "symbol": "circle"
         },
         "mode": "lines",
         "name": "DAL",
         "orientation": "v",
         "showlegend": true,
         "type": "scatter",
         "x": [
          "2015-10-01",
          "2016-10-01",
          "2017-10-01",
          "2018-10-01"
         ],
         "xaxis": "x",
         "y": [
          12154,
          14028,
          14818,
          13676
         ],
         "yaxis": "y"
        },
        {
         "hovertemplate": "variable=DEN<br>Fiscal Year=%{x}<br>value=%{y}<extra></extra>",
         "legendgroup": "DEN",
         "line": {
          "color": "#FF6692",
          "dash": "solid"
         },
         "marker": {
          "symbol": "circle"
         },
         "mode": "lines",
         "name": "DEN",
         "orientation": "v",
         "showlegend": true,
         "type": "scatter",
         "x": [
          "2015-10-01",
          "2016-10-01",
          "2017-10-01",
          "2018-10-01"
         ],
         "xaxis": "x",
         "y": [
          1033,
          2535,
          3253,
          2828
         ],
         "yaxis": "y"
        },
        {
         "hovertemplate": "variable=DET<br>Fiscal Year=%{x}<br>value=%{y}<extra></extra>",
         "legendgroup": "DET",
         "line": {
          "color": "#B6E880",
          "dash": "solid"
         },
         "marker": {
          "symbol": "circle"
         },
         "mode": "lines",
         "name": "DET",
         "orientation": "v",
         "showlegend": true,
         "type": "scatter",
         "x": [
          "2015-10-01",
          "2016-10-01",
          "2017-10-01",
          "2018-10-01"
         ],
         "xaxis": "x",
         "y": [
          2056,
          3203,
          4165,
          3786
         ],
         "yaxis": "y"
        },
        {
         "hovertemplate": "variable=ELP<br>Fiscal Year=%{x}<br>value=%{y}<extra></extra>",
         "legendgroup": "ELP",
         "line": {
          "color": "#FF97FF",
          "dash": "solid"
         },
         "marker": {
          "symbol": "circle"
         },
         "mode": "lines",
         "name": "ELP",
         "orientation": "v",
         "showlegend": true,
         "type": "scatter",
         "x": [
          "2015-10-01",
          "2016-10-01",
          "2017-10-01",
          "2018-10-01"
         ],
         "xaxis": "x",
         "y": [
          43590,
          21420,
          21149,
          18594
         ],
         "yaxis": "y"
        },
        {
         "hovertemplate": "variable=HOU<br>Fiscal Year=%{x}<br>value=%{y}<extra></extra>",
         "legendgroup": "HOU",
         "line": {
          "color": "#FECB52",
          "dash": "solid"
         },
         "marker": {
          "symbol": "circle"
         },
         "mode": "lines",
         "name": "HOU",
         "orientation": "v",
         "showlegend": true,
         "type": "scatter",
         "x": [
          "2015-10-01",
          "2016-10-01",
          "2017-10-01",
          "2018-10-01"
         ],
         "xaxis": "x",
         "y": [
          14681,
          13598,
          15899,
          17194
         ],
         "yaxis": "y"
        },
        {
         "hovertemplate": "variable=LOS<br>Fiscal Year=%{x}<br>value=%{y}<extra></extra>",
         "legendgroup": "LOS",
         "line": {
          "color": "#636efa",
          "dash": "solid"
         },
         "marker": {
          "symbol": "circle"
         },
         "mode": "lines",
         "name": "LOS",
         "orientation": "v",
         "showlegend": true,
         "type": "scatter",
         "x": [
          "2015-10-01",
          "2016-10-01",
          "2017-10-01",
          "2018-10-01"
         ],
         "xaxis": "x",
         "y": [
          6722,
          7970,
          8475,
          7934
         ],
         "yaxis": "y"
        },
        {
         "hovertemplate": "variable=MIA<br>Fiscal Year=%{x}<br>value=%{y}<extra></extra>",
         "legendgroup": "MIA",
         "line": {
          "color": "#EF553B",
          "dash": "solid"
         },
         "marker": {
          "symbol": "circle"
         },
         "mode": "lines",
         "name": "MIA",
         "orientation": "v",
         "showlegend": true,
         "type": "scatter",
         "x": [
          "2015-10-01",
          "2016-10-01",
          "2017-10-01",
          "2018-10-01"
         ],
         "xaxis": "x",
         "y": [
          5562,
          7082,
          8091,
          8830
         ],
         "yaxis": "y"
        },
        {
         "hovertemplate": "variable=NEW<br>Fiscal Year=%{x}<br>value=%{y}<extra></extra>",
         "legendgroup": "NEW",
         "line": {
          "color": "#00cc96",
          "dash": "solid"
         },
         "marker": {
          "symbol": "circle"
         },
         "mode": "lines",
         "name": "NEW",
         "orientation": "v",
         "showlegend": true,
         "type": "scatter",
         "x": [
          "2015-10-01",
          "2016-10-01",
          "2017-10-01",
          "2018-10-01"
         ],
         "xaxis": "x",
         "y": [
          1852,
          2536,
          2608,
          2253
         ],
         "yaxis": "y"
        },
        {
         "hovertemplate": "variable=NOL<br>Fiscal Year=%{x}<br>value=%{y}<extra></extra>",
         "legendgroup": "NOL",
         "line": {
          "color": "#ab63fa",
          "dash": "solid"
         },
         "marker": {
          "symbol": "circle"
         },
         "mode": "lines",
         "name": "NOL",
         "orientation": "v",
         "showlegend": true,
         "type": "scatter",
         "x": [
          "2015-10-01",
          "2016-10-01",
          "2017-10-01",
          "2018-10-01"
         ],
         "xaxis": "x",
         "y": [
          4778,
          9471,
          10763,
          11844
         ],
         "yaxis": "y"
        },
        {
         "hovertemplate": "variable=NYC<br>Fiscal Year=%{x}<br>value=%{y}<extra></extra>",
         "legendgroup": "NYC",
         "line": {
          "color": "#FFA15A",
          "dash": "solid"
         },
         "marker": {
          "symbol": "circle"
         },
         "mode": "lines",
         "name": "NYC",
         "orientation": "v",
         "showlegend": true,
         "type": "scatter",
         "x": [
          "2015-10-01",
          "2016-10-01",
          "2017-10-01",
          "2018-10-01"
         ],
         "xaxis": "x",
         "y": [
          1037,
          2006,
          2593,
          2478
         ],
         "yaxis": "y"
        },
        {
         "hovertemplate": "variable=PHI<br>Fiscal Year=%{x}<br>value=%{y}<extra></extra>",
         "legendgroup": "PHI",
         "line": {
          "color": "#19d3f3",
          "dash": "solid"
         },
         "marker": {
          "symbol": "circle"
         },
         "mode": "lines",
         "name": "PHI",
         "orientation": "v",
         "showlegend": true,
         "type": "scatter",
         "x": [
          "2015-10-01",
          "2016-10-01",
          "2017-10-01",
          "2018-10-01"
         ],
         "xaxis": "x",
         "y": [
          3291,
          3831,
          3712,
          3152
         ],
         "yaxis": "y"
        },
        {
         "hovertemplate": "variable=PHO<br>Fiscal Year=%{x}<br>value=%{y}<extra></extra>",
         "legendgroup": "PHO",
         "line": {
          "color": "#FF6692",
          "dash": "solid"
         },
         "marker": {
          "symbol": "circle"
         },
         "mode": "lines",
         "name": "PHO",
         "orientation": "v",
         "showlegend": true,
         "type": "scatter",
         "x": [
          "2015-10-01",
          "2016-10-01",
          "2017-10-01",
          "2018-10-01"
         ],
         "xaxis": "x",
         "y": [
          21984,
          20786,
          26899,
          31232
         ],
         "yaxis": "y"
        },
        {
         "hovertemplate": "variable=SEA<br>Fiscal Year=%{x}<br>value=%{y}<extra></extra>",
         "legendgroup": "SEA",
         "line": {
          "color": "#B6E880",
          "dash": "solid"
         },
         "marker": {
          "symbol": "circle"
         },
         "mode": "lines",
         "name": "SEA",
         "orientation": "v",
         "showlegend": true,
         "type": "scatter",
         "x": [
          "2015-10-01",
          "2016-10-01",
          "2017-10-01",
          "2018-10-01"
         ],
         "xaxis": "x",
         "y": [
          2124,
          3995,
          4089,
          3921
         ],
         "yaxis": "y"
        },
        {
         "hovertemplate": "variable=SFR<br>Fiscal Year=%{x}<br>value=%{y}<extra></extra>",
         "legendgroup": "SFR",
         "line": {
          "color": "#FF97FF",
          "dash": "solid"
         },
         "marker": {
          "symbol": "circle"
         },
         "mode": "lines",
         "name": "SFR",
         "orientation": "v",
         "showlegend": true,
         "type": "scatter",
         "x": [
          "2015-10-01",
          "2016-10-01",
          "2017-10-01",
          "2018-10-01"
         ],
         "xaxis": "x",
         "y": [
          5918,
          6292,
          6113,
          4615
         ],
         "yaxis": "y"
        },
        {
         "hovertemplate": "variable=SLC<br>Fiscal Year=%{x}<br>value=%{y}<extra></extra>",
         "legendgroup": "SLC",
         "line": {
          "color": "#FECB52",
          "dash": "solid"
         },
         "marker": {
          "symbol": "circle"
         },
         "mode": "lines",
         "name": "SLC",
         "orientation": "v",
         "showlegend": true,
         "type": "scatter",
         "x": [
          "2015-10-01",
          "2016-10-01",
          "2017-10-01",
          "2018-10-01"
         ],
         "xaxis": "x",
         "y": [
          1731,
          3550,
          3408,
          2856
         ],
         "yaxis": "y"
        },
        {
         "hovertemplate": "variable=SNA<br>Fiscal Year=%{x}<br>value=%{y}<extra></extra>",
         "legendgroup": "SNA",
         "line": {
          "color": "#636efa",
          "dash": "solid"
         },
         "marker": {
          "symbol": "circle"
         },
         "mode": "lines",
         "name": "SNA",
         "orientation": "v",
         "showlegend": true,
         "type": "scatter",
         "x": [
          "2015-10-01",
          "2016-10-01",
          "2017-10-01",
          "2018-10-01"
         ],
         "xaxis": "x",
         "y": [
          72597,
          55313,
          62363,
          57190
         ],
         "yaxis": "y"
        },
        {
         "hovertemplate": "variable=SND<br>Fiscal Year=%{x}<br>value=%{y}<extra></extra>",
         "legendgroup": "SND",
         "line": {
          "color": "#EF553B",
          "dash": "solid"
         },
         "marker": {
          "symbol": "circle"
         },
         "mode": "lines",
         "name": "SND",
         "orientation": "v",
         "showlegend": true,
         "type": "scatter",
         "x": [
          "2015-10-01",
          "2016-10-01",
          "2017-10-01",
          "2018-10-01"
         ],
         "xaxis": "x",
         "y": [
          23729,
          20945,
          26917,
          21097
         ],
         "yaxis": "y"
        },
        {
         "hovertemplate": "variable=SPM<br>Fiscal Year=%{x}<br>value=%{y}<extra></extra>",
         "legendgroup": "SPM",
         "line": {
          "color": "#00cc96",
          "dash": "solid"
         },
         "marker": {
          "symbol": "circle"
         },
         "mode": "lines",
         "name": "SPM",
         "orientation": "v",
         "showlegend": true,
         "type": "scatter",
         "x": [
          "2015-10-01",
          "2016-10-01",
          "2017-10-01",
          "2018-10-01"
         ],
         "xaxis": "x",
         "y": [
          1838,
          2841,
          3423,
          2815
         ],
         "yaxis": "y"
        },
        {
         "hovertemplate": "variable=WAS<br>Fiscal Year=%{x}<br>value=%{y}<extra></extra>",
         "legendgroup": "WAS",
         "line": {
          "color": "#ab63fa",
          "dash": "solid"
         },
         "marker": {
          "symbol": "circle"
         },
         "mode": "lines",
         "name": "WAS",
         "orientation": "v",
         "showlegend": true,
         "type": "scatter",
         "x": [
          "2015-10-01",
          "2016-10-01",
          "2017-10-01",
          "2018-10-01"
         ],
         "xaxis": "x",
         "y": [
          1986,
          2337,
          2371,
          2404
         ],
         "yaxis": "y"
        }
       ],
       "layout": {
        "legend": {
         "title": {
          "text": "AOR"
         },
         "tracegroupgap": 0
        },
        "template": {
         "data": {
          "bar": [
           {
            "error_x": {
             "color": "#2a3f5f"
            },
            "error_y": {
             "color": "#2a3f5f"
            },
            "marker": {
             "line": {
              "color": "#E5ECF6",
              "width": 0.5
             },
             "pattern": {
              "fillmode": "overlay",
              "size": 10,
              "solidity": 0.2
             }
            },
            "type": "bar"
           }
          ],
          "barpolar": [
           {
            "marker": {
             "line": {
              "color": "#E5ECF6",
              "width": 0.5
             },
             "pattern": {
              "fillmode": "overlay",
              "size": 10,
              "solidity": 0.2
             }
            },
            "type": "barpolar"
           }
          ],
          "carpet": [
           {
            "aaxis": {
             "endlinecolor": "#2a3f5f",
             "gridcolor": "white",
             "linecolor": "white",
             "minorgridcolor": "white",
             "startlinecolor": "#2a3f5f"
            },
            "baxis": {
             "endlinecolor": "#2a3f5f",
             "gridcolor": "white",
             "linecolor": "white",
             "minorgridcolor": "white",
             "startlinecolor": "#2a3f5f"
            },
            "type": "carpet"
           }
          ],
          "choropleth": [
           {
            "colorbar": {
             "outlinewidth": 0,
             "ticks": ""
            },
            "type": "choropleth"
           }
          ],
          "contour": [
           {
            "colorbar": {
             "outlinewidth": 0,
             "ticks": ""
            },
            "colorscale": [
             [
              0,
              "#0d0887"
             ],
             [
              0.1111111111111111,
              "#46039f"
             ],
             [
              0.2222222222222222,
              "#7201a8"
             ],
             [
              0.3333333333333333,
              "#9c179e"
             ],
             [
              0.4444444444444444,
              "#bd3786"
             ],
             [
              0.5555555555555556,
              "#d8576b"
             ],
             [
              0.6666666666666666,
              "#ed7953"
             ],
             [
              0.7777777777777778,
              "#fb9f3a"
             ],
             [
              0.8888888888888888,
              "#fdca26"
             ],
             [
              1,
              "#f0f921"
             ]
            ],
            "type": "contour"
           }
          ],
          "contourcarpet": [
           {
            "colorbar": {
             "outlinewidth": 0,
             "ticks": ""
            },
            "type": "contourcarpet"
           }
          ],
          "heatmap": [
           {
            "colorbar": {
             "outlinewidth": 0,
             "ticks": ""
            },
            "colorscale": [
             [
              0,
              "#0d0887"
             ],
             [
              0.1111111111111111,
              "#46039f"
             ],
             [
              0.2222222222222222,
              "#7201a8"
             ],
             [
              0.3333333333333333,
              "#9c179e"
             ],
             [
              0.4444444444444444,
              "#bd3786"
             ],
             [
              0.5555555555555556,
              "#d8576b"
             ],
             [
              0.6666666666666666,
              "#ed7953"
             ],
             [
              0.7777777777777778,
              "#fb9f3a"
             ],
             [
              0.8888888888888888,
              "#fdca26"
             ],
             [
              1,
              "#f0f921"
             ]
            ],
            "type": "heatmap"
           }
          ],
          "heatmapgl": [
           {
            "colorbar": {
             "outlinewidth": 0,
             "ticks": ""
            },
            "colorscale": [
             [
              0,
              "#0d0887"
             ],
             [
              0.1111111111111111,
              "#46039f"
             ],
             [
              0.2222222222222222,
              "#7201a8"
             ],
             [
              0.3333333333333333,
              "#9c179e"
             ],
             [
              0.4444444444444444,
              "#bd3786"
             ],
             [
              0.5555555555555556,
              "#d8576b"
             ],
             [
              0.6666666666666666,
              "#ed7953"
             ],
             [
              0.7777777777777778,
              "#fb9f3a"
             ],
             [
              0.8888888888888888,
              "#fdca26"
             ],
             [
              1,
              "#f0f921"
             ]
            ],
            "type": "heatmapgl"
           }
          ],
          "histogram": [
           {
            "marker": {
             "pattern": {
              "fillmode": "overlay",
              "size": 10,
              "solidity": 0.2
             }
            },
            "type": "histogram"
           }
          ],
          "histogram2d": [
           {
            "colorbar": {
             "outlinewidth": 0,
             "ticks": ""
            },
            "colorscale": [
             [
              0,
              "#0d0887"
             ],
             [
              0.1111111111111111,
              "#46039f"
             ],
             [
              0.2222222222222222,
              "#7201a8"
             ],
             [
              0.3333333333333333,
              "#9c179e"
             ],
             [
              0.4444444444444444,
              "#bd3786"
             ],
             [
              0.5555555555555556,
              "#d8576b"
             ],
             [
              0.6666666666666666,
              "#ed7953"
             ],
             [
              0.7777777777777778,
              "#fb9f3a"
             ],
             [
              0.8888888888888888,
              "#fdca26"
             ],
             [
              1,
              "#f0f921"
             ]
            ],
            "type": "histogram2d"
           }
          ],
          "histogram2dcontour": [
           {
            "colorbar": {
             "outlinewidth": 0,
             "ticks": ""
            },
            "colorscale": [
             [
              0,
              "#0d0887"
             ],
             [
              0.1111111111111111,
              "#46039f"
             ],
             [
              0.2222222222222222,
              "#7201a8"
             ],
             [
              0.3333333333333333,
              "#9c179e"
             ],
             [
              0.4444444444444444,
              "#bd3786"
             ],
             [
              0.5555555555555556,
              "#d8576b"
             ],
             [
              0.6666666666666666,
              "#ed7953"
             ],
             [
              0.7777777777777778,
              "#fb9f3a"
             ],
             [
              0.8888888888888888,
              "#fdca26"
             ],
             [
              1,
              "#f0f921"
             ]
            ],
            "type": "histogram2dcontour"
           }
          ],
          "mesh3d": [
           {
            "colorbar": {
             "outlinewidth": 0,
             "ticks": ""
            },
            "type": "mesh3d"
           }
          ],
          "parcoords": [
           {
            "line": {
             "colorbar": {
              "outlinewidth": 0,
              "ticks": ""
             }
            },
            "type": "parcoords"
           }
          ],
          "pie": [
           {
            "automargin": true,
            "type": "pie"
           }
          ],
          "scatter": [
           {
            "marker": {
             "colorbar": {
              "outlinewidth": 0,
              "ticks": ""
             }
            },
            "type": "scatter"
           }
          ],
          "scatter3d": [
           {
            "line": {
             "colorbar": {
              "outlinewidth": 0,
              "ticks": ""
             }
            },
            "marker": {
             "colorbar": {
              "outlinewidth": 0,
              "ticks": ""
             }
            },
            "type": "scatter3d"
           }
          ],
          "scattercarpet": [
           {
            "marker": {
             "colorbar": {
              "outlinewidth": 0,
              "ticks": ""
             }
            },
            "type": "scattercarpet"
           }
          ],
          "scattergeo": [
           {
            "marker": {
             "colorbar": {
              "outlinewidth": 0,
              "ticks": ""
             }
            },
            "type": "scattergeo"
           }
          ],
          "scattergl": [
           {
            "marker": {
             "colorbar": {
              "outlinewidth": 0,
              "ticks": ""
             }
            },
            "type": "scattergl"
           }
          ],
          "scattermapbox": [
           {
            "marker": {
             "colorbar": {
              "outlinewidth": 0,
              "ticks": ""
             }
            },
            "type": "scattermapbox"
           }
          ],
          "scatterpolar": [
           {
            "marker": {
             "colorbar": {
              "outlinewidth": 0,
              "ticks": ""
             }
            },
            "type": "scatterpolar"
           }
          ],
          "scatterpolargl": [
           {
            "marker": {
             "colorbar": {
              "outlinewidth": 0,
              "ticks": ""
             }
            },
            "type": "scatterpolargl"
           }
          ],
          "scatterternary": [
           {
            "marker": {
             "colorbar": {
              "outlinewidth": 0,
              "ticks": ""
             }
            },
            "type": "scatterternary"
           }
          ],
          "surface": [
           {
            "colorbar": {
             "outlinewidth": 0,
             "ticks": ""
            },
            "colorscale": [
             [
              0,
              "#0d0887"
             ],
             [
              0.1111111111111111,
              "#46039f"
             ],
             [
              0.2222222222222222,
              "#7201a8"
             ],
             [
              0.3333333333333333,
              "#9c179e"
             ],
             [
              0.4444444444444444,
              "#bd3786"
             ],
             [
              0.5555555555555556,
              "#d8576b"
             ],
             [
              0.6666666666666666,
              "#ed7953"
             ],
             [
              0.7777777777777778,
              "#fb9f3a"
             ],
             [
              0.8888888888888888,
              "#fdca26"
             ],
             [
              1,
              "#f0f921"
             ]
            ],
            "type": "surface"
           }
          ],
          "table": [
           {
            "cells": {
             "fill": {
              "color": "#EBF0F8"
             },
             "line": {
              "color": "white"
             }
            },
            "header": {
             "fill": {
              "color": "#C8D4E3"
             },
             "line": {
              "color": "white"
             }
            },
            "type": "table"
           }
          ]
         },
         "layout": {
          "annotationdefaults": {
           "arrowcolor": "#2a3f5f",
           "arrowhead": 0,
           "arrowwidth": 1
          },
          "autotypenumbers": "strict",
          "coloraxis": {
           "colorbar": {
            "outlinewidth": 0,
            "ticks": ""
           }
          },
          "colorscale": {
           "diverging": [
            [
             0,
             "#8e0152"
            ],
            [
             0.1,
             "#c51b7d"
            ],
            [
             0.2,
             "#de77ae"
            ],
            [
             0.3,
             "#f1b6da"
            ],
            [
             0.4,
             "#fde0ef"
            ],
            [
             0.5,
             "#f7f7f7"
            ],
            [
             0.6,
             "#e6f5d0"
            ],
            [
             0.7,
             "#b8e186"
            ],
            [
             0.8,
             "#7fbc41"
            ],
            [
             0.9,
             "#4d9221"
            ],
            [
             1,
             "#276419"
            ]
           ],
           "sequential": [
            [
             0,
             "#0d0887"
            ],
            [
             0.1111111111111111,
             "#46039f"
            ],
            [
             0.2222222222222222,
             "#7201a8"
            ],
            [
             0.3333333333333333,
             "#9c179e"
            ],
            [
             0.4444444444444444,
             "#bd3786"
            ],
            [
             0.5555555555555556,
             "#d8576b"
            ],
            [
             0.6666666666666666,
             "#ed7953"
            ],
            [
             0.7777777777777778,
             "#fb9f3a"
            ],
            [
             0.8888888888888888,
             "#fdca26"
            ],
            [
             1,
             "#f0f921"
            ]
           ],
           "sequentialminus": [
            [
             0,
             "#0d0887"
            ],
            [
             0.1111111111111111,
             "#46039f"
            ],
            [
             0.2222222222222222,
             "#7201a8"
            ],
            [
             0.3333333333333333,
             "#9c179e"
            ],
            [
             0.4444444444444444,
             "#bd3786"
            ],
            [
             0.5555555555555556,
             "#d8576b"
            ],
            [
             0.6666666666666666,
             "#ed7953"
            ],
            [
             0.7777777777777778,
             "#fb9f3a"
            ],
            [
             0.8888888888888888,
             "#fdca26"
            ],
            [
             1,
             "#f0f921"
            ]
           ]
          },
          "colorway": [
           "#636efa",
           "#EF553B",
           "#00cc96",
           "#ab63fa",
           "#FFA15A",
           "#19d3f3",
           "#FF6692",
           "#B6E880",
           "#FF97FF",
           "#FECB52"
          ],
          "font": {
           "color": "#2a3f5f"
          },
          "geo": {
           "bgcolor": "white",
           "lakecolor": "white",
           "landcolor": "#E5ECF6",
           "showlakes": true,
           "showland": true,
           "subunitcolor": "white"
          },
          "hoverlabel": {
           "align": "left"
          },
          "hovermode": "closest",
          "mapbox": {
           "style": "light"
          },
          "paper_bgcolor": "white",
          "plot_bgcolor": "#E5ECF6",
          "polar": {
           "angularaxis": {
            "gridcolor": "white",
            "linecolor": "white",
            "ticks": ""
           },
           "bgcolor": "#E5ECF6",
           "radialaxis": {
            "gridcolor": "white",
            "linecolor": "white",
            "ticks": ""
           }
          },
          "scene": {
           "xaxis": {
            "backgroundcolor": "#E5ECF6",
            "gridcolor": "white",
            "gridwidth": 2,
            "linecolor": "white",
            "showbackground": true,
            "ticks": "",
            "zerolinecolor": "white"
           },
           "yaxis": {
            "backgroundcolor": "#E5ECF6",
            "gridcolor": "white",
            "gridwidth": 2,
            "linecolor": "white",
            "showbackground": true,
            "ticks": "",
            "zerolinecolor": "white"
           },
           "zaxis": {
            "backgroundcolor": "#E5ECF6",
            "gridcolor": "white",
            "gridwidth": 2,
            "linecolor": "white",
            "showbackground": true,
            "ticks": "",
            "zerolinecolor": "white"
           }
          },
          "shapedefaults": {
           "line": {
            "color": "#2a3f5f"
           }
          },
          "ternary": {
           "aaxis": {
            "gridcolor": "white",
            "linecolor": "white",
            "ticks": ""
           },
           "baxis": {
            "gridcolor": "white",
            "linecolor": "white",
            "ticks": ""
           },
           "bgcolor": "#E5ECF6",
           "caxis": {
            "gridcolor": "white",
            "linecolor": "white",
            "ticks": ""
           }
          },
          "title": {
           "x": 0.05
          },
          "xaxis": {
           "automargin": true,
           "gridcolor": "white",
           "linecolor": "white",
           "ticks": "",
           "title": {
            "standoff": 15
           },
           "zerolinecolor": "white",
           "zerolinewidth": 2
          },
          "yaxis": {
           "automargin": true,
           "gridcolor": "white",
           "linecolor": "white",
           "ticks": "",
           "title": {
            "standoff": 15
           },
           "zerolinecolor": "white",
           "zerolinewidth": 2
          }
         }
        },
        "title": {
         "text": "Removals in AOR per FY"
        },
        "xaxis": {
         "anchor": "y",
         "domain": [
          0,
          1
         ],
         "nticks": 4,
         "title": {
          "text": "Fiscal Year"
         }
        },
        "yaxis": {
         "anchor": "x",
         "domain": [
          0,
          1
         ],
         "title": {
          "text": "Number of Removals"
         }
        }
       }
      },
      "text/html": [
       "<div>                            <div id=\"ff149b94-62d3-43fd-8f3c-ba93e1ea105f\" class=\"plotly-graph-div\" style=\"height:525px; width:100%;\"></div>            <script type=\"text/javascript\">                require([\"plotly\"], function(Plotly) {                    window.PLOTLYENV=window.PLOTLYENV || {};                                    if (document.getElementById(\"ff149b94-62d3-43fd-8f3c-ba93e1ea105f\")) {                    Plotly.newPlot(                        \"ff149b94-62d3-43fd-8f3c-ba93e1ea105f\",                        [{\"hovertemplate\":\"variable=ATL<br>Fiscal Year=%{x}<br>value=%{y}<extra></extra>\",\"legendgroup\":\"ATL\",\"line\":{\"color\":\"#636efa\",\"dash\":\"solid\"},\"marker\":{\"symbol\":\"circle\"},\"mode\":\"lines\",\"name\":\"ATL\",\"orientation\":\"v\",\"showlegend\":true,\"x\":[\"2015-10-01\",\"2016-10-01\",\"2017-10-01\",\"2018-10-01\"],\"xaxis\":\"x\",\"y\":[5770,12571,13727,13061],\"yaxis\":\"y\",\"type\":\"scatter\"},{\"hovertemplate\":\"variable=BAL<br>Fiscal Year=%{x}<br>value=%{y}<extra></extra>\",\"legendgroup\":\"BAL\",\"line\":{\"color\":\"#EF553B\",\"dash\":\"solid\"},\"marker\":{\"symbol\":\"circle\"},\"mode\":\"lines\",\"name\":\"BAL\",\"orientation\":\"v\",\"showlegend\":true,\"x\":[\"2015-10-01\",\"2016-10-01\",\"2017-10-01\",\"2018-10-01\"],\"xaxis\":\"x\",\"y\":[683,799,979,844],\"yaxis\":\"y\",\"type\":\"scatter\"},{\"hovertemplate\":\"variable=BOS<br>Fiscal Year=%{x}<br>value=%{y}<extra></extra>\",\"legendgroup\":\"BOS\",\"line\":{\"color\":\"#00cc96\",\"dash\":\"solid\"},\"marker\":{\"symbol\":\"circle\"},\"mode\":\"lines\",\"name\":\"BOS\",\"orientation\":\"v\",\"showlegend\":true,\"x\":[\"2015-10-01\",\"2016-10-01\",\"2017-10-01\",\"2018-10-01\"],\"xaxis\":\"x\",\"y\":[1344,1942,2405,2095],\"yaxis\":\"y\",\"type\":\"scatter\"},{\"hovertemplate\":\"variable=BUF<br>Fiscal Year=%{x}<br>value=%{y}<extra></extra>\",\"legendgroup\":\"BUF\",\"line\":{\"color\":\"#ab63fa\",\"dash\":\"solid\"},\"marker\":{\"symbol\":\"circle\"},\"mode\":\"lines\",\"name\":\"BUF\",\"orientation\":\"v\",\"showlegend\":true,\"x\":[\"2015-10-01\",\"2016-10-01\",\"2017-10-01\",\"2018-10-01\"],\"xaxis\":\"x\",\"y\":[1454,1736,1753,1712],\"yaxis\":\"y\",\"type\":\"scatter\"},{\"hovertemplate\":\"variable=CHI<br>Fiscal Year=%{x}<br>value=%{y}<extra></extra>\",\"legendgroup\":\"CHI\",\"line\":{\"color\":\"#FFA15A\",\"dash\":\"solid\"},\"marker\":{\"symbol\":\"circle\"},\"mode\":\"lines\",\"name\":\"CHI\",\"orientation\":\"v\",\"showlegend\":true,\"x\":[\"2015-10-01\",\"2016-10-01\",\"2017-10-01\",\"2018-10-01\"],\"xaxis\":\"x\",\"y\":[2326,5327,6104,5090],\"yaxis\":\"y\",\"type\":\"scatter\"},{\"hovertemplate\":\"variable=DAL<br>Fiscal Year=%{x}<br>value=%{y}<extra></extra>\",\"legendgroup\":\"DAL\",\"line\":{\"color\":\"#19d3f3\",\"dash\":\"solid\"},\"marker\":{\"symbol\":\"circle\"},\"mode\":\"lines\",\"name\":\"DAL\",\"orientation\":\"v\",\"showlegend\":true,\"x\":[\"2015-10-01\",\"2016-10-01\",\"2017-10-01\",\"2018-10-01\"],\"xaxis\":\"x\",\"y\":[12154,14028,14818,13676],\"yaxis\":\"y\",\"type\":\"scatter\"},{\"hovertemplate\":\"variable=DEN<br>Fiscal Year=%{x}<br>value=%{y}<extra></extra>\",\"legendgroup\":\"DEN\",\"line\":{\"color\":\"#FF6692\",\"dash\":\"solid\"},\"marker\":{\"symbol\":\"circle\"},\"mode\":\"lines\",\"name\":\"DEN\",\"orientation\":\"v\",\"showlegend\":true,\"x\":[\"2015-10-01\",\"2016-10-01\",\"2017-10-01\",\"2018-10-01\"],\"xaxis\":\"x\",\"y\":[1033,2535,3253,2828],\"yaxis\":\"y\",\"type\":\"scatter\"},{\"hovertemplate\":\"variable=DET<br>Fiscal Year=%{x}<br>value=%{y}<extra></extra>\",\"legendgroup\":\"DET\",\"line\":{\"color\":\"#B6E880\",\"dash\":\"solid\"},\"marker\":{\"symbol\":\"circle\"},\"mode\":\"lines\",\"name\":\"DET\",\"orientation\":\"v\",\"showlegend\":true,\"x\":[\"2015-10-01\",\"2016-10-01\",\"2017-10-01\",\"2018-10-01\"],\"xaxis\":\"x\",\"y\":[2056,3203,4165,3786],\"yaxis\":\"y\",\"type\":\"scatter\"},{\"hovertemplate\":\"variable=ELP<br>Fiscal Year=%{x}<br>value=%{y}<extra></extra>\",\"legendgroup\":\"ELP\",\"line\":{\"color\":\"#FF97FF\",\"dash\":\"solid\"},\"marker\":{\"symbol\":\"circle\"},\"mode\":\"lines\",\"name\":\"ELP\",\"orientation\":\"v\",\"showlegend\":true,\"x\":[\"2015-10-01\",\"2016-10-01\",\"2017-10-01\",\"2018-10-01\"],\"xaxis\":\"x\",\"y\":[43590,21420,21149,18594],\"yaxis\":\"y\",\"type\":\"scatter\"},{\"hovertemplate\":\"variable=HOU<br>Fiscal Year=%{x}<br>value=%{y}<extra></extra>\",\"legendgroup\":\"HOU\",\"line\":{\"color\":\"#FECB52\",\"dash\":\"solid\"},\"marker\":{\"symbol\":\"circle\"},\"mode\":\"lines\",\"name\":\"HOU\",\"orientation\":\"v\",\"showlegend\":true,\"x\":[\"2015-10-01\",\"2016-10-01\",\"2017-10-01\",\"2018-10-01\"],\"xaxis\":\"x\",\"y\":[14681,13598,15899,17194],\"yaxis\":\"y\",\"type\":\"scatter\"},{\"hovertemplate\":\"variable=LOS<br>Fiscal Year=%{x}<br>value=%{y}<extra></extra>\",\"legendgroup\":\"LOS\",\"line\":{\"color\":\"#636efa\",\"dash\":\"solid\"},\"marker\":{\"symbol\":\"circle\"},\"mode\":\"lines\",\"name\":\"LOS\",\"orientation\":\"v\",\"showlegend\":true,\"x\":[\"2015-10-01\",\"2016-10-01\",\"2017-10-01\",\"2018-10-01\"],\"xaxis\":\"x\",\"y\":[6722,7970,8475,7934],\"yaxis\":\"y\",\"type\":\"scatter\"},{\"hovertemplate\":\"variable=MIA<br>Fiscal Year=%{x}<br>value=%{y}<extra></extra>\",\"legendgroup\":\"MIA\",\"line\":{\"color\":\"#EF553B\",\"dash\":\"solid\"},\"marker\":{\"symbol\":\"circle\"},\"mode\":\"lines\",\"name\":\"MIA\",\"orientation\":\"v\",\"showlegend\":true,\"x\":[\"2015-10-01\",\"2016-10-01\",\"2017-10-01\",\"2018-10-01\"],\"xaxis\":\"x\",\"y\":[5562,7082,8091,8830],\"yaxis\":\"y\",\"type\":\"scatter\"},{\"hovertemplate\":\"variable=NEW<br>Fiscal Year=%{x}<br>value=%{y}<extra></extra>\",\"legendgroup\":\"NEW\",\"line\":{\"color\":\"#00cc96\",\"dash\":\"solid\"},\"marker\":{\"symbol\":\"circle\"},\"mode\":\"lines\",\"name\":\"NEW\",\"orientation\":\"v\",\"showlegend\":true,\"x\":[\"2015-10-01\",\"2016-10-01\",\"2017-10-01\",\"2018-10-01\"],\"xaxis\":\"x\",\"y\":[1852,2536,2608,2253],\"yaxis\":\"y\",\"type\":\"scatter\"},{\"hovertemplate\":\"variable=NOL<br>Fiscal Year=%{x}<br>value=%{y}<extra></extra>\",\"legendgroup\":\"NOL\",\"line\":{\"color\":\"#ab63fa\",\"dash\":\"solid\"},\"marker\":{\"symbol\":\"circle\"},\"mode\":\"lines\",\"name\":\"NOL\",\"orientation\":\"v\",\"showlegend\":true,\"x\":[\"2015-10-01\",\"2016-10-01\",\"2017-10-01\",\"2018-10-01\"],\"xaxis\":\"x\",\"y\":[4778,9471,10763,11844],\"yaxis\":\"y\",\"type\":\"scatter\"},{\"hovertemplate\":\"variable=NYC<br>Fiscal Year=%{x}<br>value=%{y}<extra></extra>\",\"legendgroup\":\"NYC\",\"line\":{\"color\":\"#FFA15A\",\"dash\":\"solid\"},\"marker\":{\"symbol\":\"circle\"},\"mode\":\"lines\",\"name\":\"NYC\",\"orientation\":\"v\",\"showlegend\":true,\"x\":[\"2015-10-01\",\"2016-10-01\",\"2017-10-01\",\"2018-10-01\"],\"xaxis\":\"x\",\"y\":[1037,2006,2593,2478],\"yaxis\":\"y\",\"type\":\"scatter\"},{\"hovertemplate\":\"variable=PHI<br>Fiscal Year=%{x}<br>value=%{y}<extra></extra>\",\"legendgroup\":\"PHI\",\"line\":{\"color\":\"#19d3f3\",\"dash\":\"solid\"},\"marker\":{\"symbol\":\"circle\"},\"mode\":\"lines\",\"name\":\"PHI\",\"orientation\":\"v\",\"showlegend\":true,\"x\":[\"2015-10-01\",\"2016-10-01\",\"2017-10-01\",\"2018-10-01\"],\"xaxis\":\"x\",\"y\":[3291,3831,3712,3152],\"yaxis\":\"y\",\"type\":\"scatter\"},{\"hovertemplate\":\"variable=PHO<br>Fiscal Year=%{x}<br>value=%{y}<extra></extra>\",\"legendgroup\":\"PHO\",\"line\":{\"color\":\"#FF6692\",\"dash\":\"solid\"},\"marker\":{\"symbol\":\"circle\"},\"mode\":\"lines\",\"name\":\"PHO\",\"orientation\":\"v\",\"showlegend\":true,\"x\":[\"2015-10-01\",\"2016-10-01\",\"2017-10-01\",\"2018-10-01\"],\"xaxis\":\"x\",\"y\":[21984,20786,26899,31232],\"yaxis\":\"y\",\"type\":\"scatter\"},{\"hovertemplate\":\"variable=SEA<br>Fiscal Year=%{x}<br>value=%{y}<extra></extra>\",\"legendgroup\":\"SEA\",\"line\":{\"color\":\"#B6E880\",\"dash\":\"solid\"},\"marker\":{\"symbol\":\"circle\"},\"mode\":\"lines\",\"name\":\"SEA\",\"orientation\":\"v\",\"showlegend\":true,\"x\":[\"2015-10-01\",\"2016-10-01\",\"2017-10-01\",\"2018-10-01\"],\"xaxis\":\"x\",\"y\":[2124,3995,4089,3921],\"yaxis\":\"y\",\"type\":\"scatter\"},{\"hovertemplate\":\"variable=SFR<br>Fiscal Year=%{x}<br>value=%{y}<extra></extra>\",\"legendgroup\":\"SFR\",\"line\":{\"color\":\"#FF97FF\",\"dash\":\"solid\"},\"marker\":{\"symbol\":\"circle\"},\"mode\":\"lines\",\"name\":\"SFR\",\"orientation\":\"v\",\"showlegend\":true,\"x\":[\"2015-10-01\",\"2016-10-01\",\"2017-10-01\",\"2018-10-01\"],\"xaxis\":\"x\",\"y\":[5918,6292,6113,4615],\"yaxis\":\"y\",\"type\":\"scatter\"},{\"hovertemplate\":\"variable=SLC<br>Fiscal Year=%{x}<br>value=%{y}<extra></extra>\",\"legendgroup\":\"SLC\",\"line\":{\"color\":\"#FECB52\",\"dash\":\"solid\"},\"marker\":{\"symbol\":\"circle\"},\"mode\":\"lines\",\"name\":\"SLC\",\"orientation\":\"v\",\"showlegend\":true,\"x\":[\"2015-10-01\",\"2016-10-01\",\"2017-10-01\",\"2018-10-01\"],\"xaxis\":\"x\",\"y\":[1731,3550,3408,2856],\"yaxis\":\"y\",\"type\":\"scatter\"},{\"hovertemplate\":\"variable=SNA<br>Fiscal Year=%{x}<br>value=%{y}<extra></extra>\",\"legendgroup\":\"SNA\",\"line\":{\"color\":\"#636efa\",\"dash\":\"solid\"},\"marker\":{\"symbol\":\"circle\"},\"mode\":\"lines\",\"name\":\"SNA\",\"orientation\":\"v\",\"showlegend\":true,\"x\":[\"2015-10-01\",\"2016-10-01\",\"2017-10-01\",\"2018-10-01\"],\"xaxis\":\"x\",\"y\":[72597,55313,62363,57190],\"yaxis\":\"y\",\"type\":\"scatter\"},{\"hovertemplate\":\"variable=SND<br>Fiscal Year=%{x}<br>value=%{y}<extra></extra>\",\"legendgroup\":\"SND\",\"line\":{\"color\":\"#EF553B\",\"dash\":\"solid\"},\"marker\":{\"symbol\":\"circle\"},\"mode\":\"lines\",\"name\":\"SND\",\"orientation\":\"v\",\"showlegend\":true,\"x\":[\"2015-10-01\",\"2016-10-01\",\"2017-10-01\",\"2018-10-01\"],\"xaxis\":\"x\",\"y\":[23729,20945,26917,21097],\"yaxis\":\"y\",\"type\":\"scatter\"},{\"hovertemplate\":\"variable=SPM<br>Fiscal Year=%{x}<br>value=%{y}<extra></extra>\",\"legendgroup\":\"SPM\",\"line\":{\"color\":\"#00cc96\",\"dash\":\"solid\"},\"marker\":{\"symbol\":\"circle\"},\"mode\":\"lines\",\"name\":\"SPM\",\"orientation\":\"v\",\"showlegend\":true,\"x\":[\"2015-10-01\",\"2016-10-01\",\"2017-10-01\",\"2018-10-01\"],\"xaxis\":\"x\",\"y\":[1838,2841,3423,2815],\"yaxis\":\"y\",\"type\":\"scatter\"},{\"hovertemplate\":\"variable=WAS<br>Fiscal Year=%{x}<br>value=%{y}<extra></extra>\",\"legendgroup\":\"WAS\",\"line\":{\"color\":\"#ab63fa\",\"dash\":\"solid\"},\"marker\":{\"symbol\":\"circle\"},\"mode\":\"lines\",\"name\":\"WAS\",\"orientation\":\"v\",\"showlegend\":true,\"x\":[\"2015-10-01\",\"2016-10-01\",\"2017-10-01\",\"2018-10-01\"],\"xaxis\":\"x\",\"y\":[1986,2337,2371,2404],\"yaxis\":\"y\",\"type\":\"scatter\"}],                        {\"template\":{\"data\":{\"bar\":[{\"error_x\":{\"color\":\"#2a3f5f\"},\"error_y\":{\"color\":\"#2a3f5f\"},\"marker\":{\"line\":{\"color\":\"#E5ECF6\",\"width\":0.5},\"pattern\":{\"fillmode\":\"overlay\",\"size\":10,\"solidity\":0.2}},\"type\":\"bar\"}],\"barpolar\":[{\"marker\":{\"line\":{\"color\":\"#E5ECF6\",\"width\":0.5},\"pattern\":{\"fillmode\":\"overlay\",\"size\":10,\"solidity\":0.2}},\"type\":\"barpolar\"}],\"carpet\":[{\"aaxis\":{\"endlinecolor\":\"#2a3f5f\",\"gridcolor\":\"white\",\"linecolor\":\"white\",\"minorgridcolor\":\"white\",\"startlinecolor\":\"#2a3f5f\"},\"baxis\":{\"endlinecolor\":\"#2a3f5f\",\"gridcolor\":\"white\",\"linecolor\":\"white\",\"minorgridcolor\":\"white\",\"startlinecolor\":\"#2a3f5f\"},\"type\":\"carpet\"}],\"choropleth\":[{\"colorbar\":{\"outlinewidth\":0,\"ticks\":\"\"},\"type\":\"choropleth\"}],\"contour\":[{\"colorbar\":{\"outlinewidth\":0,\"ticks\":\"\"},\"colorscale\":[[0.0,\"#0d0887\"],[0.1111111111111111,\"#46039f\"],[0.2222222222222222,\"#7201a8\"],[0.3333333333333333,\"#9c179e\"],[0.4444444444444444,\"#bd3786\"],[0.5555555555555556,\"#d8576b\"],[0.6666666666666666,\"#ed7953\"],[0.7777777777777778,\"#fb9f3a\"],[0.8888888888888888,\"#fdca26\"],[1.0,\"#f0f921\"]],\"type\":\"contour\"}],\"contourcarpet\":[{\"colorbar\":{\"outlinewidth\":0,\"ticks\":\"\"},\"type\":\"contourcarpet\"}],\"heatmap\":[{\"colorbar\":{\"outlinewidth\":0,\"ticks\":\"\"},\"colorscale\":[[0.0,\"#0d0887\"],[0.1111111111111111,\"#46039f\"],[0.2222222222222222,\"#7201a8\"],[0.3333333333333333,\"#9c179e\"],[0.4444444444444444,\"#bd3786\"],[0.5555555555555556,\"#d8576b\"],[0.6666666666666666,\"#ed7953\"],[0.7777777777777778,\"#fb9f3a\"],[0.8888888888888888,\"#fdca26\"],[1.0,\"#f0f921\"]],\"type\":\"heatmap\"}],\"heatmapgl\":[{\"colorbar\":{\"outlinewidth\":0,\"ticks\":\"\"},\"colorscale\":[[0.0,\"#0d0887\"],[0.1111111111111111,\"#46039f\"],[0.2222222222222222,\"#7201a8\"],[0.3333333333333333,\"#9c179e\"],[0.4444444444444444,\"#bd3786\"],[0.5555555555555556,\"#d8576b\"],[0.6666666666666666,\"#ed7953\"],[0.7777777777777778,\"#fb9f3a\"],[0.8888888888888888,\"#fdca26\"],[1.0,\"#f0f921\"]],\"type\":\"heatmapgl\"}],\"histogram\":[{\"marker\":{\"pattern\":{\"fillmode\":\"overlay\",\"size\":10,\"solidity\":0.2}},\"type\":\"histogram\"}],\"histogram2d\":[{\"colorbar\":{\"outlinewidth\":0,\"ticks\":\"\"},\"colorscale\":[[0.0,\"#0d0887\"],[0.1111111111111111,\"#46039f\"],[0.2222222222222222,\"#7201a8\"],[0.3333333333333333,\"#9c179e\"],[0.4444444444444444,\"#bd3786\"],[0.5555555555555556,\"#d8576b\"],[0.6666666666666666,\"#ed7953\"],[0.7777777777777778,\"#fb9f3a\"],[0.8888888888888888,\"#fdca26\"],[1.0,\"#f0f921\"]],\"type\":\"histogram2d\"}],\"histogram2dcontour\":[{\"colorbar\":{\"outlinewidth\":0,\"ticks\":\"\"},\"colorscale\":[[0.0,\"#0d0887\"],[0.1111111111111111,\"#46039f\"],[0.2222222222222222,\"#7201a8\"],[0.3333333333333333,\"#9c179e\"],[0.4444444444444444,\"#bd3786\"],[0.5555555555555556,\"#d8576b\"],[0.6666666666666666,\"#ed7953\"],[0.7777777777777778,\"#fb9f3a\"],[0.8888888888888888,\"#fdca26\"],[1.0,\"#f0f921\"]],\"type\":\"histogram2dcontour\"}],\"mesh3d\":[{\"colorbar\":{\"outlinewidth\":0,\"ticks\":\"\"},\"type\":\"mesh3d\"}],\"parcoords\":[{\"line\":{\"colorbar\":{\"outlinewidth\":0,\"ticks\":\"\"}},\"type\":\"parcoords\"}],\"pie\":[{\"automargin\":true,\"type\":\"pie\"}],\"scatter\":[{\"marker\":{\"colorbar\":{\"outlinewidth\":0,\"ticks\":\"\"}},\"type\":\"scatter\"}],\"scatter3d\":[{\"line\":{\"colorbar\":{\"outlinewidth\":0,\"ticks\":\"\"}},\"marker\":{\"colorbar\":{\"outlinewidth\":0,\"ticks\":\"\"}},\"type\":\"scatter3d\"}],\"scattercarpet\":[{\"marker\":{\"colorbar\":{\"outlinewidth\":0,\"ticks\":\"\"}},\"type\":\"scattercarpet\"}],\"scattergeo\":[{\"marker\":{\"colorbar\":{\"outlinewidth\":0,\"ticks\":\"\"}},\"type\":\"scattergeo\"}],\"scattergl\":[{\"marker\":{\"colorbar\":{\"outlinewidth\":0,\"ticks\":\"\"}},\"type\":\"scattergl\"}],\"scattermapbox\":[{\"marker\":{\"colorbar\":{\"outlinewidth\":0,\"ticks\":\"\"}},\"type\":\"scattermapbox\"}],\"scatterpolar\":[{\"marker\":{\"colorbar\":{\"outlinewidth\":0,\"ticks\":\"\"}},\"type\":\"scatterpolar\"}],\"scatterpolargl\":[{\"marker\":{\"colorbar\":{\"outlinewidth\":0,\"ticks\":\"\"}},\"type\":\"scatterpolargl\"}],\"scatterternary\":[{\"marker\":{\"colorbar\":{\"outlinewidth\":0,\"ticks\":\"\"}},\"type\":\"scatterternary\"}],\"surface\":[{\"colorbar\":{\"outlinewidth\":0,\"ticks\":\"\"},\"colorscale\":[[0.0,\"#0d0887\"],[0.1111111111111111,\"#46039f\"],[0.2222222222222222,\"#7201a8\"],[0.3333333333333333,\"#9c179e\"],[0.4444444444444444,\"#bd3786\"],[0.5555555555555556,\"#d8576b\"],[0.6666666666666666,\"#ed7953\"],[0.7777777777777778,\"#fb9f3a\"],[0.8888888888888888,\"#fdca26\"],[1.0,\"#f0f921\"]],\"type\":\"surface\"}],\"table\":[{\"cells\":{\"fill\":{\"color\":\"#EBF0F8\"},\"line\":{\"color\":\"white\"}},\"header\":{\"fill\":{\"color\":\"#C8D4E3\"},\"line\":{\"color\":\"white\"}},\"type\":\"table\"}]},\"layout\":{\"annotationdefaults\":{\"arrowcolor\":\"#2a3f5f\",\"arrowhead\":0,\"arrowwidth\":1},\"autotypenumbers\":\"strict\",\"coloraxis\":{\"colorbar\":{\"outlinewidth\":0,\"ticks\":\"\"}},\"colorscale\":{\"diverging\":[[0,\"#8e0152\"],[0.1,\"#c51b7d\"],[0.2,\"#de77ae\"],[0.3,\"#f1b6da\"],[0.4,\"#fde0ef\"],[0.5,\"#f7f7f7\"],[0.6,\"#e6f5d0\"],[0.7,\"#b8e186\"],[0.8,\"#7fbc41\"],[0.9,\"#4d9221\"],[1,\"#276419\"]],\"sequential\":[[0.0,\"#0d0887\"],[0.1111111111111111,\"#46039f\"],[0.2222222222222222,\"#7201a8\"],[0.3333333333333333,\"#9c179e\"],[0.4444444444444444,\"#bd3786\"],[0.5555555555555556,\"#d8576b\"],[0.6666666666666666,\"#ed7953\"],[0.7777777777777778,\"#fb9f3a\"],[0.8888888888888888,\"#fdca26\"],[1.0,\"#f0f921\"]],\"sequentialminus\":[[0.0,\"#0d0887\"],[0.1111111111111111,\"#46039f\"],[0.2222222222222222,\"#7201a8\"],[0.3333333333333333,\"#9c179e\"],[0.4444444444444444,\"#bd3786\"],[0.5555555555555556,\"#d8576b\"],[0.6666666666666666,\"#ed7953\"],[0.7777777777777778,\"#fb9f3a\"],[0.8888888888888888,\"#fdca26\"],[1.0,\"#f0f921\"]]},\"colorway\":[\"#636efa\",\"#EF553B\",\"#00cc96\",\"#ab63fa\",\"#FFA15A\",\"#19d3f3\",\"#FF6692\",\"#B6E880\",\"#FF97FF\",\"#FECB52\"],\"font\":{\"color\":\"#2a3f5f\"},\"geo\":{\"bgcolor\":\"white\",\"lakecolor\":\"white\",\"landcolor\":\"#E5ECF6\",\"showlakes\":true,\"showland\":true,\"subunitcolor\":\"white\"},\"hoverlabel\":{\"align\":\"left\"},\"hovermode\":\"closest\",\"mapbox\":{\"style\":\"light\"},\"paper_bgcolor\":\"white\",\"plot_bgcolor\":\"#E5ECF6\",\"polar\":{\"angularaxis\":{\"gridcolor\":\"white\",\"linecolor\":\"white\",\"ticks\":\"\"},\"bgcolor\":\"#E5ECF6\",\"radialaxis\":{\"gridcolor\":\"white\",\"linecolor\":\"white\",\"ticks\":\"\"}},\"scene\":{\"xaxis\":{\"backgroundcolor\":\"#E5ECF6\",\"gridcolor\":\"white\",\"gridwidth\":2,\"linecolor\":\"white\",\"showbackground\":true,\"ticks\":\"\",\"zerolinecolor\":\"white\"},\"yaxis\":{\"backgroundcolor\":\"#E5ECF6\",\"gridcolor\":\"white\",\"gridwidth\":2,\"linecolor\":\"white\",\"showbackground\":true,\"ticks\":\"\",\"zerolinecolor\":\"white\"},\"zaxis\":{\"backgroundcolor\":\"#E5ECF6\",\"gridcolor\":\"white\",\"gridwidth\":2,\"linecolor\":\"white\",\"showbackground\":true,\"ticks\":\"\",\"zerolinecolor\":\"white\"}},\"shapedefaults\":{\"line\":{\"color\":\"#2a3f5f\"}},\"ternary\":{\"aaxis\":{\"gridcolor\":\"white\",\"linecolor\":\"white\",\"ticks\":\"\"},\"baxis\":{\"gridcolor\":\"white\",\"linecolor\":\"white\",\"ticks\":\"\"},\"bgcolor\":\"#E5ECF6\",\"caxis\":{\"gridcolor\":\"white\",\"linecolor\":\"white\",\"ticks\":\"\"}},\"title\":{\"x\":0.05},\"xaxis\":{\"automargin\":true,\"gridcolor\":\"white\",\"linecolor\":\"white\",\"ticks\":\"\",\"title\":{\"standoff\":15},\"zerolinecolor\":\"white\",\"zerolinewidth\":2},\"yaxis\":{\"automargin\":true,\"gridcolor\":\"white\",\"linecolor\":\"white\",\"ticks\":\"\",\"title\":{\"standoff\":15},\"zerolinecolor\":\"white\",\"zerolinewidth\":2}}},\"xaxis\":{\"anchor\":\"y\",\"domain\":[0.0,1.0],\"title\":{\"text\":\"Fiscal Year\"},\"nticks\":4},\"yaxis\":{\"anchor\":\"x\",\"domain\":[0.0,1.0],\"title\":{\"text\":\"Number of Removals\"}},\"legend\":{\"title\":{\"text\":\"AOR\"},\"tracegroupgap\":0},\"title\":{\"text\":\"Removals in AOR per FY\"}},                        {\"responsive\": true}                    ).then(function(){\n",
       "                            \n",
       "var gd = document.getElementById('ff149b94-62d3-43fd-8f3c-ba93e1ea105f');\n",
       "var x = new MutationObserver(function (mutations, observer) {{\n",
       "        var display = window.getComputedStyle(gd).display;\n",
       "        if (!display || display === 'none') {{\n",
       "            console.log([gd, 'removed!']);\n",
       "            Plotly.purge(gd);\n",
       "            observer.disconnect();\n",
       "        }}\n",
       "}});\n",
       "\n",
       "// Listen for the removal of the full notebook cells\n",
       "var notebookContainer = gd.closest('#notebook-container');\n",
       "if (notebookContainer) {{\n",
       "    x.observe(notebookContainer, {childList: true});\n",
       "}}\n",
       "\n",
       "// Listen for the clearing of the current output cell\n",
       "var outputEl = gd.closest('.output');\n",
       "if (outputEl) {{\n",
       "    x.observe(outputEl, {childList: true});\n",
       "}}\n",
       "\n",
       "                        })                };                });            </script>        </div>"
      ]
     },
     "metadata": {},
     "output_type": "display_data"
    }
   ],
   "source": [
    "fig = px.line(removals_by_fy, x=fy, \n",
    "              y=aor, \n",
    "              title = \"Removals in AOR per FY\",\n",
    "              labels=dict(x=\"Fiscal Year\", y=\"Number of Removals\"))\n",
    "fig.update_xaxes(title=\"Fiscal Year\", nticks = 4)\n",
    "fig.update_yaxes(title=\"Number of Removals\")\n",
    "fig.update_layout(legend_title_text='AOR')\n",
    "fig.show()"
   ]
  },
  {
   "cell_type": "markdown",
   "id": "b46bb804",
   "metadata": {},
   "source": [
    "## Encounters by FY"
   ]
  },
  {
   "cell_type": "code",
   "execution_count": 27,
   "id": "0c806ee3",
   "metadata": {},
   "outputs": [],
   "source": [
    "# create subset of just aor, date, and id\n",
    "encounters_by_fy = encounters[[\"aor\", \"event_date\", \"id\"]]\n",
    "\n",
    "# group subset by aor and date, then count ids\n",
    "encounters_by_fy = encounters_by_fy.groupby([\"aor\", \"event_date\"], \n",
    "                                            as_index=False, dropna=False)['id'].count()\n",
    "\n",
    "# pivot subset so that index is the event date and columns are aor (allows for easy Grouper in next line of code)\n",
    "encounters_by_fy = encounters_by_fy.pivot(index='event_date', \n",
    "                                          columns='aor', values='id')\n",
    "\n",
    "# group subset by fiscal year and total all the values \n",
    "encounters_by_fy = encounters_by_fy.groupby(pd.Grouper(freq='AS-OCT'), dropna=False).sum()"
   ]
  },
  {
   "cell_type": "code",
   "execution_count": 28,
   "id": "9c581440",
   "metadata": {},
   "outputs": [
    {
     "data": {
      "application/vnd.plotly.v1+json": {
       "config": {
        "plotlyServerURL": "https://plot.ly"
       },
       "data": [
        {
         "hovertemplate": "variable=ATL<br>Fiscal Year=%{x}<br>value=%{y}<extra></extra>",
         "legendgroup": "ATL",
         "line": {
          "color": "#636efa",
          "dash": "solid"
         },
         "marker": {
          "symbol": "circle"
         },
         "mode": "lines",
         "name": "ATL",
         "orientation": "v",
         "showlegend": true,
         "type": "scatter",
         "x": [
          "2015-10-01",
          "2016-10-01",
          "2017-10-01",
          "2018-10-01"
         ],
         "xaxis": "x",
         "y": [
          33227,
          28263,
          28876,
          25275
         ],
         "yaxis": "y"
        },
        {
         "hovertemplate": "variable=BAL<br>Fiscal Year=%{x}<br>value=%{y}<extra></extra>",
         "legendgroup": "BAL",
         "line": {
          "color": "#EF553B",
          "dash": "solid"
         },
         "marker": {
          "symbol": "circle"
         },
         "mode": "lines",
         "name": "BAL",
         "orientation": "v",
         "showlegend": true,
         "type": "scatter",
         "x": [
          "2015-10-01",
          "2016-10-01",
          "2017-10-01",
          "2018-10-01"
         ],
         "xaxis": "x",
         "y": [
          6427,
          4801,
          3938,
          3865
         ],
         "yaxis": "y"
        },
        {
         "hovertemplate": "variable=BOS<br>Fiscal Year=%{x}<br>value=%{y}<extra></extra>",
         "legendgroup": "BOS",
         "line": {
          "color": "#00cc96",
          "dash": "solid"
         },
         "marker": {
          "symbol": "circle"
         },
         "mode": "lines",
         "name": "BOS",
         "orientation": "v",
         "showlegend": true,
         "type": "scatter",
         "x": [
          "2015-10-01",
          "2016-10-01",
          "2017-10-01",
          "2018-10-01"
         ],
         "xaxis": "x",
         "y": [
          8869,
          9491,
          10339,
          8482
         ],
         "yaxis": "y"
        },
        {
         "hovertemplate": "variable=BUF<br>Fiscal Year=%{x}<br>value=%{y}<extra></extra>",
         "legendgroup": "BUF",
         "line": {
          "color": "#ab63fa",
          "dash": "solid"
         },
         "marker": {
          "symbol": "circle"
         },
         "mode": "lines",
         "name": "BUF",
         "orientation": "v",
         "showlegend": true,
         "type": "scatter",
         "x": [
          "2015-10-01",
          "2016-10-01",
          "2017-10-01",
          "2018-10-01"
         ],
         "xaxis": "x",
         "y": [
          6102,
          4338,
          3547,
          3127
         ],
         "yaxis": "y"
        },
        {
         "hovertemplate": "variable=CHI<br>Fiscal Year=%{x}<br>value=%{y}<extra></extra>",
         "legendgroup": "CHI",
         "line": {
          "color": "#FFA15A",
          "dash": "solid"
         },
         "marker": {
          "symbol": "circle"
         },
         "mode": "lines",
         "name": "CHI",
         "orientation": "v",
         "showlegend": true,
         "type": "scatter",
         "x": [
          "2015-10-01",
          "2016-10-01",
          "2017-10-01",
          "2018-10-01"
         ],
         "xaxis": "x",
         "y": [
          9446,
          12814,
          13251,
          11147
         ],
         "yaxis": "y"
        },
        {
         "hovertemplate": "variable=DAL<br>Fiscal Year=%{x}<br>value=%{y}<extra></extra>",
         "legendgroup": "DAL",
         "line": {
          "color": "#19d3f3",
          "dash": "solid"
         },
         "marker": {
          "symbol": "circle"
         },
         "mode": "lines",
         "name": "DAL",
         "orientation": "v",
         "showlegend": true,
         "type": "scatter",
         "x": [
          "2015-10-01",
          "2016-10-01",
          "2017-10-01",
          "2018-10-01"
         ],
         "xaxis": "x",
         "y": [
          28904,
          33308,
          33758,
          29929
         ],
         "yaxis": "y"
        },
        {
         "hovertemplate": "variable=DEN<br>Fiscal Year=%{x}<br>value=%{y}<extra></extra>",
         "legendgroup": "DEN",
         "line": {
          "color": "#FF6692",
          "dash": "solid"
         },
         "marker": {
          "symbol": "circle"
         },
         "mode": "lines",
         "name": "DEN",
         "orientation": "v",
         "showlegend": true,
         "type": "scatter",
         "x": [
          "2015-10-01",
          "2016-10-01",
          "2017-10-01",
          "2018-10-01"
         ],
         "xaxis": "x",
         "y": [
          10289,
          9659,
          8794,
          7759
         ],
         "yaxis": "y"
        },
        {
         "hovertemplate": "variable=DET<br>Fiscal Year=%{x}<br>value=%{y}<extra></extra>",
         "legendgroup": "DET",
         "line": {
          "color": "#B6E880",
          "dash": "solid"
         },
         "marker": {
          "symbol": "circle"
         },
         "mode": "lines",
         "name": "DET",
         "orientation": "v",
         "showlegend": true,
         "type": "scatter",
         "x": [
          "2015-10-01",
          "2016-10-01",
          "2017-10-01",
          "2018-10-01"
         ],
         "xaxis": "x",
         "y": [
          8266,
          9769,
          9039,
          5826
         ],
         "yaxis": "y"
        },
        {
         "hovertemplate": "variable=ELP<br>Fiscal Year=%{x}<br>value=%{y}<extra></extra>",
         "legendgroup": "ELP",
         "line": {
          "color": "#FF97FF",
          "dash": "solid"
         },
         "marker": {
          "symbol": "circle"
         },
         "mode": "lines",
         "name": "ELP",
         "orientation": "v",
         "showlegend": true,
         "type": "scatter",
         "x": [
          "2015-10-01",
          "2016-10-01",
          "2017-10-01",
          "2018-10-01"
         ],
         "xaxis": "x",
         "y": [
          3119,
          3205,
          3279,
          3002
         ],
         "yaxis": "y"
        },
        {
         "hovertemplate": "variable=HOU<br>Fiscal Year=%{x}<br>value=%{y}<extra></extra>",
         "legendgroup": "HOU",
         "line": {
          "color": "#FECB52",
          "dash": "solid"
         },
         "marker": {
          "symbol": "circle"
         },
         "mode": "lines",
         "name": "HOU",
         "orientation": "v",
         "showlegend": true,
         "type": "scatter",
         "x": [
          "2015-10-01",
          "2016-10-01",
          "2017-10-01",
          "2018-10-01"
         ],
         "xaxis": "x",
         "y": [
          17112,
          18404,
          19295,
          15311
         ],
         "yaxis": "y"
        },
        {
         "hovertemplate": "variable=LOS<br>Fiscal Year=%{x}<br>value=%{y}<extra></extra>",
         "legendgroup": "LOS",
         "line": {
          "color": "#636efa",
          "dash": "solid"
         },
         "marker": {
          "symbol": "circle"
         },
         "mode": "lines",
         "name": "LOS",
         "orientation": "v",
         "showlegend": true,
         "type": "scatter",
         "x": [
          "2015-10-01",
          "2016-10-01",
          "2017-10-01",
          "2018-10-01"
         ],
         "xaxis": "x",
         "y": [
          27046,
          38256,
          54971,
          51134
         ],
         "yaxis": "y"
        },
        {
         "hovertemplate": "variable=MIA<br>Fiscal Year=%{x}<br>value=%{y}<extra></extra>",
         "legendgroup": "MIA",
         "line": {
          "color": "#EF553B",
          "dash": "solid"
         },
         "marker": {
          "symbol": "circle"
         },
         "mode": "lines",
         "name": "MIA",
         "orientation": "v",
         "showlegend": true,
         "type": "scatter",
         "x": [
          "2015-10-01",
          "2016-10-01",
          "2017-10-01",
          "2018-10-01"
         ],
         "xaxis": "x",
         "y": [
          27114,
          31627,
          45876,
          45330
         ],
         "yaxis": "y"
        },
        {
         "hovertemplate": "variable=NEW<br>Fiscal Year=%{x}<br>value=%{y}<extra></extra>",
         "legendgroup": "NEW",
         "line": {
          "color": "#00cc96",
          "dash": "solid"
         },
         "marker": {
          "symbol": "circle"
         },
         "mode": "lines",
         "name": "NEW",
         "orientation": "v",
         "showlegend": true,
         "type": "scatter",
         "x": [
          "2015-10-01",
          "2016-10-01",
          "2017-10-01",
          "2018-10-01"
         ],
         "xaxis": "x",
         "y": [
          12279,
          15105,
          10975,
          9728
         ],
         "yaxis": "y"
        },
        {
         "hovertemplate": "variable=NOL<br>Fiscal Year=%{x}<br>value=%{y}<extra></extra>",
         "legendgroup": "NOL",
         "line": {
          "color": "#ab63fa",
          "dash": "solid"
         },
         "marker": {
          "symbol": "circle"
         },
         "mode": "lines",
         "name": "NOL",
         "orientation": "v",
         "showlegend": true,
         "type": "scatter",
         "x": [
          "2015-10-01",
          "2016-10-01",
          "2017-10-01",
          "2018-10-01"
         ],
         "xaxis": "x",
         "y": [
          8728,
          13382,
          17099,
          13588
         ],
         "yaxis": "y"
        },
        {
         "hovertemplate": "variable=NYC<br>Fiscal Year=%{x}<br>value=%{y}<extra></extra>",
         "legendgroup": "NYC",
         "line": {
          "color": "#FFA15A",
          "dash": "solid"
         },
         "marker": {
          "symbol": "circle"
         },
         "mode": "lines",
         "name": "NYC",
         "orientation": "v",
         "showlegend": true,
         "type": "scatter",
         "x": [
          "2015-10-01",
          "2016-10-01",
          "2017-10-01",
          "2018-10-01"
         ],
         "xaxis": "x",
         "y": [
          22294,
          49882,
          42028,
          33001
         ],
         "yaxis": "y"
        },
        {
         "hovertemplate": "variable=PHI<br>Fiscal Year=%{x}<br>value=%{y}<extra></extra>",
         "legendgroup": "PHI",
         "line": {
          "color": "#19d3f3",
          "dash": "solid"
         },
         "marker": {
          "symbol": "circle"
         },
         "mode": "lines",
         "name": "PHI",
         "orientation": "v",
         "showlegend": true,
         "type": "scatter",
         "x": [
          "2015-10-01",
          "2016-10-01",
          "2017-10-01",
          "2018-10-01"
         ],
         "xaxis": "x",
         "y": [
          9992,
          11392,
          9638,
          6858
         ],
         "yaxis": "y"
        },
        {
         "hovertemplate": "variable=PHO<br>Fiscal Year=%{x}<br>value=%{y}<extra></extra>",
         "legendgroup": "PHO",
         "line": {
          "color": "#FF6692",
          "dash": "solid"
         },
         "marker": {
          "symbol": "circle"
         },
         "mode": "lines",
         "name": "PHO",
         "orientation": "v",
         "showlegend": true,
         "type": "scatter",
         "x": [
          "2015-10-01",
          "2016-10-01",
          "2017-10-01",
          "2018-10-01"
         ],
         "xaxis": "x",
         "y": [
          18219,
          19695,
          20108,
          16802
         ],
         "yaxis": "y"
        },
        {
         "hovertemplate": "variable=SEA<br>Fiscal Year=%{x}<br>value=%{y}<extra></extra>",
         "legendgroup": "SEA",
         "line": {
          "color": "#B6E880",
          "dash": "solid"
         },
         "marker": {
          "symbol": "circle"
         },
         "mode": "lines",
         "name": "SEA",
         "orientation": "v",
         "showlegend": true,
         "type": "scatter",
         "x": [
          "2015-10-01",
          "2016-10-01",
          "2017-10-01",
          "2018-10-01"
         ],
         "xaxis": "x",
         "y": [
          11986,
          13266,
          14780,
          12582
         ],
         "yaxis": "y"
        },
        {
         "hovertemplate": "variable=SFR<br>Fiscal Year=%{x}<br>value=%{y}<extra></extra>",
         "legendgroup": "SFR",
         "line": {
          "color": "#FF97FF",
          "dash": "solid"
         },
         "marker": {
          "symbol": "circle"
         },
         "mode": "lines",
         "name": "SFR",
         "orientation": "v",
         "showlegend": true,
         "type": "scatter",
         "x": [
          "2015-10-01",
          "2016-10-01",
          "2017-10-01",
          "2018-10-01"
         ],
         "xaxis": "x",
         "y": [
          21523,
          23292,
          19060,
          12936
         ],
         "yaxis": "y"
        },
        {
         "hovertemplate": "variable=SLC<br>Fiscal Year=%{x}<br>value=%{y}<extra></extra>",
         "legendgroup": "SLC",
         "line": {
          "color": "#FECB52",
          "dash": "solid"
         },
         "marker": {
          "symbol": "circle"
         },
         "mode": "lines",
         "name": "SLC",
         "orientation": "v",
         "showlegend": true,
         "type": "scatter",
         "x": [
          "2015-10-01",
          "2016-10-01",
          "2017-10-01",
          "2018-10-01"
         ],
         "xaxis": "x",
         "y": [
          11637,
          12247,
          13126,
          9889
         ],
         "yaxis": "y"
        },
        {
         "hovertemplate": "variable=SNA<br>Fiscal Year=%{x}<br>value=%{y}<extra></extra>",
         "legendgroup": "SNA",
         "line": {
          "color": "#636efa",
          "dash": "solid"
         },
         "marker": {
          "symbol": "circle"
         },
         "mode": "lines",
         "name": "SNA",
         "orientation": "v",
         "showlegend": true,
         "type": "scatter",
         "x": [
          "2015-10-01",
          "2016-10-01",
          "2017-10-01",
          "2018-10-01"
         ],
         "xaxis": "x",
         "y": [
          15552,
          19749,
          23144,
          19832
         ],
         "yaxis": "y"
        },
        {
         "hovertemplate": "variable=SND<br>Fiscal Year=%{x}<br>value=%{y}<extra></extra>",
         "legendgroup": "SND",
         "line": {
          "color": "#EF553B",
          "dash": "solid"
         },
         "marker": {
          "symbol": "circle"
         },
         "mode": "lines",
         "name": "SND",
         "orientation": "v",
         "showlegend": true,
         "type": "scatter",
         "x": [
          "2015-10-01",
          "2016-10-01",
          "2017-10-01",
          "2018-10-01"
         ],
         "xaxis": "x",
         "y": [
          9237,
          9166,
          9961,
          5905
         ],
         "yaxis": "y"
        },
        {
         "hovertemplate": "variable=SPM<br>Fiscal Year=%{x}<br>value=%{y}<extra></extra>",
         "legendgroup": "SPM",
         "line": {
          "color": "#00cc96",
          "dash": "solid"
         },
         "marker": {
          "symbol": "circle"
         },
         "mode": "lines",
         "name": "SPM",
         "orientation": "v",
         "showlegend": true,
         "type": "scatter",
         "x": [
          "2015-10-01",
          "2016-10-01",
          "2017-10-01",
          "2018-10-01"
         ],
         "xaxis": "x",
         "y": [
          14819,
          17698,
          18080,
          16730
         ],
         "yaxis": "y"
        },
        {
         "hovertemplate": "variable=WAS<br>Fiscal Year=%{x}<br>value=%{y}<extra></extra>",
         "legendgroup": "WAS",
         "line": {
          "color": "#ab63fa",
          "dash": "solid"
         },
         "marker": {
          "symbol": "circle"
         },
         "mode": "lines",
         "name": "WAS",
         "orientation": "v",
         "showlegend": true,
         "type": "scatter",
         "x": [
          "2015-10-01",
          "2016-10-01",
          "2017-10-01",
          "2018-10-01"
         ],
         "xaxis": "x",
         "y": [
          13004,
          10277,
          11738,
          9792
         ],
         "yaxis": "y"
        }
       ],
       "layout": {
        "legend": {
         "title": {
          "text": "AOR"
         },
         "tracegroupgap": 0
        },
        "template": {
         "data": {
          "bar": [
           {
            "error_x": {
             "color": "#2a3f5f"
            },
            "error_y": {
             "color": "#2a3f5f"
            },
            "marker": {
             "line": {
              "color": "#E5ECF6",
              "width": 0.5
             },
             "pattern": {
              "fillmode": "overlay",
              "size": 10,
              "solidity": 0.2
             }
            },
            "type": "bar"
           }
          ],
          "barpolar": [
           {
            "marker": {
             "line": {
              "color": "#E5ECF6",
              "width": 0.5
             },
             "pattern": {
              "fillmode": "overlay",
              "size": 10,
              "solidity": 0.2
             }
            },
            "type": "barpolar"
           }
          ],
          "carpet": [
           {
            "aaxis": {
             "endlinecolor": "#2a3f5f",
             "gridcolor": "white",
             "linecolor": "white",
             "minorgridcolor": "white",
             "startlinecolor": "#2a3f5f"
            },
            "baxis": {
             "endlinecolor": "#2a3f5f",
             "gridcolor": "white",
             "linecolor": "white",
             "minorgridcolor": "white",
             "startlinecolor": "#2a3f5f"
            },
            "type": "carpet"
           }
          ],
          "choropleth": [
           {
            "colorbar": {
             "outlinewidth": 0,
             "ticks": ""
            },
            "type": "choropleth"
           }
          ],
          "contour": [
           {
            "colorbar": {
             "outlinewidth": 0,
             "ticks": ""
            },
            "colorscale": [
             [
              0,
              "#0d0887"
             ],
             [
              0.1111111111111111,
              "#46039f"
             ],
             [
              0.2222222222222222,
              "#7201a8"
             ],
             [
              0.3333333333333333,
              "#9c179e"
             ],
             [
              0.4444444444444444,
              "#bd3786"
             ],
             [
              0.5555555555555556,
              "#d8576b"
             ],
             [
              0.6666666666666666,
              "#ed7953"
             ],
             [
              0.7777777777777778,
              "#fb9f3a"
             ],
             [
              0.8888888888888888,
              "#fdca26"
             ],
             [
              1,
              "#f0f921"
             ]
            ],
            "type": "contour"
           }
          ],
          "contourcarpet": [
           {
            "colorbar": {
             "outlinewidth": 0,
             "ticks": ""
            },
            "type": "contourcarpet"
           }
          ],
          "heatmap": [
           {
            "colorbar": {
             "outlinewidth": 0,
             "ticks": ""
            },
            "colorscale": [
             [
              0,
              "#0d0887"
             ],
             [
              0.1111111111111111,
              "#46039f"
             ],
             [
              0.2222222222222222,
              "#7201a8"
             ],
             [
              0.3333333333333333,
              "#9c179e"
             ],
             [
              0.4444444444444444,
              "#bd3786"
             ],
             [
              0.5555555555555556,
              "#d8576b"
             ],
             [
              0.6666666666666666,
              "#ed7953"
             ],
             [
              0.7777777777777778,
              "#fb9f3a"
             ],
             [
              0.8888888888888888,
              "#fdca26"
             ],
             [
              1,
              "#f0f921"
             ]
            ],
            "type": "heatmap"
           }
          ],
          "heatmapgl": [
           {
            "colorbar": {
             "outlinewidth": 0,
             "ticks": ""
            },
            "colorscale": [
             [
              0,
              "#0d0887"
             ],
             [
              0.1111111111111111,
              "#46039f"
             ],
             [
              0.2222222222222222,
              "#7201a8"
             ],
             [
              0.3333333333333333,
              "#9c179e"
             ],
             [
              0.4444444444444444,
              "#bd3786"
             ],
             [
              0.5555555555555556,
              "#d8576b"
             ],
             [
              0.6666666666666666,
              "#ed7953"
             ],
             [
              0.7777777777777778,
              "#fb9f3a"
             ],
             [
              0.8888888888888888,
              "#fdca26"
             ],
             [
              1,
              "#f0f921"
             ]
            ],
            "type": "heatmapgl"
           }
          ],
          "histogram": [
           {
            "marker": {
             "pattern": {
              "fillmode": "overlay",
              "size": 10,
              "solidity": 0.2
             }
            },
            "type": "histogram"
           }
          ],
          "histogram2d": [
           {
            "colorbar": {
             "outlinewidth": 0,
             "ticks": ""
            },
            "colorscale": [
             [
              0,
              "#0d0887"
             ],
             [
              0.1111111111111111,
              "#46039f"
             ],
             [
              0.2222222222222222,
              "#7201a8"
             ],
             [
              0.3333333333333333,
              "#9c179e"
             ],
             [
              0.4444444444444444,
              "#bd3786"
             ],
             [
              0.5555555555555556,
              "#d8576b"
             ],
             [
              0.6666666666666666,
              "#ed7953"
             ],
             [
              0.7777777777777778,
              "#fb9f3a"
             ],
             [
              0.8888888888888888,
              "#fdca26"
             ],
             [
              1,
              "#f0f921"
             ]
            ],
            "type": "histogram2d"
           }
          ],
          "histogram2dcontour": [
           {
            "colorbar": {
             "outlinewidth": 0,
             "ticks": ""
            },
            "colorscale": [
             [
              0,
              "#0d0887"
             ],
             [
              0.1111111111111111,
              "#46039f"
             ],
             [
              0.2222222222222222,
              "#7201a8"
             ],
             [
              0.3333333333333333,
              "#9c179e"
             ],
             [
              0.4444444444444444,
              "#bd3786"
             ],
             [
              0.5555555555555556,
              "#d8576b"
             ],
             [
              0.6666666666666666,
              "#ed7953"
             ],
             [
              0.7777777777777778,
              "#fb9f3a"
             ],
             [
              0.8888888888888888,
              "#fdca26"
             ],
             [
              1,
              "#f0f921"
             ]
            ],
            "type": "histogram2dcontour"
           }
          ],
          "mesh3d": [
           {
            "colorbar": {
             "outlinewidth": 0,
             "ticks": ""
            },
            "type": "mesh3d"
           }
          ],
          "parcoords": [
           {
            "line": {
             "colorbar": {
              "outlinewidth": 0,
              "ticks": ""
             }
            },
            "type": "parcoords"
           }
          ],
          "pie": [
           {
            "automargin": true,
            "type": "pie"
           }
          ],
          "scatter": [
           {
            "marker": {
             "colorbar": {
              "outlinewidth": 0,
              "ticks": ""
             }
            },
            "type": "scatter"
           }
          ],
          "scatter3d": [
           {
            "line": {
             "colorbar": {
              "outlinewidth": 0,
              "ticks": ""
             }
            },
            "marker": {
             "colorbar": {
              "outlinewidth": 0,
              "ticks": ""
             }
            },
            "type": "scatter3d"
           }
          ],
          "scattercarpet": [
           {
            "marker": {
             "colorbar": {
              "outlinewidth": 0,
              "ticks": ""
             }
            },
            "type": "scattercarpet"
           }
          ],
          "scattergeo": [
           {
            "marker": {
             "colorbar": {
              "outlinewidth": 0,
              "ticks": ""
             }
            },
            "type": "scattergeo"
           }
          ],
          "scattergl": [
           {
            "marker": {
             "colorbar": {
              "outlinewidth": 0,
              "ticks": ""
             }
            },
            "type": "scattergl"
           }
          ],
          "scattermapbox": [
           {
            "marker": {
             "colorbar": {
              "outlinewidth": 0,
              "ticks": ""
             }
            },
            "type": "scattermapbox"
           }
          ],
          "scatterpolar": [
           {
            "marker": {
             "colorbar": {
              "outlinewidth": 0,
              "ticks": ""
             }
            },
            "type": "scatterpolar"
           }
          ],
          "scatterpolargl": [
           {
            "marker": {
             "colorbar": {
              "outlinewidth": 0,
              "ticks": ""
             }
            },
            "type": "scatterpolargl"
           }
          ],
          "scatterternary": [
           {
            "marker": {
             "colorbar": {
              "outlinewidth": 0,
              "ticks": ""
             }
            },
            "type": "scatterternary"
           }
          ],
          "surface": [
           {
            "colorbar": {
             "outlinewidth": 0,
             "ticks": ""
            },
            "colorscale": [
             [
              0,
              "#0d0887"
             ],
             [
              0.1111111111111111,
              "#46039f"
             ],
             [
              0.2222222222222222,
              "#7201a8"
             ],
             [
              0.3333333333333333,
              "#9c179e"
             ],
             [
              0.4444444444444444,
              "#bd3786"
             ],
             [
              0.5555555555555556,
              "#d8576b"
             ],
             [
              0.6666666666666666,
              "#ed7953"
             ],
             [
              0.7777777777777778,
              "#fb9f3a"
             ],
             [
              0.8888888888888888,
              "#fdca26"
             ],
             [
              1,
              "#f0f921"
             ]
            ],
            "type": "surface"
           }
          ],
          "table": [
           {
            "cells": {
             "fill": {
              "color": "#EBF0F8"
             },
             "line": {
              "color": "white"
             }
            },
            "header": {
             "fill": {
              "color": "#C8D4E3"
             },
             "line": {
              "color": "white"
             }
            },
            "type": "table"
           }
          ]
         },
         "layout": {
          "annotationdefaults": {
           "arrowcolor": "#2a3f5f",
           "arrowhead": 0,
           "arrowwidth": 1
          },
          "autotypenumbers": "strict",
          "coloraxis": {
           "colorbar": {
            "outlinewidth": 0,
            "ticks": ""
           }
          },
          "colorscale": {
           "diverging": [
            [
             0,
             "#8e0152"
            ],
            [
             0.1,
             "#c51b7d"
            ],
            [
             0.2,
             "#de77ae"
            ],
            [
             0.3,
             "#f1b6da"
            ],
            [
             0.4,
             "#fde0ef"
            ],
            [
             0.5,
             "#f7f7f7"
            ],
            [
             0.6,
             "#e6f5d0"
            ],
            [
             0.7,
             "#b8e186"
            ],
            [
             0.8,
             "#7fbc41"
            ],
            [
             0.9,
             "#4d9221"
            ],
            [
             1,
             "#276419"
            ]
           ],
           "sequential": [
            [
             0,
             "#0d0887"
            ],
            [
             0.1111111111111111,
             "#46039f"
            ],
            [
             0.2222222222222222,
             "#7201a8"
            ],
            [
             0.3333333333333333,
             "#9c179e"
            ],
            [
             0.4444444444444444,
             "#bd3786"
            ],
            [
             0.5555555555555556,
             "#d8576b"
            ],
            [
             0.6666666666666666,
             "#ed7953"
            ],
            [
             0.7777777777777778,
             "#fb9f3a"
            ],
            [
             0.8888888888888888,
             "#fdca26"
            ],
            [
             1,
             "#f0f921"
            ]
           ],
           "sequentialminus": [
            [
             0,
             "#0d0887"
            ],
            [
             0.1111111111111111,
             "#46039f"
            ],
            [
             0.2222222222222222,
             "#7201a8"
            ],
            [
             0.3333333333333333,
             "#9c179e"
            ],
            [
             0.4444444444444444,
             "#bd3786"
            ],
            [
             0.5555555555555556,
             "#d8576b"
            ],
            [
             0.6666666666666666,
             "#ed7953"
            ],
            [
             0.7777777777777778,
             "#fb9f3a"
            ],
            [
             0.8888888888888888,
             "#fdca26"
            ],
            [
             1,
             "#f0f921"
            ]
           ]
          },
          "colorway": [
           "#636efa",
           "#EF553B",
           "#00cc96",
           "#ab63fa",
           "#FFA15A",
           "#19d3f3",
           "#FF6692",
           "#B6E880",
           "#FF97FF",
           "#FECB52"
          ],
          "font": {
           "color": "#2a3f5f"
          },
          "geo": {
           "bgcolor": "white",
           "lakecolor": "white",
           "landcolor": "#E5ECF6",
           "showlakes": true,
           "showland": true,
           "subunitcolor": "white"
          },
          "hoverlabel": {
           "align": "left"
          },
          "hovermode": "closest",
          "mapbox": {
           "style": "light"
          },
          "paper_bgcolor": "white",
          "plot_bgcolor": "#E5ECF6",
          "polar": {
           "angularaxis": {
            "gridcolor": "white",
            "linecolor": "white",
            "ticks": ""
           },
           "bgcolor": "#E5ECF6",
           "radialaxis": {
            "gridcolor": "white",
            "linecolor": "white",
            "ticks": ""
           }
          },
          "scene": {
           "xaxis": {
            "backgroundcolor": "#E5ECF6",
            "gridcolor": "white",
            "gridwidth": 2,
            "linecolor": "white",
            "showbackground": true,
            "ticks": "",
            "zerolinecolor": "white"
           },
           "yaxis": {
            "backgroundcolor": "#E5ECF6",
            "gridcolor": "white",
            "gridwidth": 2,
            "linecolor": "white",
            "showbackground": true,
            "ticks": "",
            "zerolinecolor": "white"
           },
           "zaxis": {
            "backgroundcolor": "#E5ECF6",
            "gridcolor": "white",
            "gridwidth": 2,
            "linecolor": "white",
            "showbackground": true,
            "ticks": "",
            "zerolinecolor": "white"
           }
          },
          "shapedefaults": {
           "line": {
            "color": "#2a3f5f"
           }
          },
          "ternary": {
           "aaxis": {
            "gridcolor": "white",
            "linecolor": "white",
            "ticks": ""
           },
           "baxis": {
            "gridcolor": "white",
            "linecolor": "white",
            "ticks": ""
           },
           "bgcolor": "#E5ECF6",
           "caxis": {
            "gridcolor": "white",
            "linecolor": "white",
            "ticks": ""
           }
          },
          "title": {
           "x": 0.05
          },
          "xaxis": {
           "automargin": true,
           "gridcolor": "white",
           "linecolor": "white",
           "ticks": "",
           "title": {
            "standoff": 15
           },
           "zerolinecolor": "white",
           "zerolinewidth": 2
          },
          "yaxis": {
           "automargin": true,
           "gridcolor": "white",
           "linecolor": "white",
           "ticks": "",
           "title": {
            "standoff": 15
           },
           "zerolinecolor": "white",
           "zerolinewidth": 2
          }
         }
        },
        "title": {
         "text": "Encounters in AOR per FY"
        },
        "xaxis": {
         "anchor": "y",
         "domain": [
          0,
          1
         ],
         "nticks": 4,
         "title": {
          "text": "Fiscal Year"
         }
        },
        "yaxis": {
         "anchor": "x",
         "domain": [
          0,
          1
         ],
         "title": {
          "text": "Number of Encounters"
         }
        }
       }
      },
      "text/html": [
       "<div>                            <div id=\"2b82ad20-9df1-4d62-ab54-41ccb5b989d5\" class=\"plotly-graph-div\" style=\"height:525px; width:100%;\"></div>            <script type=\"text/javascript\">                require([\"plotly\"], function(Plotly) {                    window.PLOTLYENV=window.PLOTLYENV || {};                                    if (document.getElementById(\"2b82ad20-9df1-4d62-ab54-41ccb5b989d5\")) {                    Plotly.newPlot(                        \"2b82ad20-9df1-4d62-ab54-41ccb5b989d5\",                        [{\"hovertemplate\":\"variable=ATL<br>Fiscal Year=%{x}<br>value=%{y}<extra></extra>\",\"legendgroup\":\"ATL\",\"line\":{\"color\":\"#636efa\",\"dash\":\"solid\"},\"marker\":{\"symbol\":\"circle\"},\"mode\":\"lines\",\"name\":\"ATL\",\"orientation\":\"v\",\"showlegend\":true,\"x\":[\"2015-10-01\",\"2016-10-01\",\"2017-10-01\",\"2018-10-01\"],\"xaxis\":\"x\",\"y\":[33227,28263,28876,25275],\"yaxis\":\"y\",\"type\":\"scatter\"},{\"hovertemplate\":\"variable=BAL<br>Fiscal Year=%{x}<br>value=%{y}<extra></extra>\",\"legendgroup\":\"BAL\",\"line\":{\"color\":\"#EF553B\",\"dash\":\"solid\"},\"marker\":{\"symbol\":\"circle\"},\"mode\":\"lines\",\"name\":\"BAL\",\"orientation\":\"v\",\"showlegend\":true,\"x\":[\"2015-10-01\",\"2016-10-01\",\"2017-10-01\",\"2018-10-01\"],\"xaxis\":\"x\",\"y\":[6427,4801,3938,3865],\"yaxis\":\"y\",\"type\":\"scatter\"},{\"hovertemplate\":\"variable=BOS<br>Fiscal Year=%{x}<br>value=%{y}<extra></extra>\",\"legendgroup\":\"BOS\",\"line\":{\"color\":\"#00cc96\",\"dash\":\"solid\"},\"marker\":{\"symbol\":\"circle\"},\"mode\":\"lines\",\"name\":\"BOS\",\"orientation\":\"v\",\"showlegend\":true,\"x\":[\"2015-10-01\",\"2016-10-01\",\"2017-10-01\",\"2018-10-01\"],\"xaxis\":\"x\",\"y\":[8869,9491,10339,8482],\"yaxis\":\"y\",\"type\":\"scatter\"},{\"hovertemplate\":\"variable=BUF<br>Fiscal Year=%{x}<br>value=%{y}<extra></extra>\",\"legendgroup\":\"BUF\",\"line\":{\"color\":\"#ab63fa\",\"dash\":\"solid\"},\"marker\":{\"symbol\":\"circle\"},\"mode\":\"lines\",\"name\":\"BUF\",\"orientation\":\"v\",\"showlegend\":true,\"x\":[\"2015-10-01\",\"2016-10-01\",\"2017-10-01\",\"2018-10-01\"],\"xaxis\":\"x\",\"y\":[6102,4338,3547,3127],\"yaxis\":\"y\",\"type\":\"scatter\"},{\"hovertemplate\":\"variable=CHI<br>Fiscal Year=%{x}<br>value=%{y}<extra></extra>\",\"legendgroup\":\"CHI\",\"line\":{\"color\":\"#FFA15A\",\"dash\":\"solid\"},\"marker\":{\"symbol\":\"circle\"},\"mode\":\"lines\",\"name\":\"CHI\",\"orientation\":\"v\",\"showlegend\":true,\"x\":[\"2015-10-01\",\"2016-10-01\",\"2017-10-01\",\"2018-10-01\"],\"xaxis\":\"x\",\"y\":[9446,12814,13251,11147],\"yaxis\":\"y\",\"type\":\"scatter\"},{\"hovertemplate\":\"variable=DAL<br>Fiscal Year=%{x}<br>value=%{y}<extra></extra>\",\"legendgroup\":\"DAL\",\"line\":{\"color\":\"#19d3f3\",\"dash\":\"solid\"},\"marker\":{\"symbol\":\"circle\"},\"mode\":\"lines\",\"name\":\"DAL\",\"orientation\":\"v\",\"showlegend\":true,\"x\":[\"2015-10-01\",\"2016-10-01\",\"2017-10-01\",\"2018-10-01\"],\"xaxis\":\"x\",\"y\":[28904,33308,33758,29929],\"yaxis\":\"y\",\"type\":\"scatter\"},{\"hovertemplate\":\"variable=DEN<br>Fiscal Year=%{x}<br>value=%{y}<extra></extra>\",\"legendgroup\":\"DEN\",\"line\":{\"color\":\"#FF6692\",\"dash\":\"solid\"},\"marker\":{\"symbol\":\"circle\"},\"mode\":\"lines\",\"name\":\"DEN\",\"orientation\":\"v\",\"showlegend\":true,\"x\":[\"2015-10-01\",\"2016-10-01\",\"2017-10-01\",\"2018-10-01\"],\"xaxis\":\"x\",\"y\":[10289,9659,8794,7759],\"yaxis\":\"y\",\"type\":\"scatter\"},{\"hovertemplate\":\"variable=DET<br>Fiscal Year=%{x}<br>value=%{y}<extra></extra>\",\"legendgroup\":\"DET\",\"line\":{\"color\":\"#B6E880\",\"dash\":\"solid\"},\"marker\":{\"symbol\":\"circle\"},\"mode\":\"lines\",\"name\":\"DET\",\"orientation\":\"v\",\"showlegend\":true,\"x\":[\"2015-10-01\",\"2016-10-01\",\"2017-10-01\",\"2018-10-01\"],\"xaxis\":\"x\",\"y\":[8266,9769,9039,5826],\"yaxis\":\"y\",\"type\":\"scatter\"},{\"hovertemplate\":\"variable=ELP<br>Fiscal Year=%{x}<br>value=%{y}<extra></extra>\",\"legendgroup\":\"ELP\",\"line\":{\"color\":\"#FF97FF\",\"dash\":\"solid\"},\"marker\":{\"symbol\":\"circle\"},\"mode\":\"lines\",\"name\":\"ELP\",\"orientation\":\"v\",\"showlegend\":true,\"x\":[\"2015-10-01\",\"2016-10-01\",\"2017-10-01\",\"2018-10-01\"],\"xaxis\":\"x\",\"y\":[3119,3205,3279,3002],\"yaxis\":\"y\",\"type\":\"scatter\"},{\"hovertemplate\":\"variable=HOU<br>Fiscal Year=%{x}<br>value=%{y}<extra></extra>\",\"legendgroup\":\"HOU\",\"line\":{\"color\":\"#FECB52\",\"dash\":\"solid\"},\"marker\":{\"symbol\":\"circle\"},\"mode\":\"lines\",\"name\":\"HOU\",\"orientation\":\"v\",\"showlegend\":true,\"x\":[\"2015-10-01\",\"2016-10-01\",\"2017-10-01\",\"2018-10-01\"],\"xaxis\":\"x\",\"y\":[17112,18404,19295,15311],\"yaxis\":\"y\",\"type\":\"scatter\"},{\"hovertemplate\":\"variable=LOS<br>Fiscal Year=%{x}<br>value=%{y}<extra></extra>\",\"legendgroup\":\"LOS\",\"line\":{\"color\":\"#636efa\",\"dash\":\"solid\"},\"marker\":{\"symbol\":\"circle\"},\"mode\":\"lines\",\"name\":\"LOS\",\"orientation\":\"v\",\"showlegend\":true,\"x\":[\"2015-10-01\",\"2016-10-01\",\"2017-10-01\",\"2018-10-01\"],\"xaxis\":\"x\",\"y\":[27046,38256,54971,51134],\"yaxis\":\"y\",\"type\":\"scatter\"},{\"hovertemplate\":\"variable=MIA<br>Fiscal Year=%{x}<br>value=%{y}<extra></extra>\",\"legendgroup\":\"MIA\",\"line\":{\"color\":\"#EF553B\",\"dash\":\"solid\"},\"marker\":{\"symbol\":\"circle\"},\"mode\":\"lines\",\"name\":\"MIA\",\"orientation\":\"v\",\"showlegend\":true,\"x\":[\"2015-10-01\",\"2016-10-01\",\"2017-10-01\",\"2018-10-01\"],\"xaxis\":\"x\",\"y\":[27114,31627,45876,45330],\"yaxis\":\"y\",\"type\":\"scatter\"},{\"hovertemplate\":\"variable=NEW<br>Fiscal Year=%{x}<br>value=%{y}<extra></extra>\",\"legendgroup\":\"NEW\",\"line\":{\"color\":\"#00cc96\",\"dash\":\"solid\"},\"marker\":{\"symbol\":\"circle\"},\"mode\":\"lines\",\"name\":\"NEW\",\"orientation\":\"v\",\"showlegend\":true,\"x\":[\"2015-10-01\",\"2016-10-01\",\"2017-10-01\",\"2018-10-01\"],\"xaxis\":\"x\",\"y\":[12279,15105,10975,9728],\"yaxis\":\"y\",\"type\":\"scatter\"},{\"hovertemplate\":\"variable=NOL<br>Fiscal Year=%{x}<br>value=%{y}<extra></extra>\",\"legendgroup\":\"NOL\",\"line\":{\"color\":\"#ab63fa\",\"dash\":\"solid\"},\"marker\":{\"symbol\":\"circle\"},\"mode\":\"lines\",\"name\":\"NOL\",\"orientation\":\"v\",\"showlegend\":true,\"x\":[\"2015-10-01\",\"2016-10-01\",\"2017-10-01\",\"2018-10-01\"],\"xaxis\":\"x\",\"y\":[8728,13382,17099,13588],\"yaxis\":\"y\",\"type\":\"scatter\"},{\"hovertemplate\":\"variable=NYC<br>Fiscal Year=%{x}<br>value=%{y}<extra></extra>\",\"legendgroup\":\"NYC\",\"line\":{\"color\":\"#FFA15A\",\"dash\":\"solid\"},\"marker\":{\"symbol\":\"circle\"},\"mode\":\"lines\",\"name\":\"NYC\",\"orientation\":\"v\",\"showlegend\":true,\"x\":[\"2015-10-01\",\"2016-10-01\",\"2017-10-01\",\"2018-10-01\"],\"xaxis\":\"x\",\"y\":[22294,49882,42028,33001],\"yaxis\":\"y\",\"type\":\"scatter\"},{\"hovertemplate\":\"variable=PHI<br>Fiscal Year=%{x}<br>value=%{y}<extra></extra>\",\"legendgroup\":\"PHI\",\"line\":{\"color\":\"#19d3f3\",\"dash\":\"solid\"},\"marker\":{\"symbol\":\"circle\"},\"mode\":\"lines\",\"name\":\"PHI\",\"orientation\":\"v\",\"showlegend\":true,\"x\":[\"2015-10-01\",\"2016-10-01\",\"2017-10-01\",\"2018-10-01\"],\"xaxis\":\"x\",\"y\":[9992,11392,9638,6858],\"yaxis\":\"y\",\"type\":\"scatter\"},{\"hovertemplate\":\"variable=PHO<br>Fiscal Year=%{x}<br>value=%{y}<extra></extra>\",\"legendgroup\":\"PHO\",\"line\":{\"color\":\"#FF6692\",\"dash\":\"solid\"},\"marker\":{\"symbol\":\"circle\"},\"mode\":\"lines\",\"name\":\"PHO\",\"orientation\":\"v\",\"showlegend\":true,\"x\":[\"2015-10-01\",\"2016-10-01\",\"2017-10-01\",\"2018-10-01\"],\"xaxis\":\"x\",\"y\":[18219,19695,20108,16802],\"yaxis\":\"y\",\"type\":\"scatter\"},{\"hovertemplate\":\"variable=SEA<br>Fiscal Year=%{x}<br>value=%{y}<extra></extra>\",\"legendgroup\":\"SEA\",\"line\":{\"color\":\"#B6E880\",\"dash\":\"solid\"},\"marker\":{\"symbol\":\"circle\"},\"mode\":\"lines\",\"name\":\"SEA\",\"orientation\":\"v\",\"showlegend\":true,\"x\":[\"2015-10-01\",\"2016-10-01\",\"2017-10-01\",\"2018-10-01\"],\"xaxis\":\"x\",\"y\":[11986,13266,14780,12582],\"yaxis\":\"y\",\"type\":\"scatter\"},{\"hovertemplate\":\"variable=SFR<br>Fiscal Year=%{x}<br>value=%{y}<extra></extra>\",\"legendgroup\":\"SFR\",\"line\":{\"color\":\"#FF97FF\",\"dash\":\"solid\"},\"marker\":{\"symbol\":\"circle\"},\"mode\":\"lines\",\"name\":\"SFR\",\"orientation\":\"v\",\"showlegend\":true,\"x\":[\"2015-10-01\",\"2016-10-01\",\"2017-10-01\",\"2018-10-01\"],\"xaxis\":\"x\",\"y\":[21523,23292,19060,12936],\"yaxis\":\"y\",\"type\":\"scatter\"},{\"hovertemplate\":\"variable=SLC<br>Fiscal Year=%{x}<br>value=%{y}<extra></extra>\",\"legendgroup\":\"SLC\",\"line\":{\"color\":\"#FECB52\",\"dash\":\"solid\"},\"marker\":{\"symbol\":\"circle\"},\"mode\":\"lines\",\"name\":\"SLC\",\"orientation\":\"v\",\"showlegend\":true,\"x\":[\"2015-10-01\",\"2016-10-01\",\"2017-10-01\",\"2018-10-01\"],\"xaxis\":\"x\",\"y\":[11637,12247,13126,9889],\"yaxis\":\"y\",\"type\":\"scatter\"},{\"hovertemplate\":\"variable=SNA<br>Fiscal Year=%{x}<br>value=%{y}<extra></extra>\",\"legendgroup\":\"SNA\",\"line\":{\"color\":\"#636efa\",\"dash\":\"solid\"},\"marker\":{\"symbol\":\"circle\"},\"mode\":\"lines\",\"name\":\"SNA\",\"orientation\":\"v\",\"showlegend\":true,\"x\":[\"2015-10-01\",\"2016-10-01\",\"2017-10-01\",\"2018-10-01\"],\"xaxis\":\"x\",\"y\":[15552,19749,23144,19832],\"yaxis\":\"y\",\"type\":\"scatter\"},{\"hovertemplate\":\"variable=SND<br>Fiscal Year=%{x}<br>value=%{y}<extra></extra>\",\"legendgroup\":\"SND\",\"line\":{\"color\":\"#EF553B\",\"dash\":\"solid\"},\"marker\":{\"symbol\":\"circle\"},\"mode\":\"lines\",\"name\":\"SND\",\"orientation\":\"v\",\"showlegend\":true,\"x\":[\"2015-10-01\",\"2016-10-01\",\"2017-10-01\",\"2018-10-01\"],\"xaxis\":\"x\",\"y\":[9237,9166,9961,5905],\"yaxis\":\"y\",\"type\":\"scatter\"},{\"hovertemplate\":\"variable=SPM<br>Fiscal Year=%{x}<br>value=%{y}<extra></extra>\",\"legendgroup\":\"SPM\",\"line\":{\"color\":\"#00cc96\",\"dash\":\"solid\"},\"marker\":{\"symbol\":\"circle\"},\"mode\":\"lines\",\"name\":\"SPM\",\"orientation\":\"v\",\"showlegend\":true,\"x\":[\"2015-10-01\",\"2016-10-01\",\"2017-10-01\",\"2018-10-01\"],\"xaxis\":\"x\",\"y\":[14819,17698,18080,16730],\"yaxis\":\"y\",\"type\":\"scatter\"},{\"hovertemplate\":\"variable=WAS<br>Fiscal Year=%{x}<br>value=%{y}<extra></extra>\",\"legendgroup\":\"WAS\",\"line\":{\"color\":\"#ab63fa\",\"dash\":\"solid\"},\"marker\":{\"symbol\":\"circle\"},\"mode\":\"lines\",\"name\":\"WAS\",\"orientation\":\"v\",\"showlegend\":true,\"x\":[\"2015-10-01\",\"2016-10-01\",\"2017-10-01\",\"2018-10-01\"],\"xaxis\":\"x\",\"y\":[13004,10277,11738,9792],\"yaxis\":\"y\",\"type\":\"scatter\"}],                        {\"template\":{\"data\":{\"bar\":[{\"error_x\":{\"color\":\"#2a3f5f\"},\"error_y\":{\"color\":\"#2a3f5f\"},\"marker\":{\"line\":{\"color\":\"#E5ECF6\",\"width\":0.5},\"pattern\":{\"fillmode\":\"overlay\",\"size\":10,\"solidity\":0.2}},\"type\":\"bar\"}],\"barpolar\":[{\"marker\":{\"line\":{\"color\":\"#E5ECF6\",\"width\":0.5},\"pattern\":{\"fillmode\":\"overlay\",\"size\":10,\"solidity\":0.2}},\"type\":\"barpolar\"}],\"carpet\":[{\"aaxis\":{\"endlinecolor\":\"#2a3f5f\",\"gridcolor\":\"white\",\"linecolor\":\"white\",\"minorgridcolor\":\"white\",\"startlinecolor\":\"#2a3f5f\"},\"baxis\":{\"endlinecolor\":\"#2a3f5f\",\"gridcolor\":\"white\",\"linecolor\":\"white\",\"minorgridcolor\":\"white\",\"startlinecolor\":\"#2a3f5f\"},\"type\":\"carpet\"}],\"choropleth\":[{\"colorbar\":{\"outlinewidth\":0,\"ticks\":\"\"},\"type\":\"choropleth\"}],\"contour\":[{\"colorbar\":{\"outlinewidth\":0,\"ticks\":\"\"},\"colorscale\":[[0.0,\"#0d0887\"],[0.1111111111111111,\"#46039f\"],[0.2222222222222222,\"#7201a8\"],[0.3333333333333333,\"#9c179e\"],[0.4444444444444444,\"#bd3786\"],[0.5555555555555556,\"#d8576b\"],[0.6666666666666666,\"#ed7953\"],[0.7777777777777778,\"#fb9f3a\"],[0.8888888888888888,\"#fdca26\"],[1.0,\"#f0f921\"]],\"type\":\"contour\"}],\"contourcarpet\":[{\"colorbar\":{\"outlinewidth\":0,\"ticks\":\"\"},\"type\":\"contourcarpet\"}],\"heatmap\":[{\"colorbar\":{\"outlinewidth\":0,\"ticks\":\"\"},\"colorscale\":[[0.0,\"#0d0887\"],[0.1111111111111111,\"#46039f\"],[0.2222222222222222,\"#7201a8\"],[0.3333333333333333,\"#9c179e\"],[0.4444444444444444,\"#bd3786\"],[0.5555555555555556,\"#d8576b\"],[0.6666666666666666,\"#ed7953\"],[0.7777777777777778,\"#fb9f3a\"],[0.8888888888888888,\"#fdca26\"],[1.0,\"#f0f921\"]],\"type\":\"heatmap\"}],\"heatmapgl\":[{\"colorbar\":{\"outlinewidth\":0,\"ticks\":\"\"},\"colorscale\":[[0.0,\"#0d0887\"],[0.1111111111111111,\"#46039f\"],[0.2222222222222222,\"#7201a8\"],[0.3333333333333333,\"#9c179e\"],[0.4444444444444444,\"#bd3786\"],[0.5555555555555556,\"#d8576b\"],[0.6666666666666666,\"#ed7953\"],[0.7777777777777778,\"#fb9f3a\"],[0.8888888888888888,\"#fdca26\"],[1.0,\"#f0f921\"]],\"type\":\"heatmapgl\"}],\"histogram\":[{\"marker\":{\"pattern\":{\"fillmode\":\"overlay\",\"size\":10,\"solidity\":0.2}},\"type\":\"histogram\"}],\"histogram2d\":[{\"colorbar\":{\"outlinewidth\":0,\"ticks\":\"\"},\"colorscale\":[[0.0,\"#0d0887\"],[0.1111111111111111,\"#46039f\"],[0.2222222222222222,\"#7201a8\"],[0.3333333333333333,\"#9c179e\"],[0.4444444444444444,\"#bd3786\"],[0.5555555555555556,\"#d8576b\"],[0.6666666666666666,\"#ed7953\"],[0.7777777777777778,\"#fb9f3a\"],[0.8888888888888888,\"#fdca26\"],[1.0,\"#f0f921\"]],\"type\":\"histogram2d\"}],\"histogram2dcontour\":[{\"colorbar\":{\"outlinewidth\":0,\"ticks\":\"\"},\"colorscale\":[[0.0,\"#0d0887\"],[0.1111111111111111,\"#46039f\"],[0.2222222222222222,\"#7201a8\"],[0.3333333333333333,\"#9c179e\"],[0.4444444444444444,\"#bd3786\"],[0.5555555555555556,\"#d8576b\"],[0.6666666666666666,\"#ed7953\"],[0.7777777777777778,\"#fb9f3a\"],[0.8888888888888888,\"#fdca26\"],[1.0,\"#f0f921\"]],\"type\":\"histogram2dcontour\"}],\"mesh3d\":[{\"colorbar\":{\"outlinewidth\":0,\"ticks\":\"\"},\"type\":\"mesh3d\"}],\"parcoords\":[{\"line\":{\"colorbar\":{\"outlinewidth\":0,\"ticks\":\"\"}},\"type\":\"parcoords\"}],\"pie\":[{\"automargin\":true,\"type\":\"pie\"}],\"scatter\":[{\"marker\":{\"colorbar\":{\"outlinewidth\":0,\"ticks\":\"\"}},\"type\":\"scatter\"}],\"scatter3d\":[{\"line\":{\"colorbar\":{\"outlinewidth\":0,\"ticks\":\"\"}},\"marker\":{\"colorbar\":{\"outlinewidth\":0,\"ticks\":\"\"}},\"type\":\"scatter3d\"}],\"scattercarpet\":[{\"marker\":{\"colorbar\":{\"outlinewidth\":0,\"ticks\":\"\"}},\"type\":\"scattercarpet\"}],\"scattergeo\":[{\"marker\":{\"colorbar\":{\"outlinewidth\":0,\"ticks\":\"\"}},\"type\":\"scattergeo\"}],\"scattergl\":[{\"marker\":{\"colorbar\":{\"outlinewidth\":0,\"ticks\":\"\"}},\"type\":\"scattergl\"}],\"scattermapbox\":[{\"marker\":{\"colorbar\":{\"outlinewidth\":0,\"ticks\":\"\"}},\"type\":\"scattermapbox\"}],\"scatterpolar\":[{\"marker\":{\"colorbar\":{\"outlinewidth\":0,\"ticks\":\"\"}},\"type\":\"scatterpolar\"}],\"scatterpolargl\":[{\"marker\":{\"colorbar\":{\"outlinewidth\":0,\"ticks\":\"\"}},\"type\":\"scatterpolargl\"}],\"scatterternary\":[{\"marker\":{\"colorbar\":{\"outlinewidth\":0,\"ticks\":\"\"}},\"type\":\"scatterternary\"}],\"surface\":[{\"colorbar\":{\"outlinewidth\":0,\"ticks\":\"\"},\"colorscale\":[[0.0,\"#0d0887\"],[0.1111111111111111,\"#46039f\"],[0.2222222222222222,\"#7201a8\"],[0.3333333333333333,\"#9c179e\"],[0.4444444444444444,\"#bd3786\"],[0.5555555555555556,\"#d8576b\"],[0.6666666666666666,\"#ed7953\"],[0.7777777777777778,\"#fb9f3a\"],[0.8888888888888888,\"#fdca26\"],[1.0,\"#f0f921\"]],\"type\":\"surface\"}],\"table\":[{\"cells\":{\"fill\":{\"color\":\"#EBF0F8\"},\"line\":{\"color\":\"white\"}},\"header\":{\"fill\":{\"color\":\"#C8D4E3\"},\"line\":{\"color\":\"white\"}},\"type\":\"table\"}]},\"layout\":{\"annotationdefaults\":{\"arrowcolor\":\"#2a3f5f\",\"arrowhead\":0,\"arrowwidth\":1},\"autotypenumbers\":\"strict\",\"coloraxis\":{\"colorbar\":{\"outlinewidth\":0,\"ticks\":\"\"}},\"colorscale\":{\"diverging\":[[0,\"#8e0152\"],[0.1,\"#c51b7d\"],[0.2,\"#de77ae\"],[0.3,\"#f1b6da\"],[0.4,\"#fde0ef\"],[0.5,\"#f7f7f7\"],[0.6,\"#e6f5d0\"],[0.7,\"#b8e186\"],[0.8,\"#7fbc41\"],[0.9,\"#4d9221\"],[1,\"#276419\"]],\"sequential\":[[0.0,\"#0d0887\"],[0.1111111111111111,\"#46039f\"],[0.2222222222222222,\"#7201a8\"],[0.3333333333333333,\"#9c179e\"],[0.4444444444444444,\"#bd3786\"],[0.5555555555555556,\"#d8576b\"],[0.6666666666666666,\"#ed7953\"],[0.7777777777777778,\"#fb9f3a\"],[0.8888888888888888,\"#fdca26\"],[1.0,\"#f0f921\"]],\"sequentialminus\":[[0.0,\"#0d0887\"],[0.1111111111111111,\"#46039f\"],[0.2222222222222222,\"#7201a8\"],[0.3333333333333333,\"#9c179e\"],[0.4444444444444444,\"#bd3786\"],[0.5555555555555556,\"#d8576b\"],[0.6666666666666666,\"#ed7953\"],[0.7777777777777778,\"#fb9f3a\"],[0.8888888888888888,\"#fdca26\"],[1.0,\"#f0f921\"]]},\"colorway\":[\"#636efa\",\"#EF553B\",\"#00cc96\",\"#ab63fa\",\"#FFA15A\",\"#19d3f3\",\"#FF6692\",\"#B6E880\",\"#FF97FF\",\"#FECB52\"],\"font\":{\"color\":\"#2a3f5f\"},\"geo\":{\"bgcolor\":\"white\",\"lakecolor\":\"white\",\"landcolor\":\"#E5ECF6\",\"showlakes\":true,\"showland\":true,\"subunitcolor\":\"white\"},\"hoverlabel\":{\"align\":\"left\"},\"hovermode\":\"closest\",\"mapbox\":{\"style\":\"light\"},\"paper_bgcolor\":\"white\",\"plot_bgcolor\":\"#E5ECF6\",\"polar\":{\"angularaxis\":{\"gridcolor\":\"white\",\"linecolor\":\"white\",\"ticks\":\"\"},\"bgcolor\":\"#E5ECF6\",\"radialaxis\":{\"gridcolor\":\"white\",\"linecolor\":\"white\",\"ticks\":\"\"}},\"scene\":{\"xaxis\":{\"backgroundcolor\":\"#E5ECF6\",\"gridcolor\":\"white\",\"gridwidth\":2,\"linecolor\":\"white\",\"showbackground\":true,\"ticks\":\"\",\"zerolinecolor\":\"white\"},\"yaxis\":{\"backgroundcolor\":\"#E5ECF6\",\"gridcolor\":\"white\",\"gridwidth\":2,\"linecolor\":\"white\",\"showbackground\":true,\"ticks\":\"\",\"zerolinecolor\":\"white\"},\"zaxis\":{\"backgroundcolor\":\"#E5ECF6\",\"gridcolor\":\"white\",\"gridwidth\":2,\"linecolor\":\"white\",\"showbackground\":true,\"ticks\":\"\",\"zerolinecolor\":\"white\"}},\"shapedefaults\":{\"line\":{\"color\":\"#2a3f5f\"}},\"ternary\":{\"aaxis\":{\"gridcolor\":\"white\",\"linecolor\":\"white\",\"ticks\":\"\"},\"baxis\":{\"gridcolor\":\"white\",\"linecolor\":\"white\",\"ticks\":\"\"},\"bgcolor\":\"#E5ECF6\",\"caxis\":{\"gridcolor\":\"white\",\"linecolor\":\"white\",\"ticks\":\"\"}},\"title\":{\"x\":0.05},\"xaxis\":{\"automargin\":true,\"gridcolor\":\"white\",\"linecolor\":\"white\",\"ticks\":\"\",\"title\":{\"standoff\":15},\"zerolinecolor\":\"white\",\"zerolinewidth\":2},\"yaxis\":{\"automargin\":true,\"gridcolor\":\"white\",\"linecolor\":\"white\",\"ticks\":\"\",\"title\":{\"standoff\":15},\"zerolinecolor\":\"white\",\"zerolinewidth\":2}}},\"xaxis\":{\"anchor\":\"y\",\"domain\":[0.0,1.0],\"title\":{\"text\":\"Fiscal Year\"},\"nticks\":4},\"yaxis\":{\"anchor\":\"x\",\"domain\":[0.0,1.0],\"title\":{\"text\":\"Number of Encounters\"}},\"legend\":{\"title\":{\"text\":\"AOR\"},\"tracegroupgap\":0},\"title\":{\"text\":\"Encounters in AOR per FY\"}},                        {\"responsive\": true}                    ).then(function(){\n",
       "                            \n",
       "var gd = document.getElementById('2b82ad20-9df1-4d62-ab54-41ccb5b989d5');\n",
       "var x = new MutationObserver(function (mutations, observer) {{\n",
       "        var display = window.getComputedStyle(gd).display;\n",
       "        if (!display || display === 'none') {{\n",
       "            console.log([gd, 'removed!']);\n",
       "            Plotly.purge(gd);\n",
       "            observer.disconnect();\n",
       "        }}\n",
       "}});\n",
       "\n",
       "// Listen for the removal of the full notebook cells\n",
       "var notebookContainer = gd.closest('#notebook-container');\n",
       "if (notebookContainer) {{\n",
       "    x.observe(notebookContainer, {childList: true});\n",
       "}}\n",
       "\n",
       "// Listen for the clearing of the current output cell\n",
       "var outputEl = gd.closest('.output');\n",
       "if (outputEl) {{\n",
       "    x.observe(outputEl, {childList: true});\n",
       "}}\n",
       "\n",
       "                        })                };                });            </script>        </div>"
      ]
     },
     "metadata": {},
     "output_type": "display_data"
    }
   ],
   "source": [
    "fig = px.line(encounters_by_fy, x=fy, \n",
    "              y=aor, \n",
    "              title = \"Encounters in AOR per FY\",\n",
    "              labels=dict(x=\"Fiscal Year\", y=\"Number of Encounters\"))\n",
    "fig.update_xaxes(title=\"Fiscal Year\", nticks = 4)\n",
    "fig.update_yaxes(title=\"Number of Encounters\")\n",
    "fig.update_layout(legend_title_text='AOR')\n",
    "fig.show()"
   ]
  },
  {
   "cell_type": "markdown",
   "id": "c8d7a012",
   "metadata": {},
   "source": [
    "# combined per fy for given aor"
   ]
  },
  {
   "cell_type": "code",
   "execution_count": 72,
   "id": "1919f2bc",
   "metadata": {},
   "outputs": [],
   "source": [
    "date = encounters_by_fy[aor_].index.tolist()\n",
    "enc = encounters_by_fy[aor_].tolist()\n",
    "rem = removals_by_fy[aor_].tolist()\n",
    "arr = arrests_by_fy[aor_].tolist()"
   ]
  },
  {
   "cell_type": "code",
   "execution_count": 75,
   "id": "341bd93d",
   "metadata": {},
   "outputs": [],
   "source": [
    "columns_ = ['date', 'encounters', 'removals', 'arrests']\n",
    "\n"
   ]
  },
  {
   "cell_type": "code",
   "execution_count": 73,
   "id": "855175b0",
   "metadata": {},
   "outputs": [],
   "source": [
    "temp = pd.DataFrame(data = data_, columns = columns_)\n",
    "\n"
   ]
  },
  {
   "cell_type": "code",
   "execution_count": 74,
   "id": "c3dc0a52",
   "metadata": {},
   "outputs": [
    {
     "data": {
      "text/html": [
       "<div>\n",
       "<style scoped>\n",
       "    .dataframe tbody tr th:only-of-type {\n",
       "        vertical-align: middle;\n",
       "    }\n",
       "\n",
       "    .dataframe tbody tr th {\n",
       "        vertical-align: top;\n",
       "    }\n",
       "\n",
       "    .dataframe thead th {\n",
       "        text-align: right;\n",
       "    }\n",
       "</style>\n",
       "<table border=\"1\" class=\"dataframe\">\n",
       "  <thead>\n",
       "    <tr style=\"text-align: right;\">\n",
       "      <th></th>\n",
       "      <th>date</th>\n",
       "      <th>encounters</th>\n",
       "      <th>removals</th>\n",
       "      <th>arrests</th>\n",
       "    </tr>\n",
       "  </thead>\n",
       "  <tbody>\n",
       "    <tr>\n",
       "      <th>0</th>\n",
       "      <td>2015-10-01</td>\n",
       "      <td>33227</td>\n",
       "      <td>5770</td>\n",
       "      <td>8866</td>\n",
       "    </tr>\n",
       "    <tr>\n",
       "      <th>1</th>\n",
       "      <td>2016-10-01</td>\n",
       "      <td>28263</td>\n",
       "      <td>12571</td>\n",
       "      <td>13551</td>\n",
       "    </tr>\n",
       "    <tr>\n",
       "      <th>2</th>\n",
       "      <td>2017-10-01</td>\n",
       "      <td>28876</td>\n",
       "      <td>13727</td>\n",
       "      <td>15189</td>\n",
       "    </tr>\n",
       "    <tr>\n",
       "      <th>3</th>\n",
       "      <td>2018-10-01</td>\n",
       "      <td>25275</td>\n",
       "      <td>13061</td>\n",
       "      <td>12268</td>\n",
       "    </tr>\n",
       "  </tbody>\n",
       "</table>\n",
       "</div>"
      ],
      "text/plain": [
       "        date  encounters  removals  arrests\n",
       "0 2015-10-01       33227      5770     8866\n",
       "1 2016-10-01       28263     12571    13551\n",
       "2 2017-10-01       28876     13727    15189\n",
       "3 2018-10-01       25275     13061    12268"
      ]
     },
     "execution_count": 74,
     "metadata": {},
     "output_type": "execute_result"
    }
   ],
   "source": [
    "temp"
   ]
  },
  {
   "cell_type": "code",
   "execution_count": 83,
   "id": "123bcb80",
   "metadata": {},
   "outputs": [
    {
     "data": {
      "application/vnd.plotly.v1+json": {
       "config": {
        "plotlyServerURL": "https://plot.ly"
       },
       "data": [
        {
         "hovertemplate": "variable=encounters<br>date=%{x}<br>value=%{y}<extra></extra>",
         "legendgroup": "encounters",
         "line": {
          "color": "#636efa",
          "dash": "solid"
         },
         "marker": {
          "symbol": "circle"
         },
         "mode": "lines",
         "name": "encounters",
         "orientation": "v",
         "showlegend": true,
         "type": "scatter",
         "x": [
          "2015-10-01T00:00:00",
          "2016-10-01T00:00:00",
          "2017-10-01T00:00:00",
          "2018-10-01T00:00:00"
         ],
         "xaxis": "x",
         "y": [
          33227,
          28263,
          28876,
          25275
         ],
         "yaxis": "y"
        },
        {
         "hovertemplate": "variable=removals<br>date=%{x}<br>value=%{y}<extra></extra>",
         "legendgroup": "removals",
         "line": {
          "color": "#EF553B",
          "dash": "solid"
         },
         "marker": {
          "symbol": "circle"
         },
         "mode": "lines",
         "name": "removals",
         "orientation": "v",
         "showlegend": true,
         "type": "scatter",
         "x": [
          "2015-10-01T00:00:00",
          "2016-10-01T00:00:00",
          "2017-10-01T00:00:00",
          "2018-10-01T00:00:00"
         ],
         "xaxis": "x",
         "y": [
          5770,
          12571,
          13727,
          13061
         ],
         "yaxis": "y"
        },
        {
         "hovertemplate": "variable=arrests<br>date=%{x}<br>value=%{y}<extra></extra>",
         "legendgroup": "arrests",
         "line": {
          "color": "#00cc96",
          "dash": "solid"
         },
         "marker": {
          "symbol": "circle"
         },
         "mode": "lines",
         "name": "arrests",
         "orientation": "v",
         "showlegend": true,
         "type": "scatter",
         "x": [
          "2015-10-01T00:00:00",
          "2016-10-01T00:00:00",
          "2017-10-01T00:00:00",
          "2018-10-01T00:00:00"
         ],
         "xaxis": "x",
         "y": [
          8866,
          13551,
          15189,
          12268
         ],
         "yaxis": "y"
        }
       ],
       "layout": {
        "legend": {
         "title": {
          "text": "Encounters, Removals, and Arrests key"
         },
         "tracegroupgap": 0
        },
        "template": {
         "data": {
          "bar": [
           {
            "error_x": {
             "color": "#2a3f5f"
            },
            "error_y": {
             "color": "#2a3f5f"
            },
            "marker": {
             "line": {
              "color": "#E5ECF6",
              "width": 0.5
             },
             "pattern": {
              "fillmode": "overlay",
              "size": 10,
              "solidity": 0.2
             }
            },
            "type": "bar"
           }
          ],
          "barpolar": [
           {
            "marker": {
             "line": {
              "color": "#E5ECF6",
              "width": 0.5
             },
             "pattern": {
              "fillmode": "overlay",
              "size": 10,
              "solidity": 0.2
             }
            },
            "type": "barpolar"
           }
          ],
          "carpet": [
           {
            "aaxis": {
             "endlinecolor": "#2a3f5f",
             "gridcolor": "white",
             "linecolor": "white",
             "minorgridcolor": "white",
             "startlinecolor": "#2a3f5f"
            },
            "baxis": {
             "endlinecolor": "#2a3f5f",
             "gridcolor": "white",
             "linecolor": "white",
             "minorgridcolor": "white",
             "startlinecolor": "#2a3f5f"
            },
            "type": "carpet"
           }
          ],
          "choropleth": [
           {
            "colorbar": {
             "outlinewidth": 0,
             "ticks": ""
            },
            "type": "choropleth"
           }
          ],
          "contour": [
           {
            "colorbar": {
             "outlinewidth": 0,
             "ticks": ""
            },
            "colorscale": [
             [
              0,
              "#0d0887"
             ],
             [
              0.1111111111111111,
              "#46039f"
             ],
             [
              0.2222222222222222,
              "#7201a8"
             ],
             [
              0.3333333333333333,
              "#9c179e"
             ],
             [
              0.4444444444444444,
              "#bd3786"
             ],
             [
              0.5555555555555556,
              "#d8576b"
             ],
             [
              0.6666666666666666,
              "#ed7953"
             ],
             [
              0.7777777777777778,
              "#fb9f3a"
             ],
             [
              0.8888888888888888,
              "#fdca26"
             ],
             [
              1,
              "#f0f921"
             ]
            ],
            "type": "contour"
           }
          ],
          "contourcarpet": [
           {
            "colorbar": {
             "outlinewidth": 0,
             "ticks": ""
            },
            "type": "contourcarpet"
           }
          ],
          "heatmap": [
           {
            "colorbar": {
             "outlinewidth": 0,
             "ticks": ""
            },
            "colorscale": [
             [
              0,
              "#0d0887"
             ],
             [
              0.1111111111111111,
              "#46039f"
             ],
             [
              0.2222222222222222,
              "#7201a8"
             ],
             [
              0.3333333333333333,
              "#9c179e"
             ],
             [
              0.4444444444444444,
              "#bd3786"
             ],
             [
              0.5555555555555556,
              "#d8576b"
             ],
             [
              0.6666666666666666,
              "#ed7953"
             ],
             [
              0.7777777777777778,
              "#fb9f3a"
             ],
             [
              0.8888888888888888,
              "#fdca26"
             ],
             [
              1,
              "#f0f921"
             ]
            ],
            "type": "heatmap"
           }
          ],
          "heatmapgl": [
           {
            "colorbar": {
             "outlinewidth": 0,
             "ticks": ""
            },
            "colorscale": [
             [
              0,
              "#0d0887"
             ],
             [
              0.1111111111111111,
              "#46039f"
             ],
             [
              0.2222222222222222,
              "#7201a8"
             ],
             [
              0.3333333333333333,
              "#9c179e"
             ],
             [
              0.4444444444444444,
              "#bd3786"
             ],
             [
              0.5555555555555556,
              "#d8576b"
             ],
             [
              0.6666666666666666,
              "#ed7953"
             ],
             [
              0.7777777777777778,
              "#fb9f3a"
             ],
             [
              0.8888888888888888,
              "#fdca26"
             ],
             [
              1,
              "#f0f921"
             ]
            ],
            "type": "heatmapgl"
           }
          ],
          "histogram": [
           {
            "marker": {
             "pattern": {
              "fillmode": "overlay",
              "size": 10,
              "solidity": 0.2
             }
            },
            "type": "histogram"
           }
          ],
          "histogram2d": [
           {
            "colorbar": {
             "outlinewidth": 0,
             "ticks": ""
            },
            "colorscale": [
             [
              0,
              "#0d0887"
             ],
             [
              0.1111111111111111,
              "#46039f"
             ],
             [
              0.2222222222222222,
              "#7201a8"
             ],
             [
              0.3333333333333333,
              "#9c179e"
             ],
             [
              0.4444444444444444,
              "#bd3786"
             ],
             [
              0.5555555555555556,
              "#d8576b"
             ],
             [
              0.6666666666666666,
              "#ed7953"
             ],
             [
              0.7777777777777778,
              "#fb9f3a"
             ],
             [
              0.8888888888888888,
              "#fdca26"
             ],
             [
              1,
              "#f0f921"
             ]
            ],
            "type": "histogram2d"
           }
          ],
          "histogram2dcontour": [
           {
            "colorbar": {
             "outlinewidth": 0,
             "ticks": ""
            },
            "colorscale": [
             [
              0,
              "#0d0887"
             ],
             [
              0.1111111111111111,
              "#46039f"
             ],
             [
              0.2222222222222222,
              "#7201a8"
             ],
             [
              0.3333333333333333,
              "#9c179e"
             ],
             [
              0.4444444444444444,
              "#bd3786"
             ],
             [
              0.5555555555555556,
              "#d8576b"
             ],
             [
              0.6666666666666666,
              "#ed7953"
             ],
             [
              0.7777777777777778,
              "#fb9f3a"
             ],
             [
              0.8888888888888888,
              "#fdca26"
             ],
             [
              1,
              "#f0f921"
             ]
            ],
            "type": "histogram2dcontour"
           }
          ],
          "mesh3d": [
           {
            "colorbar": {
             "outlinewidth": 0,
             "ticks": ""
            },
            "type": "mesh3d"
           }
          ],
          "parcoords": [
           {
            "line": {
             "colorbar": {
              "outlinewidth": 0,
              "ticks": ""
             }
            },
            "type": "parcoords"
           }
          ],
          "pie": [
           {
            "automargin": true,
            "type": "pie"
           }
          ],
          "scatter": [
           {
            "marker": {
             "colorbar": {
              "outlinewidth": 0,
              "ticks": ""
             }
            },
            "type": "scatter"
           }
          ],
          "scatter3d": [
           {
            "line": {
             "colorbar": {
              "outlinewidth": 0,
              "ticks": ""
             }
            },
            "marker": {
             "colorbar": {
              "outlinewidth": 0,
              "ticks": ""
             }
            },
            "type": "scatter3d"
           }
          ],
          "scattercarpet": [
           {
            "marker": {
             "colorbar": {
              "outlinewidth": 0,
              "ticks": ""
             }
            },
            "type": "scattercarpet"
           }
          ],
          "scattergeo": [
           {
            "marker": {
             "colorbar": {
              "outlinewidth": 0,
              "ticks": ""
             }
            },
            "type": "scattergeo"
           }
          ],
          "scattergl": [
           {
            "marker": {
             "colorbar": {
              "outlinewidth": 0,
              "ticks": ""
             }
            },
            "type": "scattergl"
           }
          ],
          "scattermapbox": [
           {
            "marker": {
             "colorbar": {
              "outlinewidth": 0,
              "ticks": ""
             }
            },
            "type": "scattermapbox"
           }
          ],
          "scatterpolar": [
           {
            "marker": {
             "colorbar": {
              "outlinewidth": 0,
              "ticks": ""
             }
            },
            "type": "scatterpolar"
           }
          ],
          "scatterpolargl": [
           {
            "marker": {
             "colorbar": {
              "outlinewidth": 0,
              "ticks": ""
             }
            },
            "type": "scatterpolargl"
           }
          ],
          "scatterternary": [
           {
            "marker": {
             "colorbar": {
              "outlinewidth": 0,
              "ticks": ""
             }
            },
            "type": "scatterternary"
           }
          ],
          "surface": [
           {
            "colorbar": {
             "outlinewidth": 0,
             "ticks": ""
            },
            "colorscale": [
             [
              0,
              "#0d0887"
             ],
             [
              0.1111111111111111,
              "#46039f"
             ],
             [
              0.2222222222222222,
              "#7201a8"
             ],
             [
              0.3333333333333333,
              "#9c179e"
             ],
             [
              0.4444444444444444,
              "#bd3786"
             ],
             [
              0.5555555555555556,
              "#d8576b"
             ],
             [
              0.6666666666666666,
              "#ed7953"
             ],
             [
              0.7777777777777778,
              "#fb9f3a"
             ],
             [
              0.8888888888888888,
              "#fdca26"
             ],
             [
              1,
              "#f0f921"
             ]
            ],
            "type": "surface"
           }
          ],
          "table": [
           {
            "cells": {
             "fill": {
              "color": "#EBF0F8"
             },
             "line": {
              "color": "white"
             }
            },
            "header": {
             "fill": {
              "color": "#C8D4E3"
             },
             "line": {
              "color": "white"
             }
            },
            "type": "table"
           }
          ]
         },
         "layout": {
          "annotationdefaults": {
           "arrowcolor": "#2a3f5f",
           "arrowhead": 0,
           "arrowwidth": 1
          },
          "autotypenumbers": "strict",
          "coloraxis": {
           "colorbar": {
            "outlinewidth": 0,
            "ticks": ""
           }
          },
          "colorscale": {
           "diverging": [
            [
             0,
             "#8e0152"
            ],
            [
             0.1,
             "#c51b7d"
            ],
            [
             0.2,
             "#de77ae"
            ],
            [
             0.3,
             "#f1b6da"
            ],
            [
             0.4,
             "#fde0ef"
            ],
            [
             0.5,
             "#f7f7f7"
            ],
            [
             0.6,
             "#e6f5d0"
            ],
            [
             0.7,
             "#b8e186"
            ],
            [
             0.8,
             "#7fbc41"
            ],
            [
             0.9,
             "#4d9221"
            ],
            [
             1,
             "#276419"
            ]
           ],
           "sequential": [
            [
             0,
             "#0d0887"
            ],
            [
             0.1111111111111111,
             "#46039f"
            ],
            [
             0.2222222222222222,
             "#7201a8"
            ],
            [
             0.3333333333333333,
             "#9c179e"
            ],
            [
             0.4444444444444444,
             "#bd3786"
            ],
            [
             0.5555555555555556,
             "#d8576b"
            ],
            [
             0.6666666666666666,
             "#ed7953"
            ],
            [
             0.7777777777777778,
             "#fb9f3a"
            ],
            [
             0.8888888888888888,
             "#fdca26"
            ],
            [
             1,
             "#f0f921"
            ]
           ],
           "sequentialminus": [
            [
             0,
             "#0d0887"
            ],
            [
             0.1111111111111111,
             "#46039f"
            ],
            [
             0.2222222222222222,
             "#7201a8"
            ],
            [
             0.3333333333333333,
             "#9c179e"
            ],
            [
             0.4444444444444444,
             "#bd3786"
            ],
            [
             0.5555555555555556,
             "#d8576b"
            ],
            [
             0.6666666666666666,
             "#ed7953"
            ],
            [
             0.7777777777777778,
             "#fb9f3a"
            ],
            [
             0.8888888888888888,
             "#fdca26"
            ],
            [
             1,
             "#f0f921"
            ]
           ]
          },
          "colorway": [
           "#636efa",
           "#EF553B",
           "#00cc96",
           "#ab63fa",
           "#FFA15A",
           "#19d3f3",
           "#FF6692",
           "#B6E880",
           "#FF97FF",
           "#FECB52"
          ],
          "font": {
           "color": "#2a3f5f"
          },
          "geo": {
           "bgcolor": "white",
           "lakecolor": "white",
           "landcolor": "#E5ECF6",
           "showlakes": true,
           "showland": true,
           "subunitcolor": "white"
          },
          "hoverlabel": {
           "align": "left"
          },
          "hovermode": "closest",
          "mapbox": {
           "style": "light"
          },
          "paper_bgcolor": "white",
          "plot_bgcolor": "#E5ECF6",
          "polar": {
           "angularaxis": {
            "gridcolor": "white",
            "linecolor": "white",
            "ticks": ""
           },
           "bgcolor": "#E5ECF6",
           "radialaxis": {
            "gridcolor": "white",
            "linecolor": "white",
            "ticks": ""
           }
          },
          "scene": {
           "xaxis": {
            "backgroundcolor": "#E5ECF6",
            "gridcolor": "white",
            "gridwidth": 2,
            "linecolor": "white",
            "showbackground": true,
            "ticks": "",
            "zerolinecolor": "white"
           },
           "yaxis": {
            "backgroundcolor": "#E5ECF6",
            "gridcolor": "white",
            "gridwidth": 2,
            "linecolor": "white",
            "showbackground": true,
            "ticks": "",
            "zerolinecolor": "white"
           },
           "zaxis": {
            "backgroundcolor": "#E5ECF6",
            "gridcolor": "white",
            "gridwidth": 2,
            "linecolor": "white",
            "showbackground": true,
            "ticks": "",
            "zerolinecolor": "white"
           }
          },
          "shapedefaults": {
           "line": {
            "color": "#2a3f5f"
           }
          },
          "ternary": {
           "aaxis": {
            "gridcolor": "white",
            "linecolor": "white",
            "ticks": ""
           },
           "baxis": {
            "gridcolor": "white",
            "linecolor": "white",
            "ticks": ""
           },
           "bgcolor": "#E5ECF6",
           "caxis": {
            "gridcolor": "white",
            "linecolor": "white",
            "ticks": ""
           }
          },
          "title": {
           "x": 0.05
          },
          "xaxis": {
           "automargin": true,
           "gridcolor": "white",
           "linecolor": "white",
           "ticks": "",
           "title": {
            "standoff": 15
           },
           "zerolinecolor": "white",
           "zerolinewidth": 2
          },
          "yaxis": {
           "automargin": true,
           "gridcolor": "white",
           "linecolor": "white",
           "ticks": "",
           "title": {
            "standoff": 15
           },
           "zerolinecolor": "white",
           "zerolinewidth": 2
          }
         }
        },
        "title": {
         "text": "Encounters, Removals, and Arrests in given AOR per FY"
        },
        "xaxis": {
         "anchor": "y",
         "domain": [
          0,
          1
         ],
         "nticks": 4,
         "title": {
          "text": "Fiscal Year"
         }
        },
        "yaxis": {
         "anchor": "x",
         "domain": [
          0,
          1
         ],
         "title": {
          "text": "Number of Encounters, Removals, or Arrests"
         }
        }
       }
      },
      "text/html": [
       "<div>                            <div id=\"fb2278ec-b164-4c5a-923e-bfcef7b64489\" class=\"plotly-graph-div\" style=\"height:525px; width:100%;\"></div>            <script type=\"text/javascript\">                require([\"plotly\"], function(Plotly) {                    window.PLOTLYENV=window.PLOTLYENV || {};                                    if (document.getElementById(\"fb2278ec-b164-4c5a-923e-bfcef7b64489\")) {                    Plotly.newPlot(                        \"fb2278ec-b164-4c5a-923e-bfcef7b64489\",                        [{\"hovertemplate\":\"variable=encounters<br>date=%{x}<br>value=%{y}<extra></extra>\",\"legendgroup\":\"encounters\",\"line\":{\"color\":\"#636efa\",\"dash\":\"solid\"},\"marker\":{\"symbol\":\"circle\"},\"mode\":\"lines\",\"name\":\"encounters\",\"orientation\":\"v\",\"showlegend\":true,\"x\":[\"2015-10-01T00:00:00\",\"2016-10-01T00:00:00\",\"2017-10-01T00:00:00\",\"2018-10-01T00:00:00\"],\"xaxis\":\"x\",\"y\":[33227,28263,28876,25275],\"yaxis\":\"y\",\"type\":\"scatter\"},{\"hovertemplate\":\"variable=removals<br>date=%{x}<br>value=%{y}<extra></extra>\",\"legendgroup\":\"removals\",\"line\":{\"color\":\"#EF553B\",\"dash\":\"solid\"},\"marker\":{\"symbol\":\"circle\"},\"mode\":\"lines\",\"name\":\"removals\",\"orientation\":\"v\",\"showlegend\":true,\"x\":[\"2015-10-01T00:00:00\",\"2016-10-01T00:00:00\",\"2017-10-01T00:00:00\",\"2018-10-01T00:00:00\"],\"xaxis\":\"x\",\"y\":[5770,12571,13727,13061],\"yaxis\":\"y\",\"type\":\"scatter\"},{\"hovertemplate\":\"variable=arrests<br>date=%{x}<br>value=%{y}<extra></extra>\",\"legendgroup\":\"arrests\",\"line\":{\"color\":\"#00cc96\",\"dash\":\"solid\"},\"marker\":{\"symbol\":\"circle\"},\"mode\":\"lines\",\"name\":\"arrests\",\"orientation\":\"v\",\"showlegend\":true,\"x\":[\"2015-10-01T00:00:00\",\"2016-10-01T00:00:00\",\"2017-10-01T00:00:00\",\"2018-10-01T00:00:00\"],\"xaxis\":\"x\",\"y\":[8866,13551,15189,12268],\"yaxis\":\"y\",\"type\":\"scatter\"}],                        {\"template\":{\"data\":{\"bar\":[{\"error_x\":{\"color\":\"#2a3f5f\"},\"error_y\":{\"color\":\"#2a3f5f\"},\"marker\":{\"line\":{\"color\":\"#E5ECF6\",\"width\":0.5},\"pattern\":{\"fillmode\":\"overlay\",\"size\":10,\"solidity\":0.2}},\"type\":\"bar\"}],\"barpolar\":[{\"marker\":{\"line\":{\"color\":\"#E5ECF6\",\"width\":0.5},\"pattern\":{\"fillmode\":\"overlay\",\"size\":10,\"solidity\":0.2}},\"type\":\"barpolar\"}],\"carpet\":[{\"aaxis\":{\"endlinecolor\":\"#2a3f5f\",\"gridcolor\":\"white\",\"linecolor\":\"white\",\"minorgridcolor\":\"white\",\"startlinecolor\":\"#2a3f5f\"},\"baxis\":{\"endlinecolor\":\"#2a3f5f\",\"gridcolor\":\"white\",\"linecolor\":\"white\",\"minorgridcolor\":\"white\",\"startlinecolor\":\"#2a3f5f\"},\"type\":\"carpet\"}],\"choropleth\":[{\"colorbar\":{\"outlinewidth\":0,\"ticks\":\"\"},\"type\":\"choropleth\"}],\"contour\":[{\"colorbar\":{\"outlinewidth\":0,\"ticks\":\"\"},\"colorscale\":[[0.0,\"#0d0887\"],[0.1111111111111111,\"#46039f\"],[0.2222222222222222,\"#7201a8\"],[0.3333333333333333,\"#9c179e\"],[0.4444444444444444,\"#bd3786\"],[0.5555555555555556,\"#d8576b\"],[0.6666666666666666,\"#ed7953\"],[0.7777777777777778,\"#fb9f3a\"],[0.8888888888888888,\"#fdca26\"],[1.0,\"#f0f921\"]],\"type\":\"contour\"}],\"contourcarpet\":[{\"colorbar\":{\"outlinewidth\":0,\"ticks\":\"\"},\"type\":\"contourcarpet\"}],\"heatmap\":[{\"colorbar\":{\"outlinewidth\":0,\"ticks\":\"\"},\"colorscale\":[[0.0,\"#0d0887\"],[0.1111111111111111,\"#46039f\"],[0.2222222222222222,\"#7201a8\"],[0.3333333333333333,\"#9c179e\"],[0.4444444444444444,\"#bd3786\"],[0.5555555555555556,\"#d8576b\"],[0.6666666666666666,\"#ed7953\"],[0.7777777777777778,\"#fb9f3a\"],[0.8888888888888888,\"#fdca26\"],[1.0,\"#f0f921\"]],\"type\":\"heatmap\"}],\"heatmapgl\":[{\"colorbar\":{\"outlinewidth\":0,\"ticks\":\"\"},\"colorscale\":[[0.0,\"#0d0887\"],[0.1111111111111111,\"#46039f\"],[0.2222222222222222,\"#7201a8\"],[0.3333333333333333,\"#9c179e\"],[0.4444444444444444,\"#bd3786\"],[0.5555555555555556,\"#d8576b\"],[0.6666666666666666,\"#ed7953\"],[0.7777777777777778,\"#fb9f3a\"],[0.8888888888888888,\"#fdca26\"],[1.0,\"#f0f921\"]],\"type\":\"heatmapgl\"}],\"histogram\":[{\"marker\":{\"pattern\":{\"fillmode\":\"overlay\",\"size\":10,\"solidity\":0.2}},\"type\":\"histogram\"}],\"histogram2d\":[{\"colorbar\":{\"outlinewidth\":0,\"ticks\":\"\"},\"colorscale\":[[0.0,\"#0d0887\"],[0.1111111111111111,\"#46039f\"],[0.2222222222222222,\"#7201a8\"],[0.3333333333333333,\"#9c179e\"],[0.4444444444444444,\"#bd3786\"],[0.5555555555555556,\"#d8576b\"],[0.6666666666666666,\"#ed7953\"],[0.7777777777777778,\"#fb9f3a\"],[0.8888888888888888,\"#fdca26\"],[1.0,\"#f0f921\"]],\"type\":\"histogram2d\"}],\"histogram2dcontour\":[{\"colorbar\":{\"outlinewidth\":0,\"ticks\":\"\"},\"colorscale\":[[0.0,\"#0d0887\"],[0.1111111111111111,\"#46039f\"],[0.2222222222222222,\"#7201a8\"],[0.3333333333333333,\"#9c179e\"],[0.4444444444444444,\"#bd3786\"],[0.5555555555555556,\"#d8576b\"],[0.6666666666666666,\"#ed7953\"],[0.7777777777777778,\"#fb9f3a\"],[0.8888888888888888,\"#fdca26\"],[1.0,\"#f0f921\"]],\"type\":\"histogram2dcontour\"}],\"mesh3d\":[{\"colorbar\":{\"outlinewidth\":0,\"ticks\":\"\"},\"type\":\"mesh3d\"}],\"parcoords\":[{\"line\":{\"colorbar\":{\"outlinewidth\":0,\"ticks\":\"\"}},\"type\":\"parcoords\"}],\"pie\":[{\"automargin\":true,\"type\":\"pie\"}],\"scatter\":[{\"marker\":{\"colorbar\":{\"outlinewidth\":0,\"ticks\":\"\"}},\"type\":\"scatter\"}],\"scatter3d\":[{\"line\":{\"colorbar\":{\"outlinewidth\":0,\"ticks\":\"\"}},\"marker\":{\"colorbar\":{\"outlinewidth\":0,\"ticks\":\"\"}},\"type\":\"scatter3d\"}],\"scattercarpet\":[{\"marker\":{\"colorbar\":{\"outlinewidth\":0,\"ticks\":\"\"}},\"type\":\"scattercarpet\"}],\"scattergeo\":[{\"marker\":{\"colorbar\":{\"outlinewidth\":0,\"ticks\":\"\"}},\"type\":\"scattergeo\"}],\"scattergl\":[{\"marker\":{\"colorbar\":{\"outlinewidth\":0,\"ticks\":\"\"}},\"type\":\"scattergl\"}],\"scattermapbox\":[{\"marker\":{\"colorbar\":{\"outlinewidth\":0,\"ticks\":\"\"}},\"type\":\"scattermapbox\"}],\"scatterpolar\":[{\"marker\":{\"colorbar\":{\"outlinewidth\":0,\"ticks\":\"\"}},\"type\":\"scatterpolar\"}],\"scatterpolargl\":[{\"marker\":{\"colorbar\":{\"outlinewidth\":0,\"ticks\":\"\"}},\"type\":\"scatterpolargl\"}],\"scatterternary\":[{\"marker\":{\"colorbar\":{\"outlinewidth\":0,\"ticks\":\"\"}},\"type\":\"scatterternary\"}],\"surface\":[{\"colorbar\":{\"outlinewidth\":0,\"ticks\":\"\"},\"colorscale\":[[0.0,\"#0d0887\"],[0.1111111111111111,\"#46039f\"],[0.2222222222222222,\"#7201a8\"],[0.3333333333333333,\"#9c179e\"],[0.4444444444444444,\"#bd3786\"],[0.5555555555555556,\"#d8576b\"],[0.6666666666666666,\"#ed7953\"],[0.7777777777777778,\"#fb9f3a\"],[0.8888888888888888,\"#fdca26\"],[1.0,\"#f0f921\"]],\"type\":\"surface\"}],\"table\":[{\"cells\":{\"fill\":{\"color\":\"#EBF0F8\"},\"line\":{\"color\":\"white\"}},\"header\":{\"fill\":{\"color\":\"#C8D4E3\"},\"line\":{\"color\":\"white\"}},\"type\":\"table\"}]},\"layout\":{\"annotationdefaults\":{\"arrowcolor\":\"#2a3f5f\",\"arrowhead\":0,\"arrowwidth\":1},\"autotypenumbers\":\"strict\",\"coloraxis\":{\"colorbar\":{\"outlinewidth\":0,\"ticks\":\"\"}},\"colorscale\":{\"diverging\":[[0,\"#8e0152\"],[0.1,\"#c51b7d\"],[0.2,\"#de77ae\"],[0.3,\"#f1b6da\"],[0.4,\"#fde0ef\"],[0.5,\"#f7f7f7\"],[0.6,\"#e6f5d0\"],[0.7,\"#b8e186\"],[0.8,\"#7fbc41\"],[0.9,\"#4d9221\"],[1,\"#276419\"]],\"sequential\":[[0.0,\"#0d0887\"],[0.1111111111111111,\"#46039f\"],[0.2222222222222222,\"#7201a8\"],[0.3333333333333333,\"#9c179e\"],[0.4444444444444444,\"#bd3786\"],[0.5555555555555556,\"#d8576b\"],[0.6666666666666666,\"#ed7953\"],[0.7777777777777778,\"#fb9f3a\"],[0.8888888888888888,\"#fdca26\"],[1.0,\"#f0f921\"]],\"sequentialminus\":[[0.0,\"#0d0887\"],[0.1111111111111111,\"#46039f\"],[0.2222222222222222,\"#7201a8\"],[0.3333333333333333,\"#9c179e\"],[0.4444444444444444,\"#bd3786\"],[0.5555555555555556,\"#d8576b\"],[0.6666666666666666,\"#ed7953\"],[0.7777777777777778,\"#fb9f3a\"],[0.8888888888888888,\"#fdca26\"],[1.0,\"#f0f921\"]]},\"colorway\":[\"#636efa\",\"#EF553B\",\"#00cc96\",\"#ab63fa\",\"#FFA15A\",\"#19d3f3\",\"#FF6692\",\"#B6E880\",\"#FF97FF\",\"#FECB52\"],\"font\":{\"color\":\"#2a3f5f\"},\"geo\":{\"bgcolor\":\"white\",\"lakecolor\":\"white\",\"landcolor\":\"#E5ECF6\",\"showlakes\":true,\"showland\":true,\"subunitcolor\":\"white\"},\"hoverlabel\":{\"align\":\"left\"},\"hovermode\":\"closest\",\"mapbox\":{\"style\":\"light\"},\"paper_bgcolor\":\"white\",\"plot_bgcolor\":\"#E5ECF6\",\"polar\":{\"angularaxis\":{\"gridcolor\":\"white\",\"linecolor\":\"white\",\"ticks\":\"\"},\"bgcolor\":\"#E5ECF6\",\"radialaxis\":{\"gridcolor\":\"white\",\"linecolor\":\"white\",\"ticks\":\"\"}},\"scene\":{\"xaxis\":{\"backgroundcolor\":\"#E5ECF6\",\"gridcolor\":\"white\",\"gridwidth\":2,\"linecolor\":\"white\",\"showbackground\":true,\"ticks\":\"\",\"zerolinecolor\":\"white\"},\"yaxis\":{\"backgroundcolor\":\"#E5ECF6\",\"gridcolor\":\"white\",\"gridwidth\":2,\"linecolor\":\"white\",\"showbackground\":true,\"ticks\":\"\",\"zerolinecolor\":\"white\"},\"zaxis\":{\"backgroundcolor\":\"#E5ECF6\",\"gridcolor\":\"white\",\"gridwidth\":2,\"linecolor\":\"white\",\"showbackground\":true,\"ticks\":\"\",\"zerolinecolor\":\"white\"}},\"shapedefaults\":{\"line\":{\"color\":\"#2a3f5f\"}},\"ternary\":{\"aaxis\":{\"gridcolor\":\"white\",\"linecolor\":\"white\",\"ticks\":\"\"},\"baxis\":{\"gridcolor\":\"white\",\"linecolor\":\"white\",\"ticks\":\"\"},\"bgcolor\":\"#E5ECF6\",\"caxis\":{\"gridcolor\":\"white\",\"linecolor\":\"white\",\"ticks\":\"\"}},\"title\":{\"x\":0.05},\"xaxis\":{\"automargin\":true,\"gridcolor\":\"white\",\"linecolor\":\"white\",\"ticks\":\"\",\"title\":{\"standoff\":15},\"zerolinecolor\":\"white\",\"zerolinewidth\":2},\"yaxis\":{\"automargin\":true,\"gridcolor\":\"white\",\"linecolor\":\"white\",\"ticks\":\"\",\"title\":{\"standoff\":15},\"zerolinecolor\":\"white\",\"zerolinewidth\":2}}},\"xaxis\":{\"anchor\":\"y\",\"domain\":[0.0,1.0],\"title\":{\"text\":\"Fiscal Year\"},\"nticks\":4},\"yaxis\":{\"anchor\":\"x\",\"domain\":[0.0,1.0],\"title\":{\"text\":\"Number of Encounters, Removals, or Arrests\"}},\"legend\":{\"title\":{\"text\":\"Encounters, Removals, and Arrests key\"},\"tracegroupgap\":0},\"title\":{\"text\":\"Encounters, Removals, and Arrests in given AOR per FY\"}},                        {\"responsive\": true}                    ).then(function(){\n",
       "                            \n",
       "var gd = document.getElementById('fb2278ec-b164-4c5a-923e-bfcef7b64489');\n",
       "var x = new MutationObserver(function (mutations, observer) {{\n",
       "        var display = window.getComputedStyle(gd).display;\n",
       "        if (!display || display === 'none') {{\n",
       "            console.log([gd, 'removed!']);\n",
       "            Plotly.purge(gd);\n",
       "            observer.disconnect();\n",
       "        }}\n",
       "}});\n",
       "\n",
       "// Listen for the removal of the full notebook cells\n",
       "var notebookContainer = gd.closest('#notebook-container');\n",
       "if (notebookContainer) {{\n",
       "    x.observe(notebookContainer, {childList: true});\n",
       "}}\n",
       "\n",
       "// Listen for the clearing of the current output cell\n",
       "var outputEl = gd.closest('.output');\n",
       "if (outputEl) {{\n",
       "    x.observe(outputEl, {childList: true});\n",
       "}}\n",
       "\n",
       "                        })                };                });            </script>        </div>"
      ]
     },
     "metadata": {},
     "output_type": "display_data"
    }
   ],
   "source": [
    "fig = px.line(temp, x=temp['date'], \n",
    "              y=[temp['encounters'], temp['removals'], temp['arrests']],\n",
    "              title = \"Encounters, Removals, and Arrests in given AOR per FY\",\n",
    "              labels=dict(x=\"Fiscal Year\", y=\"Number of Encounters\"))\n",
    "fig.update_xaxes(title=\"Fiscal Year\", nticks = 4)\n",
    "fig.update_yaxes(title=\"Number of Encounters, Removals, or Arrests\")\n",
    "fig.update_layout(legend_title_text='Encounters, Removals, and Arrests key')\n",
    "fig.show()"
   ]
  },
  {
   "cell_type": "code",
   "execution_count": null,
   "id": "a442a58b",
   "metadata": {},
   "outputs": [],
   "source": []
  }
 ],
 "metadata": {
  "kernelspec": {
   "display_name": "Python 3 (ipykernel)",
   "language": "python",
   "name": "python3"
  },
  "language_info": {
   "codemirror_mode": {
    "name": "ipython",
    "version": 3
   },
   "file_extension": ".py",
   "mimetype": "text/x-python",
   "name": "python",
   "nbconvert_exporter": "python",
   "pygments_lexer": "ipython3",
   "version": "3.7.11"
  }
 },
 "nbformat": 4,
 "nbformat_minor": 5
}
