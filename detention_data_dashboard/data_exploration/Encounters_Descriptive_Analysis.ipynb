{
 "cells": [
  {
   "cell_type": "code",
   "execution_count": 11,
   "id": "f9db0aba",
   "metadata": {},
   "outputs": [],
   "source": [
    "import ipywidgets as widgets\n",
    "import matplotlib.pyplot as plt\n",
    "import numpy as np\n",
    "import pandas as pd\n",
    "from tabulate import tabulate\n",
    "import yaml\n",
    "\n",
    "%matplotlib inline"
   ]
  },
  {
   "cell_type": "code",
   "execution_count": 12,
   "id": "e9f0172e",
   "metadata": {},
   "outputs": [],
   "source": [
    "#values for csv importing\n",
    "csv_opts = {'sep': '|',\n",
    "           'quotechar': '\"',\n",
    "           #'compression': 'gzip',\n",
    "           'encoding': 'utf-8'}"
   ]
  },
  {
   "cell_type": "code",
   "execution_count": 13,
   "id": "d55dd3e0",
   "metadata": {},
   "outputs": [],
   "source": [
    "with open('../../data/encounter_dtypes.yaml', 'r') as yamlfile:\n",
    "        encounter_dtypes = yaml.load(yamlfile, Loader=yaml.FullLoader)"
   ]
  },
  {
   "cell_type": "code",
   "execution_count": 14,
   "id": "37bbb2d2",
   "metadata": {},
   "outputs": [],
   "source": [
    "#reading in CSV file\n",
    "encounters = pd.read_csv('../../data/encounters.csv', **csv_opts, dtype=encounter_dtypes)"
   ]
  },
  {
   "cell_type": "code",
   "execution_count": 15,
   "id": "df043aa6",
   "metadata": {},
   "outputs": [],
   "source": [
    "#putting event date into m/d/y format\n",
    "encounters['event_date'] = pd.to_datetime(encounters['event_date'], format='%m/%d/%Y')"
   ]
  },
  {
   "cell_type": "markdown",
   "id": "5aeb47a6",
   "metadata": {},
   "source": [
    "# Overview"
   ]
  },
  {
   "cell_type": "code",
   "execution_count": 16,
   "id": "adf79f62",
   "metadata": {},
   "outputs": [
    {
     "name": "stdout",
     "output_type": "stream",
     "text": [
      "<class 'pandas.core.frame.DataFrame'>\n",
      "RangeIndex: 1689378 entries, 0 to 1689377\n",
      "Data columns (total 8 columns):\n",
      " #   Column                  Non-Null Count    Dtype         \n",
      "---  ------                  --------------    -----         \n",
      " 0   aor                     1608957 non-null  category      \n",
      " 1   event_date              1689378 non-null  datetime64[ns]\n",
      " 2   landmark                1029394 non-null  category      \n",
      " 3   operation               298737 non-null   category      \n",
      " 4   processing_disposition  1686035 non-null  category      \n",
      " 5   citizenship             1689378 non-null  category      \n",
      " 6   gender                  1689360 non-null  category      \n",
      " 7   id                      1689378 non-null  int64         \n",
      "dtypes: category(6), datetime64[ns](1), int64(1)\n",
      "memory usage: 39.0 MB\n"
     ]
    }
   ],
   "source": [
    "# overview of variables in encounters dataset\n",
    "encounters.info()"
   ]
  },
  {
   "cell_type": "code",
   "execution_count": 17,
   "id": "fc28a771",
   "metadata": {},
   "outputs": [
    {
     "data": {
      "text/html": [
       "<div>\n",
       "<style scoped>\n",
       "    .dataframe tbody tr th:only-of-type {\n",
       "        vertical-align: middle;\n",
       "    }\n",
       "\n",
       "    .dataframe tbody tr th {\n",
       "        vertical-align: top;\n",
       "    }\n",
       "\n",
       "    .dataframe thead th {\n",
       "        text-align: right;\n",
       "    }\n",
       "</style>\n",
       "<table border=\"1\" class=\"dataframe\">\n",
       "  <thead>\n",
       "    <tr style=\"text-align: right;\">\n",
       "      <th></th>\n",
       "      <th>aor</th>\n",
       "      <th>event_date</th>\n",
       "      <th>landmark</th>\n",
       "      <th>operation</th>\n",
       "      <th>processing_disposition</th>\n",
       "      <th>citizenship</th>\n",
       "      <th>gender</th>\n",
       "      <th>id</th>\n",
       "    </tr>\n",
       "  </thead>\n",
       "  <tbody>\n",
       "    <tr>\n",
       "      <th>0</th>\n",
       "      <td>DEN</td>\n",
       "      <td>2015-10-01</td>\n",
       "      <td>EAGLE COUNTY JAIL</td>\n",
       "      <td>NaN</td>\n",
       "      <td>Not Amenable to Removal</td>\n",
       "      <td>MEXICO</td>\n",
       "      <td>Male</td>\n",
       "      <td>0</td>\n",
       "    </tr>\n",
       "    <tr>\n",
       "      <th>1</th>\n",
       "      <td>NaN</td>\n",
       "      <td>2015-10-01</td>\n",
       "      <td>NaN</td>\n",
       "      <td>NaN</td>\n",
       "      <td>Notice to Appear Released (I-862)</td>\n",
       "      <td>ECUADOR</td>\n",
       "      <td>Male</td>\n",
       "      <td>1</td>\n",
       "    </tr>\n",
       "    <tr>\n",
       "      <th>2</th>\n",
       "      <td>SFR</td>\n",
       "      <td>2015-10-01</td>\n",
       "      <td>TAFT FEDERAL CORRECTIONAL INSTITUTION</td>\n",
       "      <td>(B)(7)(E)</td>\n",
       "      <td>ADMINISTRATIVE DEPORTATION I-851/I-851A</td>\n",
       "      <td>MEXICO</td>\n",
       "      <td>Male</td>\n",
       "      <td>2</td>\n",
       "    </tr>\n",
       "    <tr>\n",
       "      <th>3</th>\n",
       "      <td>LOS</td>\n",
       "      <td>2015-10-01</td>\n",
       "      <td>WSM GENERAL AREA, NON-SPECIFIC</td>\n",
       "      <td>(B)(7)(E)</td>\n",
       "      <td>Detainer</td>\n",
       "      <td>BELIZE</td>\n",
       "      <td>Male</td>\n",
       "      <td>3</td>\n",
       "    </tr>\n",
       "    <tr>\n",
       "      <th>4</th>\n",
       "      <td>ATL</td>\n",
       "      <td>2015-10-01</td>\n",
       "      <td>NaN</td>\n",
       "      <td>NaN</td>\n",
       "      <td>Not Amenable to Removal</td>\n",
       "      <td>JAMAICA</td>\n",
       "      <td>Male</td>\n",
       "      <td>4</td>\n",
       "    </tr>\n",
       "  </tbody>\n",
       "</table>\n",
       "</div>"
      ],
      "text/plain": [
       "   aor event_date                               landmark   operation  \\\n",
       "0  DEN 2015-10-01                      EAGLE COUNTY JAIL         NaN   \n",
       "1  NaN 2015-10-01                                    NaN         NaN   \n",
       "2  SFR 2015-10-01  TAFT FEDERAL CORRECTIONAL INSTITUTION  (B)(7)(E)    \n",
       "3  LOS 2015-10-01         WSM GENERAL AREA, NON-SPECIFIC  (B)(7)(E)    \n",
       "4  ATL 2015-10-01                                    NaN         NaN   \n",
       "\n",
       "                    processing_disposition citizenship gender  id  \n",
       "0                  Not Amenable to Removal      MEXICO   Male   0  \n",
       "1        Notice to Appear Released (I-862)     ECUADOR   Male   1  \n",
       "2  ADMINISTRATIVE DEPORTATION I-851/I-851A      MEXICO   Male   2  \n",
       "3                                 Detainer      BELIZE   Male   3  \n",
       "4                  Not Amenable to Removal     JAMAICA   Male   4  "
      ]
     },
     "execution_count": 17,
     "metadata": {},
     "output_type": "execute_result"
    }
   ],
   "source": [
    "# column heads of encounters dataset\n",
    "encounters.head()"
   ]
  },
  {
   "cell_type": "markdown",
   "id": "d1911476",
   "metadata": {},
   "source": [
    "## Null Values"
   ]
  },
  {
   "cell_type": "code",
   "execution_count": null,
   "id": "a8084a0c",
   "metadata": {},
   "outputs": [],
   "source": [
    "# creating table for null values of encounters\n",
    "# formatting added for commas and percent sign\n",
    "null_table = [['Variable', 'NaN', '% Nan'], \n",
    "              ['AOR', \n",
    "               \"{:,}\".format(sum(pd.isnull(encounters.aor))), \n",
    "               str(round(sum(pd.isnull(encounters.aor)) / len(encounters) * 100, 2)) +'%'], \n",
    "              ['Event Date', \n",
    "               \"{:,}\".format(sum(pd.isnull(encounters.event_date))), \n",
    "               str(round(sum(pd.isnull(encounters.event_date)) / len(encounters) * 100, 2)) +'%'],\n",
    "              ['Landmark', \n",
    "               \"{:,}\".format(sum(pd.isnull(encounters.landmark))), \n",
    "               str(round(sum(pd.isnull(encounters.landmark)) / len(encounters) * 100, 2)) +'%'],\n",
    "              ['Operation', \n",
    "               \"{:,}\".format(sum(pd.isnull(encounters.operation))), \n",
    "               str(round(sum(pd.isnull(encounters.operation)) / len(encounters) * 100, 2)) +'%'],\n",
    "              ['Processing Disposition', \n",
    "               \"{:,}\".format(sum(pd.isnull(encounters.processing_disposition))), \n",
    "               str(round(sum(pd.isnull(encounters.processing_disposition)) / len(encounters) * 100, 2)) +'%'],\n",
    "              ['Citizenship', \n",
    "               \"{:,}\".format(sum(pd.isnull(encounters.citizenship))), \n",
    "               str(round(sum(pd.isnull(encounters.citizenship)) / len(encounters) * 100, 2)) +'%'],\n",
    "              ['Gender', \n",
    "               \"{:,}\".format(sum(pd.isnull(encounters.gender))), \n",
    "               str(round(sum(pd.isnull(encounters.gender)) / len(encounters) * 100, 2)) +'%']\n",
    "             ]\n",
    "\n",
    "#print header and table of null values\n",
    "print('Null values for Encounters data (total = 1,689,378)')\n",
    "print(tabulate(null_table, headers='firstrow', \n",
    "               tablefmt='fancy_grid', stralign='center', numalign='center'))"
   ]
  },
  {
   "cell_type": "markdown",
   "id": "8d41d4bf",
   "metadata": {},
   "source": [
    "## Duplicates"
   ]
  },
  {
   "cell_type": "markdown",
   "id": "82ab13e4",
   "metadata": {},
   "source": [
    "The encounters dataset includes no duplicate records."
   ]
  },
  {
   "cell_type": "code",
   "execution_count": null,
   "id": "a37c92a1",
   "metadata": {},
   "outputs": [],
   "source": [
    "# create dataframe for duplicate rows\n",
    "duplicate = encounters[encounters.duplicated()]"
   ]
  },
  {
   "cell_type": "code",
   "execution_count": null,
   "id": "24c9e3b8",
   "metadata": {},
   "outputs": [],
   "source": [
    "#print length of duplicate df\n",
    "len(duplicate)"
   ]
  },
  {
   "cell_type": "markdown",
   "id": "c1f44e35",
   "metadata": {},
   "source": [
    "# Event Date"
   ]
  },
  {
   "cell_type": "code",
   "execution_count": 18,
   "id": "a69aa287",
   "metadata": {
    "scrolled": true
   },
   "outputs": [],
   "source": [
    "# create subset of just aor, date, and id\n",
    "encounters_by_fy = encounters[[\"aor\", \"event_date\", \"id\"]]\n",
    "\n",
    "# group subset by aor and date, then count ids\n",
    "encounters_by_fy = encounters_by_fy.groupby([\"aor\", \"event_date\"], \n",
    "                                            as_index=False, dropna=False)['id'].count()\n",
    "\n",
    "# pivot subset so that index is the event date and columns are aor (allows for easy Grouper in next line of code)\n",
    "encounters_by_fy = encounters_by_fy.pivot(index='event_date', \n",
    "                                          columns='aor', values='id')\n",
    "\n",
    "# group subset by fiscal year and total all the values \n",
    "encounters_by_fy = encounters_by_fy.groupby(pd.Grouper(freq='AS-OCT'), dropna=False).sum()"
   ]
  },
  {
   "cell_type": "code",
   "execution_count": 19,
   "id": "104d58d5",
   "metadata": {},
   "outputs": [
    {
     "data": {
      "text/html": [
       "<style type=\"text/css\">\n",
       "</style>\n",
       "<table id=\"T_00289_\">\n",
       "  <thead>\n",
       "    <tr>\n",
       "      <th class=\"index_name level0\" >event_date</th>\n",
       "      <th class=\"col_heading level0 col0\" >2015-10-01 00:00:00</th>\n",
       "      <th class=\"col_heading level0 col1\" >2016-10-01 00:00:00</th>\n",
       "      <th class=\"col_heading level0 col2\" >2017-10-01 00:00:00</th>\n",
       "      <th class=\"col_heading level0 col3\" >2018-10-01 00:00:00</th>\n",
       "    </tr>\n",
       "    <tr>\n",
       "      <th class=\"index_name level0\" >aor</th>\n",
       "      <th class=\"blank col0\" >&nbsp;</th>\n",
       "      <th class=\"blank col1\" >&nbsp;</th>\n",
       "      <th class=\"blank col2\" >&nbsp;</th>\n",
       "      <th class=\"blank col3\" >&nbsp;</th>\n",
       "    </tr>\n",
       "  </thead>\n",
       "  <tbody>\n",
       "    <tr>\n",
       "      <th id=\"T_00289_level0_row0\" class=\"row_heading level0 row0\" >LOS</th>\n",
       "      <td id=\"T_00289_row0_col0\" class=\"data row0 col0\" >27,046</td>\n",
       "      <td id=\"T_00289_row0_col1\" class=\"data row0 col1\" >38,256</td>\n",
       "      <td id=\"T_00289_row0_col2\" class=\"data row0 col2\" >54,971</td>\n",
       "      <td id=\"T_00289_row0_col3\" class=\"data row0 col3\" >51,134</td>\n",
       "    </tr>\n",
       "    <tr>\n",
       "      <th id=\"T_00289_level0_row1\" class=\"row_heading level0 row1\" >MIA</th>\n",
       "      <td id=\"T_00289_row1_col0\" class=\"data row1 col0\" >27,114</td>\n",
       "      <td id=\"T_00289_row1_col1\" class=\"data row1 col1\" >31,627</td>\n",
       "      <td id=\"T_00289_row1_col2\" class=\"data row1 col2\" >45,876</td>\n",
       "      <td id=\"T_00289_row1_col3\" class=\"data row1 col3\" >45,330</td>\n",
       "    </tr>\n",
       "    <tr>\n",
       "      <th id=\"T_00289_level0_row2\" class=\"row_heading level0 row2\" >NYC</th>\n",
       "      <td id=\"T_00289_row2_col0\" class=\"data row2 col0\" >22,294</td>\n",
       "      <td id=\"T_00289_row2_col1\" class=\"data row2 col1\" >49,882</td>\n",
       "      <td id=\"T_00289_row2_col2\" class=\"data row2 col2\" >42,028</td>\n",
       "      <td id=\"T_00289_row2_col3\" class=\"data row2 col3\" >33,001</td>\n",
       "    </tr>\n",
       "    <tr>\n",
       "      <th id=\"T_00289_level0_row3\" class=\"row_heading level0 row3\" >DAL</th>\n",
       "      <td id=\"T_00289_row3_col0\" class=\"data row3 col0\" >28,904</td>\n",
       "      <td id=\"T_00289_row3_col1\" class=\"data row3 col1\" >33,308</td>\n",
       "      <td id=\"T_00289_row3_col2\" class=\"data row3 col2\" >33,758</td>\n",
       "      <td id=\"T_00289_row3_col3\" class=\"data row3 col3\" >29,929</td>\n",
       "    </tr>\n",
       "    <tr>\n",
       "      <th id=\"T_00289_level0_row4\" class=\"row_heading level0 row4\" >ATL</th>\n",
       "      <td id=\"T_00289_row4_col0\" class=\"data row4 col0\" >33,227</td>\n",
       "      <td id=\"T_00289_row4_col1\" class=\"data row4 col1\" >28,263</td>\n",
       "      <td id=\"T_00289_row4_col2\" class=\"data row4 col2\" >28,876</td>\n",
       "      <td id=\"T_00289_row4_col3\" class=\"data row4 col3\" >25,275</td>\n",
       "    </tr>\n",
       "    <tr>\n",
       "      <th id=\"T_00289_level0_row5\" class=\"row_heading level0 row5\" >SNA</th>\n",
       "      <td id=\"T_00289_row5_col0\" class=\"data row5 col0\" >15,552</td>\n",
       "      <td id=\"T_00289_row5_col1\" class=\"data row5 col1\" >19,749</td>\n",
       "      <td id=\"T_00289_row5_col2\" class=\"data row5 col2\" >23,144</td>\n",
       "      <td id=\"T_00289_row5_col3\" class=\"data row5 col3\" >19,832</td>\n",
       "    </tr>\n",
       "    <tr>\n",
       "      <th id=\"T_00289_level0_row6\" class=\"row_heading level0 row6\" >PHO</th>\n",
       "      <td id=\"T_00289_row6_col0\" class=\"data row6 col0\" >18,219</td>\n",
       "      <td id=\"T_00289_row6_col1\" class=\"data row6 col1\" >19,695</td>\n",
       "      <td id=\"T_00289_row6_col2\" class=\"data row6 col2\" >20,108</td>\n",
       "      <td id=\"T_00289_row6_col3\" class=\"data row6 col3\" >16,802</td>\n",
       "    </tr>\n",
       "    <tr>\n",
       "      <th id=\"T_00289_level0_row7\" class=\"row_heading level0 row7\" >SPM</th>\n",
       "      <td id=\"T_00289_row7_col0\" class=\"data row7 col0\" >14,819</td>\n",
       "      <td id=\"T_00289_row7_col1\" class=\"data row7 col1\" >17,698</td>\n",
       "      <td id=\"T_00289_row7_col2\" class=\"data row7 col2\" >18,080</td>\n",
       "      <td id=\"T_00289_row7_col3\" class=\"data row7 col3\" >16,730</td>\n",
       "    </tr>\n",
       "    <tr>\n",
       "      <th id=\"T_00289_level0_row8\" class=\"row_heading level0 row8\" >HOU</th>\n",
       "      <td id=\"T_00289_row8_col0\" class=\"data row8 col0\" >17,112</td>\n",
       "      <td id=\"T_00289_row8_col1\" class=\"data row8 col1\" >18,404</td>\n",
       "      <td id=\"T_00289_row8_col2\" class=\"data row8 col2\" >19,295</td>\n",
       "      <td id=\"T_00289_row8_col3\" class=\"data row8 col3\" >15,311</td>\n",
       "    </tr>\n",
       "    <tr>\n",
       "      <th id=\"T_00289_level0_row9\" class=\"row_heading level0 row9\" >NOL</th>\n",
       "      <td id=\"T_00289_row9_col0\" class=\"data row9 col0\" >8,728</td>\n",
       "      <td id=\"T_00289_row9_col1\" class=\"data row9 col1\" >13,382</td>\n",
       "      <td id=\"T_00289_row9_col2\" class=\"data row9 col2\" >17,099</td>\n",
       "      <td id=\"T_00289_row9_col3\" class=\"data row9 col3\" >13,588</td>\n",
       "    </tr>\n",
       "    <tr>\n",
       "      <th id=\"T_00289_level0_row10\" class=\"row_heading level0 row10\" >SFR</th>\n",
       "      <td id=\"T_00289_row10_col0\" class=\"data row10 col0\" >21,523</td>\n",
       "      <td id=\"T_00289_row10_col1\" class=\"data row10 col1\" >23,292</td>\n",
       "      <td id=\"T_00289_row10_col2\" class=\"data row10 col2\" >19,060</td>\n",
       "      <td id=\"T_00289_row10_col3\" class=\"data row10 col3\" >12,936</td>\n",
       "    </tr>\n",
       "    <tr>\n",
       "      <th id=\"T_00289_level0_row11\" class=\"row_heading level0 row11\" >SEA</th>\n",
       "      <td id=\"T_00289_row11_col0\" class=\"data row11 col0\" >11,986</td>\n",
       "      <td id=\"T_00289_row11_col1\" class=\"data row11 col1\" >13,266</td>\n",
       "      <td id=\"T_00289_row11_col2\" class=\"data row11 col2\" >14,780</td>\n",
       "      <td id=\"T_00289_row11_col3\" class=\"data row11 col3\" >12,582</td>\n",
       "    </tr>\n",
       "    <tr>\n",
       "      <th id=\"T_00289_level0_row12\" class=\"row_heading level0 row12\" >CHI</th>\n",
       "      <td id=\"T_00289_row12_col0\" class=\"data row12 col0\" >9,446</td>\n",
       "      <td id=\"T_00289_row12_col1\" class=\"data row12 col1\" >12,814</td>\n",
       "      <td id=\"T_00289_row12_col2\" class=\"data row12 col2\" >13,251</td>\n",
       "      <td id=\"T_00289_row12_col3\" class=\"data row12 col3\" >11,147</td>\n",
       "    </tr>\n",
       "    <tr>\n",
       "      <th id=\"T_00289_level0_row13\" class=\"row_heading level0 row13\" >SLC</th>\n",
       "      <td id=\"T_00289_row13_col0\" class=\"data row13 col0\" >11,637</td>\n",
       "      <td id=\"T_00289_row13_col1\" class=\"data row13 col1\" >12,247</td>\n",
       "      <td id=\"T_00289_row13_col2\" class=\"data row13 col2\" >13,126</td>\n",
       "      <td id=\"T_00289_row13_col3\" class=\"data row13 col3\" >9,889</td>\n",
       "    </tr>\n",
       "    <tr>\n",
       "      <th id=\"T_00289_level0_row14\" class=\"row_heading level0 row14\" >WAS</th>\n",
       "      <td id=\"T_00289_row14_col0\" class=\"data row14 col0\" >13,004</td>\n",
       "      <td id=\"T_00289_row14_col1\" class=\"data row14 col1\" >10,277</td>\n",
       "      <td id=\"T_00289_row14_col2\" class=\"data row14 col2\" >11,738</td>\n",
       "      <td id=\"T_00289_row14_col3\" class=\"data row14 col3\" >9,792</td>\n",
       "    </tr>\n",
       "    <tr>\n",
       "      <th id=\"T_00289_level0_row15\" class=\"row_heading level0 row15\" >NEW</th>\n",
       "      <td id=\"T_00289_row15_col0\" class=\"data row15 col0\" >12,279</td>\n",
       "      <td id=\"T_00289_row15_col1\" class=\"data row15 col1\" >15,105</td>\n",
       "      <td id=\"T_00289_row15_col2\" class=\"data row15 col2\" >10,975</td>\n",
       "      <td id=\"T_00289_row15_col3\" class=\"data row15 col3\" >9,728</td>\n",
       "    </tr>\n",
       "    <tr>\n",
       "      <th id=\"T_00289_level0_row16\" class=\"row_heading level0 row16\" >BOS</th>\n",
       "      <td id=\"T_00289_row16_col0\" class=\"data row16 col0\" >8,869</td>\n",
       "      <td id=\"T_00289_row16_col1\" class=\"data row16 col1\" >9,491</td>\n",
       "      <td id=\"T_00289_row16_col2\" class=\"data row16 col2\" >10,339</td>\n",
       "      <td id=\"T_00289_row16_col3\" class=\"data row16 col3\" >8,482</td>\n",
       "    </tr>\n",
       "    <tr>\n",
       "      <th id=\"T_00289_level0_row17\" class=\"row_heading level0 row17\" >DEN</th>\n",
       "      <td id=\"T_00289_row17_col0\" class=\"data row17 col0\" >10,289</td>\n",
       "      <td id=\"T_00289_row17_col1\" class=\"data row17 col1\" >9,659</td>\n",
       "      <td id=\"T_00289_row17_col2\" class=\"data row17 col2\" >8,794</td>\n",
       "      <td id=\"T_00289_row17_col3\" class=\"data row17 col3\" >7,759</td>\n",
       "    </tr>\n",
       "    <tr>\n",
       "      <th id=\"T_00289_level0_row18\" class=\"row_heading level0 row18\" >PHI</th>\n",
       "      <td id=\"T_00289_row18_col0\" class=\"data row18 col0\" >9,992</td>\n",
       "      <td id=\"T_00289_row18_col1\" class=\"data row18 col1\" >11,392</td>\n",
       "      <td id=\"T_00289_row18_col2\" class=\"data row18 col2\" >9,638</td>\n",
       "      <td id=\"T_00289_row18_col3\" class=\"data row18 col3\" >6,858</td>\n",
       "    </tr>\n",
       "    <tr>\n",
       "      <th id=\"T_00289_level0_row19\" class=\"row_heading level0 row19\" >SND</th>\n",
       "      <td id=\"T_00289_row19_col0\" class=\"data row19 col0\" >9,237</td>\n",
       "      <td id=\"T_00289_row19_col1\" class=\"data row19 col1\" >9,166</td>\n",
       "      <td id=\"T_00289_row19_col2\" class=\"data row19 col2\" >9,961</td>\n",
       "      <td id=\"T_00289_row19_col3\" class=\"data row19 col3\" >5,905</td>\n",
       "    </tr>\n",
       "    <tr>\n",
       "      <th id=\"T_00289_level0_row20\" class=\"row_heading level0 row20\" >DET</th>\n",
       "      <td id=\"T_00289_row20_col0\" class=\"data row20 col0\" >8,266</td>\n",
       "      <td id=\"T_00289_row20_col1\" class=\"data row20 col1\" >9,769</td>\n",
       "      <td id=\"T_00289_row20_col2\" class=\"data row20 col2\" >9,039</td>\n",
       "      <td id=\"T_00289_row20_col3\" class=\"data row20 col3\" >5,826</td>\n",
       "    </tr>\n",
       "    <tr>\n",
       "      <th id=\"T_00289_level0_row21\" class=\"row_heading level0 row21\" >BAL</th>\n",
       "      <td id=\"T_00289_row21_col0\" class=\"data row21 col0\" >6,427</td>\n",
       "      <td id=\"T_00289_row21_col1\" class=\"data row21 col1\" >4,801</td>\n",
       "      <td id=\"T_00289_row21_col2\" class=\"data row21 col2\" >3,938</td>\n",
       "      <td id=\"T_00289_row21_col3\" class=\"data row21 col3\" >3,865</td>\n",
       "    </tr>\n",
       "    <tr>\n",
       "      <th id=\"T_00289_level0_row22\" class=\"row_heading level0 row22\" >HQ</th>\n",
       "      <td id=\"T_00289_row22_col0\" class=\"data row22 col0\" >3,009</td>\n",
       "      <td id=\"T_00289_row22_col1\" class=\"data row22 col1\" >3,364</td>\n",
       "      <td id=\"T_00289_row22_col2\" class=\"data row22 col2\" >1,951</td>\n",
       "      <td id=\"T_00289_row22_col3\" class=\"data row22 col3\" >3,826</td>\n",
       "    </tr>\n",
       "    <tr>\n",
       "      <th id=\"T_00289_level0_row23\" class=\"row_heading level0 row23\" >BUF</th>\n",
       "      <td id=\"T_00289_row23_col0\" class=\"data row23 col0\" >6,102</td>\n",
       "      <td id=\"T_00289_row23_col1\" class=\"data row23 col1\" >4,338</td>\n",
       "      <td id=\"T_00289_row23_col2\" class=\"data row23 col2\" >3,547</td>\n",
       "      <td id=\"T_00289_row23_col3\" class=\"data row23 col3\" >3,127</td>\n",
       "    </tr>\n",
       "    <tr>\n",
       "      <th id=\"T_00289_level0_row24\" class=\"row_heading level0 row24\" >ELP</th>\n",
       "      <td id=\"T_00289_row24_col0\" class=\"data row24 col0\" >3,119</td>\n",
       "      <td id=\"T_00289_row24_col1\" class=\"data row24 col1\" >3,205</td>\n",
       "      <td id=\"T_00289_row24_col2\" class=\"data row24 col2\" >3,279</td>\n",
       "      <td id=\"T_00289_row24_col3\" class=\"data row24 col3\" >3,002</td>\n",
       "    </tr>\n",
       "  </tbody>\n",
       "</table>\n"
      ],
      "text/plain": [
       "<pandas.io.formats.style.Styler at 0x7fc9298e4110>"
      ]
     },
     "execution_count": 19,
     "metadata": {},
     "output_type": "execute_result"
    },
    {
     "data": {
      "image/png": "[encoded data removed]",
      "text/plain": [
       "<Figure size 432x288 with 1 Axes>"
      ]
     },
     "metadata": {
      "needs_background": "light"
     },
     "output_type": "display_data"
    }
   ],
   "source": [
    "# create plot of the subset by FY\n",
    "encounters_by_fy.plot().legend(loc='center left',bbox_to_anchor=(1.1, 0.5))\n",
    "\n",
    "# create plot of the subset by FY\n",
    "encounters_by_fy.T.sort_values(by=[\"2018-10-01 00:00:00\"], \n",
    "                               ascending=False).style.format(\"{:,.0f}\")"
   ]
  },
  {
   "cell_type": "markdown",
   "id": "f61378f3",
   "metadata": {},
   "source": [
    "# Landmarks"
   ]
  },
  {
   "cell_type": "code",
   "execution_count": null,
   "id": "86895785",
   "metadata": {
    "scrolled": true
   },
   "outputs": [],
   "source": [
    "# create series of how many unique landmarks there are, regardless of capitalization\n",
    "encounters_landmarks = encounters.landmark.str.upper().value_counts()"
   ]
  },
  {
   "cell_type": "code",
   "execution_count": null,
   "id": "85b0a545",
   "metadata": {},
   "outputs": [],
   "source": [
    "# convert series to dataframe and print resulting table\n",
    "encounters_landmarks = encounters_landmarks.to_frame()\n",
    "encounters_landmarks"
   ]
  },
  {
   "cell_type": "code",
   "execution_count": null,
   "id": "6fe1c642",
   "metadata": {},
   "outputs": [],
   "source": [
    "# create subset of location variables, counting IDs\n",
    "encounters_distinct_landmarks = encounters[['aor', 'landmark', 'id']].groupby(\n",
    "    ['aor', 'landmark'], as_index=False, dropna=False).count()\n",
    "\n",
    "# display all locations with at least one encounter, sorted by largest to smallest\n",
    "encounters_distinct_landmarks.loc[\n",
    "    encounters_distinct_landmarks['id'] > 0].sort_values('id', ascending=False)"
   ]
  },
  {
   "cell_type": "code",
   "execution_count": null,
   "id": "f80f9847",
   "metadata": {},
   "outputs": [],
   "source": [
    "# create a historgram of encounter landmarks in groups of 100\n",
    "encounters_landmarks.plot(kind='hist', bins=100)"
   ]
  },
  {
   "cell_type": "code",
   "execution_count": null,
   "id": "0f420d6d",
   "metadata": {},
   "outputs": [],
   "source": [
    "# add a column to encounters dataset that contains a binary indicator \n",
    "# of whether the landmark includes the term 'non-specific'  \n",
    "encounters['non-specific'] = encounters['landmark'].str.contains(\n",
    "    'non-specific', case=False, na=False).astype(int)\n",
    "\n",
    "# create subset and calculate for each AOR \n",
    "# the number of non-specific occurences divided by the total number of encounters\n",
    "# sort resulting proportions from largest to smallest\n",
    "dub = encounters[['aor','id', 'non-specific']]\n",
    "dub = dub.groupby('aor', dropna=False)['non-specific'].sum()/dub.groupby('aor', dropna=False)['id'].count()\n",
    "dub.sort_values(ascending=False)"
   ]
  },
  {
   "cell_type": "markdown",
   "id": "2323bf30",
   "metadata": {},
   "source": [
    "## Top Ten Landmarks by AOR (aggregate)"
   ]
  },
  {
   "cell_type": "code",
   "execution_count": null,
   "id": "9fd44eaf",
   "metadata": {},
   "outputs": [],
   "source": [
    "# create subset of encounters by location\n",
    "encounters_location = encounters.groupby(\n",
    "    ['aor', 'landmark'], as_index=False, dropna=False)['id'].count()\n",
    "\n",
    "# create a subset of the ten largest landmarks in each AOR\n",
    "encounters_aor_agg = encounters_location.sort_values(\n",
    "    ['aor', 'id'], ascending=False).groupby('aor', dropna=False).head(10)\n",
    "\n",
    "# create a list of AORs in the dataset, excluding NAN\n",
    "fub = set(encounters['aor'])\n",
    "fub.remove(np.nan)\n",
    "\n",
    "# function that creates a plot of the top ten largest landmarks when given an AOR\n",
    "def top_landmarks_aggregate(place):\n",
    "    encounters_aor_agg.loc[encounters_aor['aor'] == place].plot(\n",
    "        y='id', x='landmark', kind='barh').invert_yaxis()\n",
    "    plt.title(place + \" \" + str(encounters.loc[encounters['aor'] == place]['id'].count()))\n",
    "    return"
   ]
  },
  {
   "cell_type": "code",
   "execution_count": null,
   "id": "30462f5f",
   "metadata": {},
   "outputs": [],
   "source": [
    "# creates a plot that can select an AOR using a drop down widget\n",
    "widgets.interact(top_landmarks_aggregate, place = fub)"
   ]
  },
  {
   "cell_type": "markdown",
   "id": "260a5f49",
   "metadata": {},
   "source": [
    "## Top Ten Landmarks by AOR (proportions)"
   ]
  },
  {
   "cell_type": "code",
   "execution_count": null,
   "id": "99c1403a",
   "metadata": {},
   "outputs": [],
   "source": [
    "# create new column in subset of encounters by location \n",
    "# that is the sum of all encounters in that AOR\n",
    "encounters_location['aor total'] = encounters_location.groupby(\n",
    "    'aor', sort=False, dropna=False)[\"id\"].transform('sum')\n",
    "\n",
    "# create new column in subset of encounters by location that is the \n",
    "# proportion of encounters in a landmark divided by the total encounters in that AOR\n",
    "encounters_location['aor proportion'] = encounters_location['id']/encounters_location['aor total']\n",
    "\n",
    "# create a subset of the top ten most common landmarks in each AOR\n",
    "encounters_aor_prop = encounters_location.sort_values(['aor', 'id'], \n",
    "                                    ascending=False).groupby('aor', dropna=False).head(10)\n",
    "\n",
    "# function creates a plot of the proportion of the top ten largest landmarks in a given AOR\n",
    "def top_landmarks_proportion(place):\n",
    "    encounters_aor_prop.loc[encounters_aor_prop['aor'] == place].plot(\n",
    "        y='aor proportion', x='landmark', kind='barh').invert_yaxis()\n",
    "    plt.title(place + \" \" + str(encounters.loc[encounters['aor'] == place]['id'].count()))\n",
    "    return"
   ]
  },
  {
   "cell_type": "code",
   "execution_count": null,
   "id": "7b95bbb4",
   "metadata": {},
   "outputs": [],
   "source": [
    "# creates a plot that can select an AOR using a drop down widget\n",
    "widgets.interact(top_landmarks_proportion, place = fub)"
   ]
  },
  {
   "cell_type": "markdown",
   "id": "9beeee98",
   "metadata": {},
   "source": [
    "# Processing Disposition"
   ]
  },
  {
   "cell_type": "code",
   "execution_count": null,
   "id": "d0b0433a",
   "metadata": {},
   "outputs": [],
   "source": [
    "# create subset of encounters with date, processing disposition and ID\n",
    "encounters_by_disposition = encounters[[\"event_date\", \"processing_disposition\", \"id\"]]\n",
    "\n",
    "# count the number of encounters by each type of processing disposition and date\n",
    "encounters_by_disposition = encounters_by_disposition.groupby(\n",
    "    [\"processing_disposition\", \"event_date\"], as_index=False, dropna=False)['id'].count()\n",
    "\n",
    "# pivot df so that index is date and columns are processing disposition \n",
    "# (allows for easy groupby in next line of code)\n",
    "encounters_by_disposition = encounters_by_disposition.pivot(\n",
    "    index='event_date', columns='processing_disposition', values='id')\n",
    "\n",
    "# group by fiscal year\n",
    "encounters_by_disposition = encounters_by_disposition.groupby(\n",
    "    pd.Grouper(freq='AS-OCT'), dropna=False).sum()\n",
    "\n",
    "# plot disposition types over time\n",
    "encounters_by_disposition.plot().legend(loc='center left',bbox_to_anchor=(1.1, 0.5))"
   ]
  },
  {
   "cell_type": "code",
   "execution_count": null,
   "id": "c55c6f61",
   "metadata": {},
   "outputs": [],
   "source": [
    "# transpose table of transposed df to show disposition types over fiscal years\n",
    "encounters_by_disposition.transpose().sort_values(\n",
    "    by=[\"2018-10-01 00:00:00\"], ascending=False).style.format(\"{:,.0f}\")"
   ]
  },
  {
   "cell_type": "markdown",
   "id": "444cfa3b",
   "metadata": {},
   "source": [
    "# Citizenship"
   ]
  },
  {
   "cell_type": "code",
   "execution_count": null,
   "id": "c398765d",
   "metadata": {},
   "outputs": [],
   "source": [
    "# create dataframe of encounter frequency by citizenship\n",
    "enc_cit = encounters.citizenship.value_counts(normalize=True).to_frame()\n",
    "\n",
    "# renames column header\n",
    "enc_cit.columns = [\"encounters\"]\n",
    "\n",
    "# converts column to percent\n",
    "enc_cit = enc_cit*100\n",
    "enc_cit = enc_cit.round(decimals=2)\n",
    "enc_cit = enc_cit.sort_values(by = ['encounters'], ascending=False)\n",
    "enc_cit = enc_cit.astype(str) + '%'\n",
    "\n",
    "# displays results\n",
    "enc_cit"
   ]
  }
 ],
 "metadata": {
  "kernelspec": {
   "display_name": "Python 3 (ipykernel)",
   "language": "python",
   "name": "python3"
  },
  "language_info": {
   "codemirror_mode": {
    "name": "ipython",
    "version": 3
   },
   "file_extension": ".py",
   "mimetype": "text/x-python",
   "name": "python",
   "nbconvert_exporter": "python",
   "pygments_lexer": "ipython3",
   "version": "3.7.11"
  },
  "toc": {
   "base_numbering": 1,
   "nav_menu": {},
   "number_sections": true,
   "sideBar": true,
   "skip_h1_title": false,
   "title_cell": "Table of Contents",
   "title_sidebar": "Contents",
   "toc_cell": false,
   "toc_position": {
    "height": "calc(100% - 180px)",
    "left": "10px",
    "top": "150px",
    "width": "288px"
   },
   "toc_section_display": true,
   "toc_window_display": true
  }
 },
 "nbformat": 4,
 "nbformat_minor": 5
}
