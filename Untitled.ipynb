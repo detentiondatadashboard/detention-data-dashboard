{
 "cells": [
  {
   "cell_type": "code",
   "execution_count": 10,
   "id": "df891168",
   "metadata": {},
   "outputs": [],
   "source": [
    "import detention_data_dashboard"
   ]
  },
  {
   "cell_type": "code",
   "execution_count": 15,
   "id": "56542ccb",
   "metadata": {},
   "outputs": [],
   "source": [
    "import os"
   ]
  },
  {
   "cell_type": "code",
   "execution_count": 18,
   "id": "59535c5f",
   "metadata": {},
   "outputs": [],
   "source": [
    "import matplotlib.testing.compare"
   ]
  },
  {
   "cell_type": "code",
   "execution_count": 17,
   "id": "b96c4a2d",
   "metadata": {},
   "outputs": [],
   "source": [
    "import kaleido"
   ]
  },
  {
   "cell_type": "code",
   "execution_count": 19,
   "id": "6f67b4d0",
   "metadata": {},
   "outputs": [],
   "source": [
    "from PIL import Image"
   ]
  },
  {
   "cell_type": "code",
   "execution_count": 16,
   "id": "0fdfb3c0",
   "metadata": {},
   "outputs": [],
   "source": [
    "data_path = os.path.join(detention_data_dashboard.__path__[0], 'tests')"
   ]
  },
  {
   "cell_type": "code",
   "execution_count": 17,
   "id": "66c5d567",
   "metadata": {},
   "outputs": [
    {
     "data": {
      "text/plain": [
       "'/Users/lucaskolson/Desktop/Data Science Course/detention-data-dashboard/detention_data_dashboard/tests'"
      ]
     },
     "execution_count": 17,
     "metadata": {},
     "output_type": "execute_result"
    }
   ],
   "source": [
    "data_path"
   ]
  },
  {
   "cell_type": "code",
   "execution_count": 20,
   "id": "8a718631",
   "metadata": {},
   "outputs": [],
   "source": [
    "temp = detention_data_dashboard.display_aor_plot(\"All\")"
   ]
  },
  {
   "cell_type": "code",
   "execution_count": 24,
   "id": "8d96adc2",
   "metadata": {
    "scrolled": true
   },
   "outputs": [],
   "source": [
    "temp.write_image(data_path + \"/test_images/\" + \"All1\" + \".png\")"
   ]
  },
  {
   "cell_type": "code",
   "execution_count": 26,
   "id": "cd2c41eb",
   "metadata": {},
   "outputs": [],
   "source": [
    "imageA = data_path + \"/test_images/\" + \"All1\" + \".png\""
   ]
  },
  {
   "cell_type": "code",
   "execution_count": 17,
   "id": "f425efe2",
   "metadata": {},
   "outputs": [],
   "source": [
    "a = Image.open(data_path + \"/test_images/\" + \"West Coast1\" + \".png\")"
   ]
  },
  {
   "cell_type": "code",
   "execution_count": 18,
   "id": "670649cb",
   "metadata": {},
   "outputs": [],
   "source": [
    "a = Image.open(data_path + \"/test_images/\" + \"West Coast1\" + \".png\")\n",
    "newsize = (972, 525)\n",
    "a = a.resize(newsize)\n",
    "a.save(data_path + \"/test_images/\" + \"West Coast\" + \"1.png\", format=\"png\")"
   ]
  },
  {
   "cell_type": "code",
   "execution_count": 22,
   "id": "3ea8c033",
   "metadata": {},
   "outputs": [
    {
     "data": {
      "text/plain": [
       "'/Users/lucaskolson/Desktop/Data Science Course/detention-data-dashboard/detention_data_dashboard/tests/test_images/All.png'"
      ]
     },
     "execution_count": 22,
     "metadata": {},
     "output_type": "execute_result"
    }
   ],
   "source": [
    "imageB = data_path + \"/test_images/\" + \"All\" + \".png\"\n",
    "imageB"
   ]
  },
  {
   "cell_type": "code",
   "execution_count": 28,
   "id": "461bec91",
   "metadata": {},
   "outputs": [],
   "source": [
    "a = matplotlib.testing.compare.compare_images(imageA, imageB, tol=20)"
   ]
  },
  {
   "cell_type": "code",
   "execution_count": 31,
   "id": "10218fed",
   "metadata": {},
   "outputs": [
    {
     "data": {
      "text/plain": [
       "\"<class 'NoneType'>\""
      ]
     },
     "execution_count": 31,
     "metadata": {},
     "output_type": "execute_result"
    }
   ],
   "source": [
    "str(type(a))"
   ]
  },
  {
   "cell_type": "code",
   "execution_count": 11,
   "id": "c4ab57a1",
   "metadata": {},
   "outputs": [
    {
     "data": {
      "text/plain": [
       "['__builtins__',\n",
       " '__cached__',\n",
       " '__doc__',\n",
       " '__file__',\n",
       " '__loader__',\n",
       " '__name__',\n",
       " '__package__',\n",
       " '__path__',\n",
       " '__spec__',\n",
       " 'data_download',\n",
       " 'data_download_arrests_aor',\n",
       " 'data_download_reg',\n",
       " 'display_aor_arrests_plot',\n",
       " 'display_reg_plot',\n",
       " 'figure',\n",
       " 'pd',\n",
       " 'px']"
      ]
     },
     "execution_count": 11,
     "metadata": {},
     "output_type": "execute_result"
    }
   ],
   "source": [
    "dir(detention_data_dashboard)"
   ]
  },
  {
   "cell_type": "code",
   "execution_count": 3,
   "id": "a2f646e7",
   "metadata": {},
   "outputs": [
    {
     "data": {
      "text/html": [
       "<div>\n",
       "<style scoped>\n",
       "    .dataframe tbody tr th:only-of-type {\n",
       "        vertical-align: middle;\n",
       "    }\n",
       "\n",
       "    .dataframe tbody tr th {\n",
       "        vertical-align: top;\n",
       "    }\n",
       "\n",
       "    .dataframe thead th {\n",
       "        text-align: right;\n",
       "    }\n",
       "</style>\n",
       "<table border=\"1\" class=\"dataframe\">\n",
       "  <thead>\n",
       "    <tr style=\"text-align: right;\">\n",
       "      <th></th>\n",
       "      <th>date</th>\n",
       "      <th>encounters</th>\n",
       "      <th>removals</th>\n",
       "      <th>arrests</th>\n",
       "    </tr>\n",
       "  </thead>\n",
       "  <tbody>\n",
       "    <tr>\n",
       "      <th>0</th>\n",
       "      <td>2015-10-01</td>\n",
       "      <td>69792</td>\n",
       "      <td>38493</td>\n",
       "      <td>20683</td>\n",
       "    </tr>\n",
       "    <tr>\n",
       "      <th>1</th>\n",
       "      <td>2016-10-01</td>\n",
       "      <td>83980</td>\n",
       "      <td>39202</td>\n",
       "      <td>23577</td>\n",
       "    </tr>\n",
       "    <tr>\n",
       "      <th>2</th>\n",
       "      <td>2017-10-01</td>\n",
       "      <td>98772</td>\n",
       "      <td>45594</td>\n",
       "      <td>23131</td>\n",
       "    </tr>\n",
       "    <tr>\n",
       "      <th>3</th>\n",
       "      <td>2018-10-01</td>\n",
       "      <td>82557</td>\n",
       "      <td>37567</td>\n",
       "      <td>15303</td>\n",
       "    </tr>\n",
       "  </tbody>\n",
       "</table>\n",
       "</div>"
      ],
      "text/plain": [
       "         date  encounters  removals  arrests\n",
       "0  2015-10-01       69792     38493    20683\n",
       "1  2016-10-01       83980     39202    23577\n",
       "2  2017-10-01       98772     45594    23131\n",
       "3  2018-10-01       82557     37567    15303"
      ]
     },
     "execution_count": 3,
     "metadata": {},
     "output_type": "execute_result"
    }
   ],
   "source": [
    "detention_data_dashboard.data_download(\"West Coast\")"
   ]
  },
  {
   "cell_type": "code",
   "execution_count": 19,
   "id": "d8ae6eac",
   "metadata": {},
   "outputs": [],
   "source": [
    "for location in ['ATL', 'BAL', 'BOS', 'BUF', 'CHI', 'DAL', 'DEN', 'DET', 'ELP', 'HOU', 'HQ', 'LOS', 'MIA', 'NEW', 'NOL','NYC', 'PHI', 'PHO', 'SEA', 'SFR', 'SLC', 'SNA', 'SND', 'SPM', 'WAS']:\n",
    "            data = detention_data_dashboard.data_download_arrests_aor(location)\n",
    "            temp = detention_data_dashboard.display_aor_arrests_plot(data)\n",
    "            temp.write_image(data_path + \"/test_images/\" + location + \".png\")"
   ]
  },
  {
   "cell_type": "code",
   "execution_count": null,
   "id": "8d14c732",
   "metadata": {},
   "outputs": [],
   "source": []
  },
  {
   "cell_type": "code",
   "execution_count": null,
   "id": "1b92a5ad",
   "metadata": {},
   "outputs": [],
   "source": []
  },
  {
   "cell_type": "code",
   "execution_count": null,
   "id": "81e82739",
   "metadata": {},
   "outputs": [],
   "source": []
  },
  {
   "cell_type": "code",
   "execution_count": 15,
   "id": "d6e383f2",
   "metadata": {},
   "outputs": [
    {
     "data": {
      "text/plain": [
       "'/Users/lucaskolson/Desktop/Data Science Course/detention-data-dashboard'"
      ]
     },
     "execution_count": 15,
     "metadata": {},
     "output_type": "execute_result"
    }
   ],
   "source": [
    "%pwd"
   ]
  },
  {
   "cell_type": "code",
   "execution_count": null,
   "id": "b17041eb",
   "metadata": {},
   "outputs": [],
   "source": []
  },
  {
   "cell_type": "code",
   "execution_count": null,
   "id": "8989b38d",
   "metadata": {},
   "outputs": [],
   "source": [
    "import pandas as pd"
   ]
  },
  {
   "cell_type": "code",
   "execution_count": 22,
   "id": "7d00a5d8",
   "metadata": {},
   "outputs": [],
   "source": [
    "def data_download(us_loc):\n",
    "\n",
    "    if us_loc == \"West Coast\":\n",
    "        aor = ['LOS', 'SEA',  'SFR', 'SND']\n",
    "    elif us_loc == \"East Coast\":\n",
    "        aor = ['ATL', 'BAL', 'BOS', 'BUF', 'DET',  'MIA', 'NEW', 'NOL', 'NYC', 'PHI', 'WAS', 'HQ']\n",
    "    elif us_loc == \"Midwest\":\n",
    "        aor = ['CHI', 'SPM']\n",
    "    elif us_loc == \"Southwest\":\n",
    "        aor = ['DAL', 'DEN', 'ELP', 'HOU', 'PHO',  'SLC', 'SNA']\n",
    "    elif us_loc == \"All\":\n",
    "        aor = ['ATL', 'BAL', 'BOS', 'BUF', 'CHI', 'DAL', 'DEN', 'DET', 'ELP', 'HOU', 'HQ', 'LOS', 'MIA', 'NEW', 'NOL','NYC', 'PHI', 'PHO', 'SEA', 'SFR', 'SLC', 'SNA', 'SND', 'SPM', 'WAS']\n",
    "    else:\n",
    "        raise NameError('Please enter in a valid US region')\n",
    "\n",
    "    arrests_by_fy = pd.read_csv(\"./detention_data_dashboard/data/arrests_by_fy.csv\")\n",
    "    encounters_by_fy = pd.read_csv(\"./detention_data_dashboard/data/encounters_by_fy.csv\")\n",
    "    removals_by_fy = pd.read_csv(\"./detention_data_dashboard/data/removals_by_fy.csv\")\n",
    "    date = encounters_by_fy['event_date'].values.tolist()\n",
    "    enc = encounters_by_fy[aor]\n",
    "    rem = removals_by_fy[aor]\n",
    "    arr = arrests_by_fy[aor]\n",
    "    ind = arr.index.tolist()\n",
    "    columns_ = ['date', 'encounters', 'removals', 'arrests']\n",
    "\n",
    "    d = []\n",
    "    for i in ind:\n",
    "        d.append([date[i], sum(enc.iloc[i]), sum(rem.iloc[i]), sum(arr.iloc[i])])\n",
    "    df = pd.DataFrame(data = d, columns = columns_)\n",
    "\n",
    "    return df"
   ]
  },
  {
   "cell_type": "code",
   "execution_count": 7,
   "id": "fdf48b09",
   "metadata": {},
   "outputs": [],
   "source": [
    "frub = detention_data_dashboard.data_download(\"West Coast\")"
   ]
  },
  {
   "cell_type": "code",
   "execution_count": 9,
   "id": "8a8dd98a",
   "metadata": {},
   "outputs": [
    {
     "data": {
      "text/plain": [
       "\"<class 'pandas.core.frame.DataFrame'>\""
      ]
     },
     "execution_count": 9,
     "metadata": {},
     "output_type": "execute_result"
    }
   ],
   "source": [
    "str(type(frub))"
   ]
  },
  {
   "cell_type": "code",
   "execution_count": 2,
   "id": "a405682b",
   "metadata": {},
   "outputs": [],
   "source": [
    "import pandas as pd"
   ]
  },
  {
   "cell_type": "code",
   "execution_count": 11,
   "id": "f86a3ca3",
   "metadata": {},
   "outputs": [],
   "source": [
    "def data_download(us_loc):\n",
    "\n",
    "    if us_loc == \"West Coast\":\n",
    "        aor = ['LOS', 'SEA',  'SFR', 'SND']\n",
    "    elif us_loc == \"East Coast\":\n",
    "        aor = ['ATL', 'BAL', 'BOS', 'BUF', 'DET',  'MIA', 'NEW', 'NOL', 'NYC', 'PHI', 'WAS', 'HQ']\n",
    "    elif us_loc == \"Midwest\":\n",
    "        aor = ['CHI', 'SPM']\n",
    "    elif us_loc == \"Southwest\":\n",
    "        aor = ['DAL', 'DEN', 'ELP', 'HOU', 'PHO',  'SLC', 'SNA']\n",
    "    elif us_loc == \"All\":\n",
    "        aor = ['ATL', 'BAL', 'BOS', 'BUF', 'CHI', 'DAL', 'DEN', 'DET', 'ELP', 'HOU', 'HQ', 'LOS', 'MIA', 'NEW', 'NOL','NYC', 'PHI', 'PHO', 'SEA', 'SFR', 'SLC', 'SNA', 'SND', 'SPM', 'WAS']\n",
    "    else:\n",
    "        raise NameError('Please enter in a valid US region')\n",
    "\n",
    "    arrests_by_fy = pd.read_csv(\"./detention_data_dashboard/data/arrests_by_fy.csv\")\n",
    "    encounters_by_fy = pd.read_csv(\"./detention_data_dashboard/data/encounters_by_fy.csv\")\n",
    "    removals_by_fy = pd.read_csv(\"./detention_data_dashboard/data/removals_by_fy.csv\")\n",
    "    date = encounters_by_fy['event_date'].values.tolist()\n",
    "    enc = encounters_by_fy[aor].to_numpy().flatten()\n",
    "    rem = removals_by_fy[aor].to_numpy().flatten()\n",
    "    arr = arrests_by_fy[aor].to_numpy().flatten()\n",
    "    columns_ = ['date', 'encounters', 'removals', 'arrests']\n",
    "    data_ = []\n",
    "    for i in range(len(date)):\n",
    "        data_.append([date[i],enc[i],rem[i],arr[i]])\n",
    "    temp = pd.DataFrame(data = data_, columns = columns_)\n",
    "    return temp"
   ]
  },
  {
   "cell_type": "code",
   "execution_count": 12,
   "id": "0607bd04",
   "metadata": {},
   "outputs": [
    {
     "data": {
      "text/html": [
       "<div>\n",
       "<style scoped>\n",
       "    .dataframe tbody tr th:only-of-type {\n",
       "        vertical-align: middle;\n",
       "    }\n",
       "\n",
       "    .dataframe tbody tr th {\n",
       "        vertical-align: top;\n",
       "    }\n",
       "\n",
       "    .dataframe thead th {\n",
       "        text-align: right;\n",
       "    }\n",
       "</style>\n",
       "<table border=\"1\" class=\"dataframe\">\n",
       "  <thead>\n",
       "    <tr style=\"text-align: right;\">\n",
       "      <th></th>\n",
       "      <th>date</th>\n",
       "      <th>encounters</th>\n",
       "      <th>removals</th>\n",
       "      <th>arrests</th>\n",
       "    </tr>\n",
       "  </thead>\n",
       "  <tbody>\n",
       "    <tr>\n",
       "      <th>0</th>\n",
       "      <td>2015-10-01</td>\n",
       "      <td>27046</td>\n",
       "      <td>6722</td>\n",
       "      <td>7651</td>\n",
       "    </tr>\n",
       "    <tr>\n",
       "      <th>1</th>\n",
       "      <td>2016-10-01</td>\n",
       "      <td>11986</td>\n",
       "      <td>2124</td>\n",
       "      <td>2698</td>\n",
       "    </tr>\n",
       "    <tr>\n",
       "      <th>2</th>\n",
       "      <td>2017-10-01</td>\n",
       "      <td>21523</td>\n",
       "      <td>5918</td>\n",
       "      <td>6651</td>\n",
       "    </tr>\n",
       "    <tr>\n",
       "      <th>3</th>\n",
       "      <td>2018-10-01</td>\n",
       "      <td>9237</td>\n",
       "      <td>23729</td>\n",
       "      <td>3683</td>\n",
       "    </tr>\n",
       "  </tbody>\n",
       "</table>\n",
       "</div>"
      ],
      "text/plain": [
       "         date  encounters  removals  arrests\n",
       "0  2015-10-01       27046      6722     7651\n",
       "1  2016-10-01       11986      2124     2698\n",
       "2  2017-10-01       21523      5918     6651\n",
       "3  2018-10-01        9237     23729     3683"
      ]
     },
     "execution_count": 12,
     "metadata": {},
     "output_type": "execute_result"
    }
   ],
   "source": [
    "data_download(\"West Coast\")"
   ]
  },
  {
   "cell_type": "code",
   "execution_count": null,
   "id": "b4f054ee",
   "metadata": {},
   "outputs": [],
   "source": []
  },
  {
   "cell_type": "code",
   "execution_count": null,
   "id": "153d8d85",
   "metadata": {},
   "outputs": [],
   "source": []
  },
  {
   "cell_type": "code",
   "execution_count": 1,
   "id": "9d5662eb",
   "metadata": {},
   "outputs": [],
   "source": [
    "import plotly.express as px"
   ]
  },
  {
   "cell_type": "code",
   "execution_count": 26,
   "id": "becfd38a",
   "metadata": {},
   "outputs": [],
   "source": [
    "def display_aor_plot(us_loc):\n",
    "    if us_loc == \"West Coast\":\n",
    "        aor = ['LOS', 'SEA',  'SFR', 'SND']\n",
    "    elif us_loc == \"East Coast\":\n",
    "        aor = ['ATL', 'BAL', 'BOS', 'BUF', 'DET',  'MIA', 'NEW', 'NOL', 'NYC', 'PHI', 'WAS', 'HQ']\n",
    "    elif us_loc == \"Midwest\":\n",
    "        aor = ['CHI', 'SPM']\n",
    "    elif us_loc == \"Southwest\":\n",
    "        aor = ['DAL', 'DEN', 'ELP', 'HOU', 'PHO',  'SLC', 'SNA']\n",
    "    elif us_loc == \"All\":\n",
    "        aor = ['ATL', 'BAL', 'BOS', 'BUF', 'CHI', 'DAL', 'DEN', 'DET', 'ELP', 'HOU', 'HQ', 'LOS', 'MIA', 'NEW', 'NOL','NYC', 'PHI', 'PHO', 'SEA', 'SFR', 'SLC', 'SNA', 'SND', 'SPM', 'WAS']\n",
    "    else:\n",
    "        raise NameError('Please enter in a valid US region')\n",
    "\n",
    "    df = data_download(us_loc)\n",
    "    \n",
    "    fig = px.line(df, x=df['date'], y=[df['encounters'], df['removals'], df['arrests']],\n",
    "              title = \"Encounters, Removals, and Arrests in Region per FY\",\n",
    "              labels=dict(x=\"Fiscal Year\", y=\"Total\"))\n",
    "    fig.update_xaxes(title=\"Fiscal Year\", nticks = 4)\n",
    "    fig.update_yaxes(title=\"Total\")\n",
    "    fig.update_layout(legend_title_text=None)\n",
    "\n",
    "    return fig"
   ]
  },
  {
   "cell_type": "code",
   "execution_count": 10,
   "id": "bc165ddd",
   "metadata": {},
   "outputs": [
    {
     "data": {
      "text/plain": [
       "\"<class 'plotly.graph_objs._figure.Figure'>\""
      ]
     },
     "execution_count": 10,
     "metadata": {},
     "output_type": "execute_result"
    }
   ],
   "source": [
    "str(type(detention_data_dashboard.display_aor_plot(\"All\")))"
   ]
  },
  {
   "cell_type": "code",
   "execution_count": null,
   "id": "d71be977",
   "metadata": {},
   "outputs": [],
   "source": []
  }
 ],
 "metadata": {
  "kernelspec": {
   "display_name": "Python 3 (ipykernel)",
   "language": "python",
   "name": "python3"
  },
  "language_info": {
   "codemirror_mode": {
    "name": "ipython",
    "version": 3
   },
   "file_extension": ".py",
   "mimetype": "text/x-python",
   "name": "python",
   "nbconvert_exporter": "python",
   "pygments_lexer": "ipython3",
   "version": "3.8.11"
  },
  "toc": {
   "base_numbering": 1,
   "nav_menu": {},
   "number_sections": true,
   "sideBar": true,
   "skip_h1_title": false,
   "title_cell": "Table of Contents",
   "title_sidebar": "Contents",
   "toc_cell": false,
   "toc_position": {},
   "toc_section_display": true,
   "toc_window_display": false
  }
 },
 "nbformat": 4,
 "nbformat_minor": 5
}
